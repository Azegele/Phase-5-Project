{
 "cells": [
  {
   "cell_type": "markdown",
   "metadata": {},
   "source": [
    "# **Library Book Recommendation System**\n",
    "---\n",
    "Authors: [Monicah Iwagit](https://github.com/Okodoimonicah), [Bradley Azegele](https://github.com/Azegele), [Emmanuel Kipkorir](), [Belinda Nyamai](), [Femi Kamau](https://github.com/ctrl-Karugu), and [Dennis Kimiri]()"
   ]
  },
  {
   "cell_type": "markdown",
   "metadata": {},
   "source": [
    "## 1. Business Understanding\n",
    "\n",
    "### 1.1 Problem Statement\n",
    ">The tremendous growth and usage of information has led to information overloading where users find it difficult to locate the right information at a specified time. Although there are previous studies conducted on library recommender systems, the datasets used were small compared to the dataset we intend to use hence minimal area coverage. Recommending the right library books is a challenge due to the variety of genres available and the huge collection of books provided. A user finds it difficult to select the most appropriate book that will suit their academic needs, this process consumes a lot of time that the user would have used to sharpen on their desired skills. Additionally, many books in the library are rarely utilized which results in a waste of library resources. Having a personalized recommendation system seeks to predict the preference based on the user’s interest, behavior and information. The application of recommender systems in a library set up solves the problem of difficulty in choosing books and improves utilization rate of library resources. "
   ]
  },
  {
   "cell_type": "markdown",
   "metadata": {},
   "source": [
    "## 2. Data Understanding\n",
    "> The goal of the Data Understanding phase is to provide a solid foundation for the subsequent steps, including data preparation, exploratory data analysis, model development, and evaluation."
   ]
  },
  {
   "cell_type": "markdown",
   "metadata": {},
   "source": [
    "#### Load Libraries"
   ]
  },
  {
   "cell_type": "code",
   "execution_count": 1,
   "metadata": {},
   "outputs": [],
   "source": [
    "# Data Manipulation\n",
    "import pandas as pd\n",
    "import numpy as np\n",
    "import random\n",
    "import re\n",
    "from sklearn.metrics.pairwise import cosine_similarity\n",
    "from sklearn.feature_extraction.text import CountVectorizer\n",
    "\n",
    "# Data Cleaning\n",
    "import re\n",
    "import nltk\n",
    "from nltk.corpus import stopwords\n",
    "from nltk.tokenize import word_tokenize\n",
    "from nltk.stem import PorterStemmer\n",
    "from nltk.stem import WordNetLemmatizer\n",
    "from bs4 import BeautifulSoup\n",
    "\n",
    "# Data Visualization\n",
    "from wordcloud import WordCloud\n",
    "import matplotlib.pyplot as plt\n",
    "import seaborn as sns\n",
    "\n",
    "# Miscellaneous\n",
    "import warnings\n",
    "\n",
    "# Settings\n",
    "warnings.filterwarnings('ignore')\n",
    "pd.set_option('display.max_columns', None)\n",
    "pd.set_option('display.max_colwidth', None)"
   ]
  },
  {
   "cell_type": "markdown",
   "metadata": {},
   "source": [
    "### 2.1 Collect Initial Data\n",
    "> The goal of this section is to acquire the necessary data and load it into the notebook.\n",
    "\n",
    "> The data used in this project was sourced from 2 different sources:\n",
    ">   1. The first was source was from Cai-Nicolas Ziegler in a 4-week crawl (August-September [2004]) in the University of Freiburg, Germany. This can be found [here](http://www2.informatik.uni-freiburg.de/~cziegler/BX/). The data obtained are 3 datasets with information on [users](./data/BX-Users.csv), [ratings](./data/BX-Book-Ratings.csv) and [books](./data/BX-Books.csv) from a library.\n",
    ">\n",
    ">   2. The second set of data was sourced from the [Google Books API](https://developers.google.com/books). This data was obtained by using ISBNs in the books dataset from the first source. The script used to extract the data can be found [here](./make_dataset.py). This data was then stored in csv format and can be found [here](./data/books.csv)."
   ]
  },
  {
   "cell_type": "markdown",
   "metadata": {},
   "source": [
    "#### Load Data"
   ]
  },
  {
   "cell_type": "code",
   "execution_count": 2,
   "metadata": {},
   "outputs": [
    {
     "name": "stderr",
     "output_type": "stream",
     "text": [
      "b'Skipping line 6452: expected 8 fields, saw 9\\nSkipping line 43667: expected 8 fields, saw 10\\nSkipping line 51751: expected 8 fields, saw 9\\n'\n",
      "b'Skipping line 92038: expected 8 fields, saw 9\\nSkipping line 104319: expected 8 fields, saw 9\\nSkipping line 121768: expected 8 fields, saw 9\\n'\n",
      "b'Skipping line 144058: expected 8 fields, saw 9\\nSkipping line 150789: expected 8 fields, saw 9\\nSkipping line 157128: expected 8 fields, saw 9\\nSkipping line 180189: expected 8 fields, saw 9\\nSkipping line 185738: expected 8 fields, saw 9\\n'\n",
      "b'Skipping line 209388: expected 8 fields, saw 9\\nSkipping line 220626: expected 8 fields, saw 9\\nSkipping line 227933: expected 8 fields, saw 11\\nSkipping line 228957: expected 8 fields, saw 10\\nSkipping line 245933: expected 8 fields, saw 9\\nSkipping line 251296: expected 8 fields, saw 9\\nSkipping line 259941: expected 8 fields, saw 9\\nSkipping line 261529: expected 8 fields, saw 9\\n'\n"
     ]
    }
   ],
   "source": [
    "# (Source 1)\n",
    "ratings = pd.read_csv(\"data/BX-Book-Ratings.csv\", sep=\";\", error_bad_lines=False, encoding=\"latin-1\")\n",
    "books = pd.read_csv(\"data/BX-Books.csv\", sep=\";\", error_bad_lines=False, encoding=\"latin-1\")\n",
    "users = pd.read_csv(\"data/BX-Users.csv\", sep=\";\", error_bad_lines=False, encoding=\"latin-1\")\n",
    "\n",
    "# (Source 2)\n",
    "books_extra = pd.read_csv(\"data/api-books.csv\", dtype={\"join_isbn_10\": str})"
   ]
  },
  {
   "cell_type": "markdown",
   "metadata": {},
   "source": [
    "### 2.2 Describe Data\n",
    "> The goal of this section is to examine the data and document its surface properties."
   ]
  },
  {
   "cell_type": "code",
   "execution_count": 3,
   "metadata": {},
   "outputs": [],
   "source": [
    "# Define class to describe the data \n",
    "class DescribeData():\n",
    "    \"\"\"This class is used to describe the data in a DataFrame.\"\"\"\n",
    "    \n",
    "    def __init__(self, df) -> None:\n",
    "        \n",
    "        # Get the DataFrame\n",
    "        self.df = df\n",
    "        \n",
    "        # Get the datatypes of the columns in the DataFrame\n",
    "        self.datatypes = df.dtypes\n",
    "         \n",
    "        # Get the shape of the DataFrame\n",
    "        self.shape = f\"The shape of the DataFrame is {df.shape}\\n\\nRecords: {df.shape[0]}\\nColumns: {df.shape[1]}\"\n",
    "        \n",
    "        # Get the number of missing values in each column\n",
    "        self.missing = f\"There are a total of {df.isnull().sum().values.sum()} missing values in the DataFrame.\\n\\n{df.isnull().sum()}\"\n",
    "        \n",
    "        # Get the number of duplicate rows\n",
    "        self.duplicates = f\"There are {df.duplicated().sum()} duplicated records in the DataFrame.\""
   ]
  },
  {
   "cell_type": "markdown",
   "metadata": {},
   "source": [
    "#### 2.2.1 `ratings`"
   ]
  },
  {
   "cell_type": "code",
   "execution_count": 4,
   "metadata": {},
   "outputs": [],
   "source": [
    "# Create an instance of the 'DescribeData' class for the 'ratings' DataFrame\n",
    "rt = DescribeData(ratings)"
   ]
  },
  {
   "cell_type": "code",
   "execution_count": 5,
   "metadata": {},
   "outputs": [
    {
     "data": {
      "text/html": [
       "<div>\n",
       "<style scoped>\n",
       "    .dataframe tbody tr th:only-of-type {\n",
       "        vertical-align: middle;\n",
       "    }\n",
       "\n",
       "    .dataframe tbody tr th {\n",
       "        vertical-align: top;\n",
       "    }\n",
       "\n",
       "    .dataframe thead th {\n",
       "        text-align: right;\n",
       "    }\n",
       "</style>\n",
       "<table border=\"1\" class=\"dataframe\">\n",
       "  <thead>\n",
       "    <tr style=\"text-align: right;\">\n",
       "      <th></th>\n",
       "      <th>User-ID</th>\n",
       "      <th>ISBN</th>\n",
       "      <th>Book-Rating</th>\n",
       "    </tr>\n",
       "  </thead>\n",
       "  <tbody>\n",
       "    <tr>\n",
       "      <th>0</th>\n",
       "      <td>276725</td>\n",
       "      <td>034545104X</td>\n",
       "      <td>0</td>\n",
       "    </tr>\n",
       "    <tr>\n",
       "      <th>1</th>\n",
       "      <td>276726</td>\n",
       "      <td>0155061224</td>\n",
       "      <td>5</td>\n",
       "    </tr>\n",
       "    <tr>\n",
       "      <th>2</th>\n",
       "      <td>276727</td>\n",
       "      <td>0446520802</td>\n",
       "      <td>0</td>\n",
       "    </tr>\n",
       "    <tr>\n",
       "      <th>3</th>\n",
       "      <td>276729</td>\n",
       "      <td>052165615X</td>\n",
       "      <td>3</td>\n",
       "    </tr>\n",
       "    <tr>\n",
       "      <th>4</th>\n",
       "      <td>276729</td>\n",
       "      <td>0521795028</td>\n",
       "      <td>6</td>\n",
       "    </tr>\n",
       "  </tbody>\n",
       "</table>\n",
       "</div>"
      ],
      "text/plain": [
       "   User-ID        ISBN  Book-Rating\n",
       "0   276725  034545104X            0\n",
       "1   276726  0155061224            5\n",
       "2   276727  0446520802            0\n",
       "3   276729  052165615X            3\n",
       "4   276729  0521795028            6"
      ]
     },
     "execution_count": 5,
     "metadata": {},
     "output_type": "execute_result"
    }
   ],
   "source": [
    "# Preview the 'ratings' DataFrame\n",
    "rt.df.head()"
   ]
  },
  {
   "cell_type": "code",
   "execution_count": 6,
   "metadata": {},
   "outputs": [
    {
     "name": "stdout",
     "output_type": "stream",
     "text": [
      "<class 'pandas.core.frame.DataFrame'>\n",
      "RangeIndex: 1149780 entries, 0 to 1149779\n",
      "Data columns (total 3 columns):\n",
      " #   Column       Non-Null Count    Dtype \n",
      "---  ------       --------------    ----- \n",
      " 0   User-ID      1149780 non-null  int64 \n",
      " 1   ISBN         1149780 non-null  object\n",
      " 2   Book-Rating  1149780 non-null  int64 \n",
      "dtypes: int64(2), object(1)\n",
      "memory usage: 26.3+ MB\n"
     ]
    }
   ],
   "source": [
    "# Inspect the information about the DataFrame\n",
    "rt.df.info()"
   ]
  },
  {
   "cell_type": "code",
   "execution_count": 7,
   "metadata": {},
   "outputs": [
    {
     "name": "stdout",
     "output_type": "stream",
     "text": [
      "The shape of the DataFrame is (1149780, 3)\n",
      "\n",
      "Records: 1149780\n",
      "Columns: 3\n"
     ]
    }
   ],
   "source": [
    "# Inspect the shape of the DataFrame\n",
    "print(rt.shape)"
   ]
  },
  {
   "cell_type": "code",
   "execution_count": 8,
   "metadata": {},
   "outputs": [
    {
     "name": "stdout",
     "output_type": "stream",
     "text": [
      "User-ID         int64\n",
      "ISBN           object\n",
      "Book-Rating     int64\n",
      "dtype: object\n"
     ]
    }
   ],
   "source": [
    "# Inspect the datatypes of the columns in the DataFrame\n",
    "print(rt.datatypes)"
   ]
  },
  {
   "cell_type": "code",
   "execution_count": 9,
   "metadata": {},
   "outputs": [
    {
     "data": {
      "text/html": [
       "<div>\n",
       "<style scoped>\n",
       "    .dataframe tbody tr th:only-of-type {\n",
       "        vertical-align: middle;\n",
       "    }\n",
       "\n",
       "    .dataframe tbody tr th {\n",
       "        vertical-align: top;\n",
       "    }\n",
       "\n",
       "    .dataframe thead th {\n",
       "        text-align: right;\n",
       "    }\n",
       "</style>\n",
       "<table border=\"1\" class=\"dataframe\">\n",
       "  <thead>\n",
       "    <tr style=\"text-align: right;\">\n",
       "      <th></th>\n",
       "      <th>User-ID</th>\n",
       "      <th>Book-Rating</th>\n",
       "    </tr>\n",
       "  </thead>\n",
       "  <tbody>\n",
       "    <tr>\n",
       "      <th>count</th>\n",
       "      <td>1.149780e+06</td>\n",
       "      <td>1.149780e+06</td>\n",
       "    </tr>\n",
       "    <tr>\n",
       "      <th>mean</th>\n",
       "      <td>1.403864e+05</td>\n",
       "      <td>2.866950e+00</td>\n",
       "    </tr>\n",
       "    <tr>\n",
       "      <th>std</th>\n",
       "      <td>8.056228e+04</td>\n",
       "      <td>3.854184e+00</td>\n",
       "    </tr>\n",
       "    <tr>\n",
       "      <th>min</th>\n",
       "      <td>2.000000e+00</td>\n",
       "      <td>0.000000e+00</td>\n",
       "    </tr>\n",
       "    <tr>\n",
       "      <th>25%</th>\n",
       "      <td>7.034500e+04</td>\n",
       "      <td>0.000000e+00</td>\n",
       "    </tr>\n",
       "    <tr>\n",
       "      <th>50%</th>\n",
       "      <td>1.410100e+05</td>\n",
       "      <td>0.000000e+00</td>\n",
       "    </tr>\n",
       "    <tr>\n",
       "      <th>75%</th>\n",
       "      <td>2.110280e+05</td>\n",
       "      <td>7.000000e+00</td>\n",
       "    </tr>\n",
       "    <tr>\n",
       "      <th>max</th>\n",
       "      <td>2.788540e+05</td>\n",
       "      <td>1.000000e+01</td>\n",
       "    </tr>\n",
       "  </tbody>\n",
       "</table>\n",
       "</div>"
      ],
      "text/plain": [
       "            User-ID   Book-Rating\n",
       "count  1.149780e+06  1.149780e+06\n",
       "mean   1.403864e+05  2.866950e+00\n",
       "std    8.056228e+04  3.854184e+00\n",
       "min    2.000000e+00  0.000000e+00\n",
       "25%    7.034500e+04  0.000000e+00\n",
       "50%    1.410100e+05  0.000000e+00\n",
       "75%    2.110280e+05  7.000000e+00\n",
       "max    2.788540e+05  1.000000e+01"
      ]
     },
     "execution_count": 9,
     "metadata": {},
     "output_type": "execute_result"
    }
   ],
   "source": [
    "# Inspect the summary statistics of the DataFrame\n",
    "rt.df.describe()"
   ]
  },
  {
   "cell_type": "code",
   "execution_count": 10,
   "metadata": {},
   "outputs": [
    {
     "name": "stdout",
     "output_type": "stream",
     "text": [
      "There are a total of 0 missing values in the DataFrame.\n",
      "\n",
      "User-ID        0\n",
      "ISBN           0\n",
      "Book-Rating    0\n",
      "dtype: int64\n"
     ]
    }
   ],
   "source": [
    "# Inspect the number of missing values in each column\n",
    "print(rt.missing)"
   ]
  },
  {
   "cell_type": "code",
   "execution_count": 11,
   "metadata": {},
   "outputs": [
    {
     "name": "stdout",
     "output_type": "stream",
     "text": [
      "There are 0 duplicated records in the DataFrame.\n"
     ]
    }
   ],
   "source": [
    "# Inspect the duplicates in the DataFrame\n",
    "print(rt.duplicates)"
   ]
  },
  {
   "cell_type": "markdown",
   "metadata": {},
   "source": [
    "[**Ratings Dataset**](./data/BX-Book-Ratings.csv)\n",
    "\n",
    ">* Spans **3** columns and **1,149,780** rows.\n",
    "\n",
    ">* Contains **2** unique datatypes: \n",
    ">    * **int64**\n",
    ">    * **object**\n",
    "\n",
    ">* Has no missing values\n",
    "\n",
    ">* Has no duplicates"
   ]
  },
  {
   "cell_type": "markdown",
   "metadata": {},
   "source": [
    "#### 2.2.2 `books` "
   ]
  },
  {
   "cell_type": "code",
   "execution_count": 12,
   "metadata": {},
   "outputs": [],
   "source": [
    "# Instantiate the 'DescribeData' class for the 'books' DataFrame\n",
    "bk = DescribeData(books)"
   ]
  },
  {
   "cell_type": "code",
   "execution_count": 13,
   "metadata": {},
   "outputs": [
    {
     "data": {
      "text/html": [
       "<div>\n",
       "<style scoped>\n",
       "    .dataframe tbody tr th:only-of-type {\n",
       "        vertical-align: middle;\n",
       "    }\n",
       "\n",
       "    .dataframe tbody tr th {\n",
       "        vertical-align: top;\n",
       "    }\n",
       "\n",
       "    .dataframe thead th {\n",
       "        text-align: right;\n",
       "    }\n",
       "</style>\n",
       "<table border=\"1\" class=\"dataframe\">\n",
       "  <thead>\n",
       "    <tr style=\"text-align: right;\">\n",
       "      <th></th>\n",
       "      <th>ISBN</th>\n",
       "      <th>Book-Title</th>\n",
       "      <th>Book-Author</th>\n",
       "      <th>Year-Of-Publication</th>\n",
       "      <th>Publisher</th>\n",
       "      <th>Image-URL-S</th>\n",
       "      <th>Image-URL-M</th>\n",
       "      <th>Image-URL-L</th>\n",
       "    </tr>\n",
       "  </thead>\n",
       "  <tbody>\n",
       "    <tr>\n",
       "      <th>0</th>\n",
       "      <td>0195153448</td>\n",
       "      <td>Classical Mythology</td>\n",
       "      <td>Mark P. O. Morford</td>\n",
       "      <td>2002</td>\n",
       "      <td>Oxford University Press</td>\n",
       "      <td>http://images.amazon.com/images/P/0195153448.01.THUMBZZZ.jpg</td>\n",
       "      <td>http://images.amazon.com/images/P/0195153448.01.MZZZZZZZ.jpg</td>\n",
       "      <td>http://images.amazon.com/images/P/0195153448.01.LZZZZZZZ.jpg</td>\n",
       "    </tr>\n",
       "    <tr>\n",
       "      <th>1</th>\n",
       "      <td>0002005018</td>\n",
       "      <td>Clara Callan</td>\n",
       "      <td>Richard Bruce Wright</td>\n",
       "      <td>2001</td>\n",
       "      <td>HarperFlamingo Canada</td>\n",
       "      <td>http://images.amazon.com/images/P/0002005018.01.THUMBZZZ.jpg</td>\n",
       "      <td>http://images.amazon.com/images/P/0002005018.01.MZZZZZZZ.jpg</td>\n",
       "      <td>http://images.amazon.com/images/P/0002005018.01.LZZZZZZZ.jpg</td>\n",
       "    </tr>\n",
       "    <tr>\n",
       "      <th>2</th>\n",
       "      <td>0060973129</td>\n",
       "      <td>Decision in Normandy</td>\n",
       "      <td>Carlo D'Este</td>\n",
       "      <td>1991</td>\n",
       "      <td>HarperPerennial</td>\n",
       "      <td>http://images.amazon.com/images/P/0060973129.01.THUMBZZZ.jpg</td>\n",
       "      <td>http://images.amazon.com/images/P/0060973129.01.MZZZZZZZ.jpg</td>\n",
       "      <td>http://images.amazon.com/images/P/0060973129.01.LZZZZZZZ.jpg</td>\n",
       "    </tr>\n",
       "    <tr>\n",
       "      <th>3</th>\n",
       "      <td>0374157065</td>\n",
       "      <td>Flu: The Story of the Great Influenza Pandemic of 1918 and the Search for the Virus That Caused It</td>\n",
       "      <td>Gina Bari Kolata</td>\n",
       "      <td>1999</td>\n",
       "      <td>Farrar Straus Giroux</td>\n",
       "      <td>http://images.amazon.com/images/P/0374157065.01.THUMBZZZ.jpg</td>\n",
       "      <td>http://images.amazon.com/images/P/0374157065.01.MZZZZZZZ.jpg</td>\n",
       "      <td>http://images.amazon.com/images/P/0374157065.01.LZZZZZZZ.jpg</td>\n",
       "    </tr>\n",
       "    <tr>\n",
       "      <th>4</th>\n",
       "      <td>0393045218</td>\n",
       "      <td>The Mummies of Urumchi</td>\n",
       "      <td>E. J. W. Barber</td>\n",
       "      <td>1999</td>\n",
       "      <td>W. W. Norton &amp;amp; Company</td>\n",
       "      <td>http://images.amazon.com/images/P/0393045218.01.THUMBZZZ.jpg</td>\n",
       "      <td>http://images.amazon.com/images/P/0393045218.01.MZZZZZZZ.jpg</td>\n",
       "      <td>http://images.amazon.com/images/P/0393045218.01.LZZZZZZZ.jpg</td>\n",
       "    </tr>\n",
       "  </tbody>\n",
       "</table>\n",
       "</div>"
      ],
      "text/plain": [
       "         ISBN  \\\n",
       "0  0195153448   \n",
       "1  0002005018   \n",
       "2  0060973129   \n",
       "3  0374157065   \n",
       "4  0393045218   \n",
       "\n",
       "                                                                                           Book-Title  \\\n",
       "0                                                                                 Classical Mythology   \n",
       "1                                                                                        Clara Callan   \n",
       "2                                                                                Decision in Normandy   \n",
       "3  Flu: The Story of the Great Influenza Pandemic of 1918 and the Search for the Virus That Caused It   \n",
       "4                                                                              The Mummies of Urumchi   \n",
       "\n",
       "            Book-Author Year-Of-Publication                   Publisher  \\\n",
       "0    Mark P. O. Morford                2002     Oxford University Press   \n",
       "1  Richard Bruce Wright                2001       HarperFlamingo Canada   \n",
       "2          Carlo D'Este                1991             HarperPerennial   \n",
       "3      Gina Bari Kolata                1999        Farrar Straus Giroux   \n",
       "4       E. J. W. Barber                1999  W. W. Norton &amp; Company   \n",
       "\n",
       "                                                    Image-URL-S  \\\n",
       "0  http://images.amazon.com/images/P/0195153448.01.THUMBZZZ.jpg   \n",
       "1  http://images.amazon.com/images/P/0002005018.01.THUMBZZZ.jpg   \n",
       "2  http://images.amazon.com/images/P/0060973129.01.THUMBZZZ.jpg   \n",
       "3  http://images.amazon.com/images/P/0374157065.01.THUMBZZZ.jpg   \n",
       "4  http://images.amazon.com/images/P/0393045218.01.THUMBZZZ.jpg   \n",
       "\n",
       "                                                    Image-URL-M  \\\n",
       "0  http://images.amazon.com/images/P/0195153448.01.MZZZZZZZ.jpg   \n",
       "1  http://images.amazon.com/images/P/0002005018.01.MZZZZZZZ.jpg   \n",
       "2  http://images.amazon.com/images/P/0060973129.01.MZZZZZZZ.jpg   \n",
       "3  http://images.amazon.com/images/P/0374157065.01.MZZZZZZZ.jpg   \n",
       "4  http://images.amazon.com/images/P/0393045218.01.MZZZZZZZ.jpg   \n",
       "\n",
       "                                                    Image-URL-L  \n",
       "0  http://images.amazon.com/images/P/0195153448.01.LZZZZZZZ.jpg  \n",
       "1  http://images.amazon.com/images/P/0002005018.01.LZZZZZZZ.jpg  \n",
       "2  http://images.amazon.com/images/P/0060973129.01.LZZZZZZZ.jpg  \n",
       "3  http://images.amazon.com/images/P/0374157065.01.LZZZZZZZ.jpg  \n",
       "4  http://images.amazon.com/images/P/0393045218.01.LZZZZZZZ.jpg  "
      ]
     },
     "execution_count": 13,
     "metadata": {},
     "output_type": "execute_result"
    }
   ],
   "source": [
    "# Preview the 'books' DataFrame\n",
    "bk.df.head()"
   ]
  },
  {
   "cell_type": "code",
   "execution_count": 14,
   "metadata": {},
   "outputs": [
    {
     "name": "stdout",
     "output_type": "stream",
     "text": [
      "<class 'pandas.core.frame.DataFrame'>\n",
      "RangeIndex: 271360 entries, 0 to 271359\n",
      "Data columns (total 8 columns):\n",
      " #   Column               Non-Null Count   Dtype \n",
      "---  ------               --------------   ----- \n",
      " 0   ISBN                 271360 non-null  object\n",
      " 1   Book-Title           271360 non-null  object\n",
      " 2   Book-Author          271359 non-null  object\n",
      " 3   Year-Of-Publication  271360 non-null  object\n",
      " 4   Publisher            271358 non-null  object\n",
      " 5   Image-URL-S          271360 non-null  object\n",
      " 6   Image-URL-M          271360 non-null  object\n",
      " 7   Image-URL-L          271357 non-null  object\n",
      "dtypes: object(8)\n",
      "memory usage: 16.6+ MB\n"
     ]
    }
   ],
   "source": [
    "# Inspect the information about the DataFrame\n",
    "bk.df.info()"
   ]
  },
  {
   "cell_type": "code",
   "execution_count": 15,
   "metadata": {},
   "outputs": [
    {
     "name": "stdout",
     "output_type": "stream",
     "text": [
      "The shape of the DataFrame is (271360, 8)\n",
      "\n",
      "Records: 271360\n",
      "Columns: 8\n"
     ]
    }
   ],
   "source": [
    "# Inspect the shape of the DataFrame\n",
    "print(bk.shape)"
   ]
  },
  {
   "cell_type": "code",
   "execution_count": 16,
   "metadata": {},
   "outputs": [
    {
     "name": "stdout",
     "output_type": "stream",
     "text": [
      "ISBN                   object\n",
      "Book-Title             object\n",
      "Book-Author            object\n",
      "Year-Of-Publication    object\n",
      "Publisher              object\n",
      "Image-URL-S            object\n",
      "Image-URL-M            object\n",
      "Image-URL-L            object\n",
      "dtype: object\n"
     ]
    }
   ],
   "source": [
    "# Inspect the datatypes of the columns in the DataFrame\n",
    "print(bk.datatypes)"
   ]
  },
  {
   "cell_type": "code",
   "execution_count": 17,
   "metadata": {},
   "outputs": [
    {
     "name": "stdout",
     "output_type": "stream",
     "text": [
      "There are a total of 6 missing values in the DataFrame.\n",
      "\n",
      "ISBN                   0\n",
      "Book-Title             0\n",
      "Book-Author            1\n",
      "Year-Of-Publication    0\n",
      "Publisher              2\n",
      "Image-URL-S            0\n",
      "Image-URL-M            0\n",
      "Image-URL-L            3\n",
      "dtype: int64\n"
     ]
    }
   ],
   "source": [
    "# Inspect the missing values in the DataFrame\n",
    "print(bk.missing)"
   ]
  },
  {
   "cell_type": "code",
   "execution_count": 18,
   "metadata": {},
   "outputs": [
    {
     "name": "stdout",
     "output_type": "stream",
     "text": [
      "There are 0 duplicated records in the DataFrame.\n"
     ]
    }
   ],
   "source": [
    "# Inspect the duplicates in the DataFrame\n",
    "print(bk.duplicates)"
   ]
  },
  {
   "cell_type": "markdown",
   "metadata": {},
   "source": [
    "[**Books Dataset**](./data/BX-Books.csv)\n",
    "\n",
    ">* Spans **8** columns and **271,359** rows.\n",
    "\n",
    ">* Contains 1 unique datatype: \n",
    ">   * **object**\n",
    "\n",
    ">* Has **6** missing values:\n",
    ">   * Book-Author: **1** \n",
    ">   * Publisher: **2**\n",
    ">   * Image-URL-L: **3**\n",
    "\n",
    ">* Has no duplicates"
   ]
  },
  {
   "cell_type": "markdown",
   "metadata": {},
   "source": [
    "#### 2.2.3 `users` "
   ]
  },
  {
   "cell_type": "code",
   "execution_count": 19,
   "metadata": {},
   "outputs": [],
   "source": [
    "# Instantiate the 'DescribeData' class for the 'users' DataFrame\n",
    "ur = DescribeData(users)"
   ]
  },
  {
   "cell_type": "code",
   "execution_count": 20,
   "metadata": {},
   "outputs": [
    {
     "data": {
      "text/html": [
       "<div>\n",
       "<style scoped>\n",
       "    .dataframe tbody tr th:only-of-type {\n",
       "        vertical-align: middle;\n",
       "    }\n",
       "\n",
       "    .dataframe tbody tr th {\n",
       "        vertical-align: top;\n",
       "    }\n",
       "\n",
       "    .dataframe thead th {\n",
       "        text-align: right;\n",
       "    }\n",
       "</style>\n",
       "<table border=\"1\" class=\"dataframe\">\n",
       "  <thead>\n",
       "    <tr style=\"text-align: right;\">\n",
       "      <th></th>\n",
       "      <th>User-ID</th>\n",
       "      <th>Location</th>\n",
       "      <th>Age</th>\n",
       "    </tr>\n",
       "  </thead>\n",
       "  <tbody>\n",
       "    <tr>\n",
       "      <th>0</th>\n",
       "      <td>1</td>\n",
       "      <td>nyc, new york, usa</td>\n",
       "      <td>NaN</td>\n",
       "    </tr>\n",
       "    <tr>\n",
       "      <th>1</th>\n",
       "      <td>2</td>\n",
       "      <td>stockton, california, usa</td>\n",
       "      <td>18.0</td>\n",
       "    </tr>\n",
       "    <tr>\n",
       "      <th>2</th>\n",
       "      <td>3</td>\n",
       "      <td>moscow, yukon territory, russia</td>\n",
       "      <td>NaN</td>\n",
       "    </tr>\n",
       "    <tr>\n",
       "      <th>3</th>\n",
       "      <td>4</td>\n",
       "      <td>porto, v.n.gaia, portugal</td>\n",
       "      <td>17.0</td>\n",
       "    </tr>\n",
       "    <tr>\n",
       "      <th>4</th>\n",
       "      <td>5</td>\n",
       "      <td>farnborough, hants, united kingdom</td>\n",
       "      <td>NaN</td>\n",
       "    </tr>\n",
       "  </tbody>\n",
       "</table>\n",
       "</div>"
      ],
      "text/plain": [
       "   User-ID                            Location   Age\n",
       "0        1                  nyc, new york, usa   NaN\n",
       "1        2           stockton, california, usa  18.0\n",
       "2        3     moscow, yukon territory, russia   NaN\n",
       "3        4           porto, v.n.gaia, portugal  17.0\n",
       "4        5  farnborough, hants, united kingdom   NaN"
      ]
     },
     "execution_count": 20,
     "metadata": {},
     "output_type": "execute_result"
    }
   ],
   "source": [
    "# Preview the 'users' DataFrame\n",
    "ur.df.head()"
   ]
  },
  {
   "cell_type": "code",
   "execution_count": 21,
   "metadata": {},
   "outputs": [
    {
     "name": "stdout",
     "output_type": "stream",
     "text": [
      "<class 'pandas.core.frame.DataFrame'>\n",
      "RangeIndex: 278858 entries, 0 to 278857\n",
      "Data columns (total 3 columns):\n",
      " #   Column    Non-Null Count   Dtype  \n",
      "---  ------    --------------   -----  \n",
      " 0   User-ID   278858 non-null  int64  \n",
      " 1   Location  278858 non-null  object \n",
      " 2   Age       168096 non-null  float64\n",
      "dtypes: float64(1), int64(1), object(1)\n",
      "memory usage: 6.4+ MB\n"
     ]
    }
   ],
   "source": [
    "# Inspect the information about the DataFrame\n",
    "ur.df.info()"
   ]
  },
  {
   "cell_type": "code",
   "execution_count": 22,
   "metadata": {},
   "outputs": [
    {
     "name": "stdout",
     "output_type": "stream",
     "text": [
      "The shape of the DataFrame is (278858, 3)\n",
      "\n",
      "Records: 278858\n",
      "Columns: 3\n"
     ]
    }
   ],
   "source": [
    "# Inspect the shape of the DataFrame\n",
    "print(ur.shape)"
   ]
  },
  {
   "cell_type": "code",
   "execution_count": 23,
   "metadata": {},
   "outputs": [
    {
     "name": "stdout",
     "output_type": "stream",
     "text": [
      "User-ID       int64\n",
      "Location     object\n",
      "Age         float64\n",
      "dtype: object\n"
     ]
    }
   ],
   "source": [
    "# Inspect the datatypes of the columns in the DataFrame\n",
    "print(ur.datatypes)"
   ]
  },
  {
   "cell_type": "code",
   "execution_count": 24,
   "metadata": {},
   "outputs": [
    {
     "data": {
      "text/html": [
       "<div>\n",
       "<style scoped>\n",
       "    .dataframe tbody tr th:only-of-type {\n",
       "        vertical-align: middle;\n",
       "    }\n",
       "\n",
       "    .dataframe tbody tr th {\n",
       "        vertical-align: top;\n",
       "    }\n",
       "\n",
       "    .dataframe thead th {\n",
       "        text-align: right;\n",
       "    }\n",
       "</style>\n",
       "<table border=\"1\" class=\"dataframe\">\n",
       "  <thead>\n",
       "    <tr style=\"text-align: right;\">\n",
       "      <th></th>\n",
       "      <th>User-ID</th>\n",
       "      <th>Age</th>\n",
       "    </tr>\n",
       "  </thead>\n",
       "  <tbody>\n",
       "    <tr>\n",
       "      <th>count</th>\n",
       "      <td>278858.00000</td>\n",
       "      <td>168096.000000</td>\n",
       "    </tr>\n",
       "    <tr>\n",
       "      <th>mean</th>\n",
       "      <td>139429.50000</td>\n",
       "      <td>34.751434</td>\n",
       "    </tr>\n",
       "    <tr>\n",
       "      <th>std</th>\n",
       "      <td>80499.51502</td>\n",
       "      <td>14.428097</td>\n",
       "    </tr>\n",
       "    <tr>\n",
       "      <th>min</th>\n",
       "      <td>1.00000</td>\n",
       "      <td>0.000000</td>\n",
       "    </tr>\n",
       "    <tr>\n",
       "      <th>25%</th>\n",
       "      <td>69715.25000</td>\n",
       "      <td>24.000000</td>\n",
       "    </tr>\n",
       "    <tr>\n",
       "      <th>50%</th>\n",
       "      <td>139429.50000</td>\n",
       "      <td>32.000000</td>\n",
       "    </tr>\n",
       "    <tr>\n",
       "      <th>75%</th>\n",
       "      <td>209143.75000</td>\n",
       "      <td>44.000000</td>\n",
       "    </tr>\n",
       "    <tr>\n",
       "      <th>max</th>\n",
       "      <td>278858.00000</td>\n",
       "      <td>244.000000</td>\n",
       "    </tr>\n",
       "  </tbody>\n",
       "</table>\n",
       "</div>"
      ],
      "text/plain": [
       "            User-ID            Age\n",
       "count  278858.00000  168096.000000\n",
       "mean   139429.50000      34.751434\n",
       "std     80499.51502      14.428097\n",
       "min         1.00000       0.000000\n",
       "25%     69715.25000      24.000000\n",
       "50%    139429.50000      32.000000\n",
       "75%    209143.75000      44.000000\n",
       "max    278858.00000     244.000000"
      ]
     },
     "execution_count": 24,
     "metadata": {},
     "output_type": "execute_result"
    }
   ],
   "source": [
    "# Inspect the summary statistics of the DataFrame\n",
    "ur.df.describe()"
   ]
  },
  {
   "cell_type": "code",
   "execution_count": 25,
   "metadata": {},
   "outputs": [
    {
     "name": "stdout",
     "output_type": "stream",
     "text": [
      "There are a total of 110762 missing values in the DataFrame.\n",
      "\n",
      "User-ID          0\n",
      "Location         0\n",
      "Age         110762\n",
      "dtype: int64\n"
     ]
    }
   ],
   "source": [
    "# Inspect the missing values in the DataFrame\n",
    "print(ur.missing)"
   ]
  },
  {
   "cell_type": "code",
   "execution_count": 26,
   "metadata": {},
   "outputs": [
    {
     "name": "stdout",
     "output_type": "stream",
     "text": [
      "There are 0 duplicated records in the DataFrame.\n"
     ]
    }
   ],
   "source": [
    "# Inspect the duplicates in the DataFrame\n",
    "print(ur.duplicates)"
   ]
  },
  {
   "cell_type": "markdown",
   "metadata": {},
   "source": [
    "[**Users Dataset**](./data/BX-Users.csv)\n",
    "\n",
    ">* Spans **3** columns and **278,857** rows.\n",
    "\n",
    ">* Contains **3** unique datatypes:\n",
    ">   * **int64**\n",
    ">   * **float64**\n",
    ">   * **object**\n",
    "\n",
    ">* Has **110762** missing values:\n",
    ">   * Age: **110,762**\n",
    "\n",
    ">* Has no duplicates"
   ]
  },
  {
   "cell_type": "markdown",
   "metadata": {},
   "source": [
    "#### 2.2.4 `books_extra`"
   ]
  },
  {
   "cell_type": "code",
   "execution_count": 27,
   "metadata": {},
   "outputs": [],
   "source": [
    "# Instantiate the 'DescribeData' class for the 'books_extra' DataFrame\n",
    "bk_extra = DescribeData(books_extra)"
   ]
  },
  {
   "cell_type": "code",
   "execution_count": 28,
   "metadata": {},
   "outputs": [
    {
     "data": {
      "text/html": [
       "<div>\n",
       "<style scoped>\n",
       "    .dataframe tbody tr th:only-of-type {\n",
       "        vertical-align: middle;\n",
       "    }\n",
       "\n",
       "    .dataframe tbody tr th {\n",
       "        vertical-align: top;\n",
       "    }\n",
       "\n",
       "    .dataframe thead th {\n",
       "        text-align: right;\n",
       "    }\n",
       "</style>\n",
       "<table border=\"1\" class=\"dataframe\">\n",
       "  <thead>\n",
       "    <tr style=\"text-align: right;\">\n",
       "      <th></th>\n",
       "      <th>authors</th>\n",
       "      <th>published_date</th>\n",
       "      <th>description</th>\n",
       "      <th>isbn_10</th>\n",
       "      <th>isbn_13</th>\n",
       "      <th>page_count</th>\n",
       "      <th>categories</th>\n",
       "      <th>maturity_rating</th>\n",
       "      <th>language</th>\n",
       "      <th>join_isbn_10</th>\n",
       "    </tr>\n",
       "  </thead>\n",
       "  <tbody>\n",
       "    <tr>\n",
       "      <th>0</th>\n",
       "      <td>['Mark P. O. Morford', 'Robert J. Lenardon']</td>\n",
       "      <td>2003</td>\n",
       "      <td>Provides an introduction to classical myths placing the addressed topics within their historical context, discussion of archaeological evidence as support for mythical events, and how these themes have been portrayed in literature, art, music, and film.</td>\n",
       "      <td>0195153448</td>\n",
       "      <td>9780195153446.0</td>\n",
       "      <td>808.0</td>\n",
       "      <td>['Social Science']</td>\n",
       "      <td>NOT_MATURE</td>\n",
       "      <td>en</td>\n",
       "      <td>0195153448</td>\n",
       "    </tr>\n",
       "    <tr>\n",
       "      <th>1</th>\n",
       "      <td>NaN</td>\n",
       "      <td>NaN</td>\n",
       "      <td>NaN</td>\n",
       "      <td>NaN</td>\n",
       "      <td>NaN</td>\n",
       "      <td>NaN</td>\n",
       "      <td>NaN</td>\n",
       "      <td>NaN</td>\n",
       "      <td>NaN</td>\n",
       "      <td>0002005018</td>\n",
       "    </tr>\n",
       "    <tr>\n",
       "      <th>2</th>\n",
       "      <td>[\"Carlo D'Este\"]</td>\n",
       "      <td>1991</td>\n",
       "      <td>Here, for the first time in paperback, is an outstanding military history that offers a dramatic new perspective on the Allied campaign that began with the invasion of the D-Day beaches of Normandy. Nationa advertising in Military History.</td>\n",
       "      <td>IND:30000026059836</td>\n",
       "      <td>NaN</td>\n",
       "      <td>582.0</td>\n",
       "      <td>['1940-1949']</td>\n",
       "      <td>NOT_MATURE</td>\n",
       "      <td>en</td>\n",
       "      <td>0060973129</td>\n",
       "    </tr>\n",
       "    <tr>\n",
       "      <th>3</th>\n",
       "      <td>['Gina Bari Kolata']</td>\n",
       "      <td>1999</td>\n",
       "      <td>Describes the great flu epidemic of 1918, an outbreak that killed some forty million people worldwide, and discusses the efforts of scientists and public health officials to understand and prevent another lethal pandemic</td>\n",
       "      <td>9780374157067</td>\n",
       "      <td>374157065.0</td>\n",
       "      <td>367.0</td>\n",
       "      <td>['Medical']</td>\n",
       "      <td>NOT_MATURE</td>\n",
       "      <td>en</td>\n",
       "      <td>0374157065</td>\n",
       "    </tr>\n",
       "    <tr>\n",
       "      <th>4</th>\n",
       "      <td>['E. J. W. Barber']</td>\n",
       "      <td>1999</td>\n",
       "      <td>A look at the incredibly well-preserved ancient mummies found in Western China describes their clothing and appearance, attempts to reconstruct their culture, and speculates about how Caucasians could have found their way to the feet of the Himalayan mountains.</td>\n",
       "      <td>0393045218</td>\n",
       "      <td>9780393045215.0</td>\n",
       "      <td>240.0</td>\n",
       "      <td>['Design']</td>\n",
       "      <td>NOT_MATURE</td>\n",
       "      <td>en</td>\n",
       "      <td>0393045218</td>\n",
       "    </tr>\n",
       "  </tbody>\n",
       "</table>\n",
       "</div>"
      ],
      "text/plain": [
       "                                        authors published_date  \\\n",
       "0  ['Mark P. O. Morford', 'Robert J. Lenardon']           2003   \n",
       "1                                           NaN            NaN   \n",
       "2                              [\"Carlo D'Este\"]           1991   \n",
       "3                          ['Gina Bari Kolata']           1999   \n",
       "4                           ['E. J. W. Barber']           1999   \n",
       "\n",
       "                                                                                                                                                                                                                                                             description  \\\n",
       "0          Provides an introduction to classical myths placing the addressed topics within their historical context, discussion of archaeological evidence as support for mythical events, and how these themes have been portrayed in literature, art, music, and film.   \n",
       "1                                                                                                                                                                                                                                                                    NaN   \n",
       "2                        Here, for the first time in paperback, is an outstanding military history that offers a dramatic new perspective on the Allied campaign that began with the invasion of the D-Day beaches of Normandy. Nationa advertising in Military History.   \n",
       "3                                           Describes the great flu epidemic of 1918, an outbreak that killed some forty million people worldwide, and discusses the efforts of scientists and public health officials to understand and prevent another lethal pandemic   \n",
       "4  A look at the incredibly well-preserved ancient mummies found in Western China describes their clothing and appearance, attempts to reconstruct their culture, and speculates about how Caucasians could have found their way to the feet of the Himalayan mountains.   \n",
       "\n",
       "              isbn_10          isbn_13  page_count          categories  \\\n",
       "0          0195153448  9780195153446.0       808.0  ['Social Science']   \n",
       "1                 NaN              NaN         NaN                 NaN   \n",
       "2  IND:30000026059836              NaN       582.0       ['1940-1949']   \n",
       "3       9780374157067      374157065.0       367.0         ['Medical']   \n",
       "4          0393045218  9780393045215.0       240.0          ['Design']   \n",
       "\n",
       "  maturity_rating language join_isbn_10  \n",
       "0      NOT_MATURE       en   0195153448  \n",
       "1             NaN      NaN   0002005018  \n",
       "2      NOT_MATURE       en   0060973129  \n",
       "3      NOT_MATURE       en   0374157065  \n",
       "4      NOT_MATURE       en   0393045218  "
      ]
     },
     "execution_count": 28,
     "metadata": {},
     "output_type": "execute_result"
    }
   ],
   "source": [
    "# Preview the 'books_extra' DataFrame\n",
    "bk_extra.df.head()"
   ]
  },
  {
   "cell_type": "code",
   "execution_count": 29,
   "metadata": {},
   "outputs": [
    {
     "name": "stdout",
     "output_type": "stream",
     "text": [
      "<class 'pandas.core.frame.DataFrame'>\n",
      "RangeIndex: 271044 entries, 0 to 271043\n",
      "Data columns (total 10 columns):\n",
      " #   Column           Non-Null Count   Dtype  \n",
      "---  ------           --------------   -----  \n",
      " 0   authors          210684 non-null  object \n",
      " 1   published_date   212589 non-null  object \n",
      " 2   description      180298 non-null  object \n",
      " 3   isbn_10          212653 non-null  object \n",
      " 4   isbn_13          179739 non-null  object \n",
      " 5   page_count       211385 non-null  float64\n",
      " 6   categories       199011 non-null  object \n",
      " 7   maturity_rating  212741 non-null  object \n",
      " 8   language         212741 non-null  object \n",
      " 9   join_isbn_10     271044 non-null  object \n",
      "dtypes: float64(1), object(9)\n",
      "memory usage: 20.7+ MB\n"
     ]
    }
   ],
   "source": [
    "# Inspect the information about the DataFrame\n",
    "bk_extra.df.info()"
   ]
  },
  {
   "cell_type": "code",
   "execution_count": 30,
   "metadata": {},
   "outputs": [
    {
     "name": "stdout",
     "output_type": "stream",
     "text": [
      "The shape of the DataFrame is (271044, 10)\n",
      "\n",
      "Records: 271044\n",
      "Columns: 10\n"
     ]
    }
   ],
   "source": [
    "# Inspect the shape of the DataFrame\n",
    "print(bk_extra.shape)"
   ]
  },
  {
   "cell_type": "code",
   "execution_count": 31,
   "metadata": {},
   "outputs": [
    {
     "name": "stdout",
     "output_type": "stream",
     "text": [
      "authors             object\n",
      "published_date      object\n",
      "description         object\n",
      "isbn_10             object\n",
      "isbn_13             object\n",
      "page_count         float64\n",
      "categories          object\n",
      "maturity_rating     object\n",
      "language            object\n",
      "join_isbn_10        object\n",
      "dtype: object\n"
     ]
    }
   ],
   "source": [
    "# Inspect the datatypes of the columns in the DataFrame\n",
    "print(bk_extra.datatypes)"
   ]
  },
  {
   "cell_type": "code",
   "execution_count": 32,
   "metadata": {
    "scrolled": true
   },
   "outputs": [
    {
     "data": {
      "text/html": [
       "<div>\n",
       "<style scoped>\n",
       "    .dataframe tbody tr th:only-of-type {\n",
       "        vertical-align: middle;\n",
       "    }\n",
       "\n",
       "    .dataframe tbody tr th {\n",
       "        vertical-align: top;\n",
       "    }\n",
       "\n",
       "    .dataframe thead th {\n",
       "        text-align: right;\n",
       "    }\n",
       "</style>\n",
       "<table border=\"1\" class=\"dataframe\">\n",
       "  <thead>\n",
       "    <tr style=\"text-align: right;\">\n",
       "      <th></th>\n",
       "      <th>page_count</th>\n",
       "    </tr>\n",
       "  </thead>\n",
       "  <tbody>\n",
       "    <tr>\n",
       "      <th>count</th>\n",
       "      <td>211385.000000</td>\n",
       "    </tr>\n",
       "    <tr>\n",
       "      <th>mean</th>\n",
       "      <td>279.534995</td>\n",
       "    </tr>\n",
       "    <tr>\n",
       "      <th>std</th>\n",
       "      <td>179.001719</td>\n",
       "    </tr>\n",
       "    <tr>\n",
       "      <th>min</th>\n",
       "      <td>0.000000</td>\n",
       "    </tr>\n",
       "    <tr>\n",
       "      <th>25%</th>\n",
       "      <td>176.000000</td>\n",
       "    </tr>\n",
       "    <tr>\n",
       "      <th>50%</th>\n",
       "      <td>260.000000</td>\n",
       "    </tr>\n",
       "    <tr>\n",
       "      <th>75%</th>\n",
       "      <td>356.000000</td>\n",
       "    </tr>\n",
       "    <tr>\n",
       "      <th>max</th>\n",
       "      <td>3596.000000</td>\n",
       "    </tr>\n",
       "  </tbody>\n",
       "</table>\n",
       "</div>"
      ],
      "text/plain": [
       "          page_count\n",
       "count  211385.000000\n",
       "mean      279.534995\n",
       "std       179.001719\n",
       "min         0.000000\n",
       "25%       176.000000\n",
       "50%       260.000000\n",
       "75%       356.000000\n",
       "max      3596.000000"
      ]
     },
     "execution_count": 32,
     "metadata": {},
     "output_type": "execute_result"
    }
   ],
   "source": [
    "# Inspect the summary statistics of the DataFrame\n",
    "bk_extra.df.describe()"
   ]
  },
  {
   "cell_type": "code",
   "execution_count": 33,
   "metadata": {},
   "outputs": [
    {
     "name": "stdout",
     "output_type": "stream",
     "text": [
      "There are a total of 607555 missing values in the DataFrame.\n",
      "\n",
      "authors            60360\n",
      "published_date     58455\n",
      "description        90746\n",
      "isbn_10            58391\n",
      "isbn_13            91305\n",
      "page_count         59659\n",
      "categories         72033\n",
      "maturity_rating    58303\n",
      "language           58303\n",
      "join_isbn_10           0\n",
      "dtype: int64\n"
     ]
    }
   ],
   "source": [
    "# Inspect the missing values in the DataFrame\n",
    "print(bk_extra.missing)"
   ]
  },
  {
   "cell_type": "code",
   "execution_count": 34,
   "metadata": {},
   "outputs": [
    {
     "name": "stdout",
     "output_type": "stream",
     "text": [
      "There are 0 duplicated records in the DataFrame.\n"
     ]
    }
   ],
   "source": [
    "# Inspect the duplicates in the DataFrame\n",
    "print(bk_extra.duplicates)"
   ]
  },
  {
   "cell_type": "markdown",
   "metadata": {},
   "source": [
    "[**Books (Extra) Dataset**](./data/books.csv)\n",
    "\n",
    ">* Spans **10** columns and **()** rows.\n",
    "\n",
    ">* Contains **2** unique datatypes:\n",
    ">   * **float64**\n",
    ">   * **object**\n",
    "\n",
    ">* Has **()** missing values:\n",
    "\n",
    ">* Has no duplicates"
   ]
  },
  {
   "cell_type": "markdown",
   "metadata": {},
   "source": [
    "## 3. Data Preparation\n",
    "> This is the process of identifying and correcting or removing incorrect, incomplete, or improperly formatted data in a dataset. It mainly involves handling missing values, fixing incorrect data, removing duplicates, normalizing data and handling outliers."
   ]
  },
  {
   "cell_type": "markdown",
   "metadata": {},
   "source": [
    "### 3.1 Users Dataset"
   ]
  },
  {
   "cell_type": "markdown",
   "metadata": {},
   "source": [
    "The location column has city, state and country separated by commas. We segregate these into 3 different columns so that we can analyse on the basis of the country of different users."
   ]
  },
  {
   "cell_type": "code",
   "execution_count": 35,
   "metadata": {},
   "outputs": [
    {
     "name": "stdout",
     "output_type": "stream",
     "text": [
      "4659\n",
      "16044\n"
     ]
    }
   ],
   "source": [
    "#splitting a string into a list\n",
    "list_ = users.Location.str.split(', ')\n",
    "\n",
    "#empty lists to add values  \n",
    "city = []\n",
    "state = []\n",
    "country = []\n",
    "count_no_state = 0    \n",
    "count_no_country = 0\n",
    "#generating a for loop to add values to the empty lists\n",
    "for i in range(0,len(list_)):\n",
    "    #removing invalid entries in city\n",
    "    if list_[i][0] == ' ' or list_[i][0] == '' or list_[i][0]=='n/a' or list_[i][0] == ',':  \n",
    "        city.append('other')\n",
    "    else:\n",
    "        city.append(list_[i][0].lower())\n",
    "\n",
    "    if(len(list_[i])<2):\n",
    "        state.append('other')\n",
    "        country.append('other')\n",
    "        count_no_state += 1\n",
    "        count_no_country += 1\n",
    "    else:\n",
    "        #removing invalid entries in state\n",
    "        if list_[i][1] == ' ' or list_[i][1] == '' or list_[i][1]=='n/a' or list_[i][1] == ',':   \n",
    "            state.append('other')\n",
    "            count_no_state += 1            \n",
    "        else:\n",
    "            state.append(list_[i][1].lower())\n",
    "        \n",
    "        if(len(list_[i])<3):\n",
    "            country.append('other')\n",
    "            count_no_country += 1\n",
    "        else:\n",
    "            #removing invalid entries in country\n",
    "            if list_[i][2] == ''or list_[i][1] == ',' or list_[i][2] == ' ' or list_[i][2] == 'n/a':\n",
    "                country.append('other')\n",
    "                count_no_country += 1\n",
    "            else:\n",
    "                country.append(list_[i][2].lower())\n",
    "        \n",
    "#dropping the location column from users             \n",
    "users = users.drop('Location',axis=1)\n",
    "\n",
    "#handling cases where city/state from the lists is already given\n",
    "temp = []\n",
    "for ent in city:\n",
    "    c = ent.split('/')            \n",
    "    temp.append(c[0])\n",
    "    \n",
    "#creating a dataframe for city, state and country\n",
    "df_city = pd.DataFrame(temp,columns=['City'])\n",
    "df_state = pd.DataFrame(state,columns=['State'])\n",
    "df_country = pd.DataFrame(country,columns=['Country'])\n",
    "\n",
    "#adding the new dataframes to the original users dataframe \n",
    "users = pd.concat([users, df_city], axis=1)\n",
    "users = pd.concat([users, df_state], axis=1)\n",
    "users = pd.concat([users, df_country], axis=1)\n",
    "\n",
    "#printing the number of countries that do not have values \n",
    "print(count_no_country)\n",
    "\n",
    "#printing the states which didnt have any values\n",
    "print(count_no_state)     "
   ]
  },
  {
   "cell_type": "code",
   "execution_count": 36,
   "metadata": {},
   "outputs": [],
   "source": [
    "## Drop duplicate rows\n",
    "users.drop_duplicates(keep='last', inplace=True)\n",
    "users.reset_index(drop=True, inplace=True)"
   ]
  },
  {
   "cell_type": "code",
   "execution_count": 37,
   "metadata": {},
   "outputs": [
    {
     "name": "stdout",
     "output_type": "stream",
     "text": [
      "<class 'pandas.core.frame.DataFrame'>\n",
      "RangeIndex: 278858 entries, 0 to 278857\n",
      "Data columns (total 5 columns):\n",
      " #   Column   Non-Null Count   Dtype  \n",
      "---  ------   --------------   -----  \n",
      " 0   User-ID  278858 non-null  int64  \n",
      " 1   Age      168096 non-null  float64\n",
      " 2   City     278858 non-null  object \n",
      " 3   State    278858 non-null  object \n",
      " 4   Country  278858 non-null  object \n",
      "dtypes: float64(1), int64(1), object(3)\n",
      "memory usage: 10.6+ MB\n"
     ]
    }
   ],
   "source": [
    "#confirming that the new dataframes have been added to users\n",
    "users.info()"
   ]
  },
  {
   "cell_type": "code",
   "execution_count": 38,
   "metadata": {},
   "outputs": [
    {
     "data": {
      "text/html": [
       "<div>\n",
       "<style scoped>\n",
       "    .dataframe tbody tr th:only-of-type {\n",
       "        vertical-align: middle;\n",
       "    }\n",
       "\n",
       "    .dataframe tbody tr th {\n",
       "        vertical-align: top;\n",
       "    }\n",
       "\n",
       "    .dataframe thead th {\n",
       "        text-align: right;\n",
       "    }\n",
       "</style>\n",
       "<table border=\"1\" class=\"dataframe\">\n",
       "  <thead>\n",
       "    <tr style=\"text-align: right;\">\n",
       "      <th></th>\n",
       "      <th>User-ID</th>\n",
       "      <th>Age</th>\n",
       "      <th>City</th>\n",
       "      <th>State</th>\n",
       "      <th>Country</th>\n",
       "    </tr>\n",
       "  </thead>\n",
       "  <tbody>\n",
       "    <tr>\n",
       "      <th>0</th>\n",
       "      <td>1</td>\n",
       "      <td>NaN</td>\n",
       "      <td>nyc</td>\n",
       "      <td>new york</td>\n",
       "      <td>usa</td>\n",
       "    </tr>\n",
       "    <tr>\n",
       "      <th>1</th>\n",
       "      <td>2</td>\n",
       "      <td>18.0</td>\n",
       "      <td>stockton</td>\n",
       "      <td>california</td>\n",
       "      <td>usa</td>\n",
       "    </tr>\n",
       "    <tr>\n",
       "      <th>2</th>\n",
       "      <td>3</td>\n",
       "      <td>NaN</td>\n",
       "      <td>moscow</td>\n",
       "      <td>yukon territory</td>\n",
       "      <td>russia</td>\n",
       "    </tr>\n",
       "    <tr>\n",
       "      <th>3</th>\n",
       "      <td>4</td>\n",
       "      <td>17.0</td>\n",
       "      <td>porto</td>\n",
       "      <td>v.n.gaia</td>\n",
       "      <td>portugal</td>\n",
       "    </tr>\n",
       "    <tr>\n",
       "      <th>4</th>\n",
       "      <td>5</td>\n",
       "      <td>NaN</td>\n",
       "      <td>farnborough</td>\n",
       "      <td>hants</td>\n",
       "      <td>united kingdom</td>\n",
       "    </tr>\n",
       "  </tbody>\n",
       "</table>\n",
       "</div>"
      ],
      "text/plain": [
       "   User-ID   Age         City            State         Country\n",
       "0        1   NaN          nyc         new york             usa\n",
       "1        2  18.0     stockton       california             usa\n",
       "2        3   NaN       moscow  yukon territory          russia\n",
       "3        4  17.0        porto         v.n.gaia        portugal\n",
       "4        5   NaN  farnborough            hants  united kingdom"
      ]
     },
     "execution_count": 38,
     "metadata": {},
     "output_type": "execute_result"
    }
   ],
   "source": [
    "users.head()"
   ]
  },
  {
   "cell_type": "code",
   "execution_count": 39,
   "metadata": {},
   "outputs": [
    {
     "data": {
      "text/plain": [
       "110762"
      ]
     },
     "execution_count": 39,
     "metadata": {},
     "output_type": "execute_result"
    }
   ],
   "source": [
    "# checking for null values\n",
    "users['Age'].isnull().sum()"
   ]
  },
  {
   "cell_type": "markdown",
   "metadata": {},
   "source": [
    "#### Dealing with missing values in the Age column"
   ]
  },
  {
   "cell_type": "code",
   "execution_count": 40,
   "metadata": {},
   "outputs": [
    {
     "data": {
      "image/png": "[encoded data removed]",
      "text/plain": [
       "<Figure size 432x288 with 1 Axes>"
      ]
     },
     "metadata": {
      "needs_background": "light"
     },
     "output_type": "display_data"
    }
   ],
   "source": [
    "#checking the Age distribution\n",
    "users.Age.hist(bins=[0, 10, 20, 30, 40, 50, 100])\n",
    "plt.title('Age Distribution\\n')\n",
    "plt.xlabel('Age')\n",
    "plt.ylabel('Count')\n",
    "plt.show()"
   ]
  },
  {
   "cell_type": "markdown",
   "metadata": {},
   "source": [
    "The most active users are in the age bracket between 20 to 30 years."
   ]
  },
  {
   "cell_type": "code",
   "execution_count": 41,
   "metadata": {},
   "outputs": [
    {
     "data": {
      "text/plain": [
       "Text(0.5, 1.0, 'Outliers present in the Age column')"
      ]
     },
     "execution_count": 41,
     "metadata": {},
     "output_type": "execute_result"
    },
    {
     "data": {
      "image/png": "[encoded data removed]",
      "text/plain": [
       "<Figure size 432x288 with 1 Axes>"
      ]
     },
     "metadata": {
      "needs_background": "light"
     },
     "output_type": "display_data"
    }
   ],
   "source": [
    "#checking for outliers in the age column using a boxplot\n",
    "sns.boxplot(y='Age', data=users)\n",
    "plt.title('Outliers present in the Age column')"
   ]
  },
  {
   "cell_type": "markdown",
   "metadata": {},
   "source": [
    "Looking at the distribution plot the age is skewed to the right and has outliers. Replacing the missing age values and values less than 10 and greater than 80 with the median will be the robust approach since it's not sensitive to extreme values compared to using the mean."
   ]
  },
  {
   "cell_type": "code",
   "execution_count": 42,
   "metadata": {},
   "outputs": [
    {
     "name": "stdout",
     "output_type": "stream",
     "text": [
      "[nan, 0.0, 1.0, 2.0, 3.0, 4.0, 5.0, 6.0, 7.0, 8.0, 9.0, 10.0, 11.0, 12.0, 13.0, 14.0, 15.0, 16.0, 17.0, 18.0, 19.0, 20.0, 21.0, 22.0, 23.0, 24.0, 25.0, 26.0, 27.0, 28.0, 29.0, 30.0, 31.0, 32.0, 33.0, 34.0, 35.0, 36.0, 37.0, 38.0, 39.0, 40.0, 41.0, 42.0, 43.0, 44.0, 45.0, 46.0, 47.0, 48.0, 49.0, 50.0, 51.0, 52.0, 53.0, 54.0, 55.0, 56.0, 57.0, 58.0, 59.0, 60.0, 61.0, 62.0, 63.0, 64.0, 65.0, 66.0, 67.0, 68.0, 69.0, 70.0, 71.0, 72.0, 73.0, 74.0, 75.0, 76.0, 77.0, 78.0, 79.0, 80.0, 81.0, 82.0, 83.0, 84.0, 85.0, 86.0, 87.0, 88.0, 89.0, 90.0, 91.0, 92.0, 93.0, 94.0, 95.0, 96.0, 97.0, 98.0, 99.0, 100.0, 101.0, 102.0, 103.0, 104.0, 105.0, 106.0, 107.0, 108.0, 109.0, 110.0, 111.0, 113.0, 114.0, 115.0, 116.0, 118.0, 119.0, 123.0, 124.0, 127.0, 128.0, 132.0, 133.0, 136.0, 137.0, 138.0, 140.0, 141.0, 143.0, 146.0, 147.0, 148.0, 151.0, 152.0, 156.0, 157.0, 159.0, 162.0, 168.0, 172.0, 175.0, 183.0, 186.0, 189.0, 199.0, 200.0, 201.0, 204.0, 207.0, 208.0, 209.0, 210.0, 212.0, 219.0, 220.0, 223.0, 226.0, 228.0, 229.0, 230.0, 231.0, 237.0, 239.0, 244.0]\n"
     ]
    }
   ],
   "source": [
    "#checking all values present in the Age column\n",
    "print(sorted(list(users['Age'].unique())))"
   ]
  },
  {
   "cell_type": "code",
   "execution_count": 43,
   "metadata": {},
   "outputs": [
    {
     "data": {
      "text/plain": [
       "Text(0.5, 1.0, 'Age Distribution Plot')"
      ]
     },
     "execution_count": 43,
     "metadata": {},
     "output_type": "execute_result"
    },
    {
     "data": {
      "image/png": "[encoded data removed]",
      "text/plain": [
       "<Figure size 432x288 with 1 Axes>"
      ]
     },
     "metadata": {
      "needs_background": "light"
     },
     "output_type": "display_data"
    }
   ],
   "source": [
    "#plotting a distribution plot to discover the relevant age bracket \n",
    "sns.distplot(users.Age)\n",
    "plt.title('Age Distribution Plot')"
   ]
  },
  {
   "cell_type": "markdown",
   "metadata": {},
   "source": [
    "Evidently, users with ages less than 10 and above 80 are not an appropriate target for our book recommendation system since we assume they will not be able to access a library or use the recommendation system."
   ]
  },
  {
   "cell_type": "code",
   "execution_count": 44,
   "metadata": {},
   "outputs": [],
   "source": [
    "# Select rows where the age column is greater than 10 and less than 80\n",
    "users_filtered = users[(users['Age'] >= 10) & (users['Age'] <= 80)]"
   ]
  },
  {
   "cell_type": "code",
   "execution_count": 45,
   "metadata": {},
   "outputs": [
    {
     "data": {
      "text/plain": [
       "32.0"
      ]
     },
     "execution_count": 45,
     "metadata": {},
     "output_type": "execute_result"
    }
   ],
   "source": [
    "# calculating the median for the required ages\n",
    "median = users_filtered['Age'].median()\n",
    "median"
   ]
  },
  {
   "cell_type": "code",
   "execution_count": 46,
   "metadata": {},
   "outputs": [],
   "source": [
    "# Replace the entries less than 10 or greater than 80 with the median\n",
    "users.loc[(users['Age'] < 10) | (users['Age'] > 80), 'Age'] = median"
   ]
  },
  {
   "cell_type": "code",
   "execution_count": 47,
   "metadata": {},
   "outputs": [],
   "source": [
    "# Replace missing values in the \"age\" column with the median age\n",
    "users['Age'] = users['Age'].fillna(median)"
   ]
  },
  {
   "cell_type": "code",
   "execution_count": 48,
   "metadata": {},
   "outputs": [],
   "source": [
    "# convert the age column to int\n",
    "users['Age'] = pd.to_numeric(users['Age'], downcast='integer')"
   ]
  },
  {
   "cell_type": "code",
   "execution_count": 49,
   "metadata": {},
   "outputs": [
    {
     "name": "stdout",
     "output_type": "stream",
     "text": [
      "[10, 11, 12, 13, 14, 15, 16, 17, 18, 19, 20, 21, 22, 23, 24, 25, 26, 27, 28, 29, 30, 31, 32, 33, 34, 35, 36, 37, 38, 39, 40, 41, 42, 43, 44, 45, 46, 47, 48, 49, 50, 51, 52, 53, 54, 55, 56, 57, 58, 59, 60, 61, 62, 63, 64, 65, 66, 67, 68, 69, 70, 71, 72, 73, 74, 75, 76, 77, 78, 79, 80]\n"
     ]
    }
   ],
   "source": [
    "print(sorted(list(users['Age'].unique())))"
   ]
  },
  {
   "cell_type": "code",
   "execution_count": 50,
   "metadata": {},
   "outputs": [
    {
     "data": {
      "text/plain": [
       "User-ID    0\n",
       "Age        0\n",
       "City       0\n",
       "State      0\n",
       "Country    0\n",
       "dtype: int64"
      ]
     },
     "execution_count": 50,
     "metadata": {},
     "output_type": "execute_result"
    }
   ],
   "source": [
    "#confirming that the missing values have been dealt with\n",
    "users.isna().sum()"
   ]
  },
  {
   "cell_type": "code",
   "execution_count": 51,
   "metadata": {},
   "outputs": [
    {
     "name": "stdout",
     "output_type": "stream",
     "text": [
      "<class 'pandas.core.frame.DataFrame'>\n",
      "RangeIndex: 278858 entries, 0 to 278857\n",
      "Data columns (total 5 columns):\n",
      " #   Column   Non-Null Count   Dtype \n",
      "---  ------   --------------   ----- \n",
      " 0   User-ID  278858 non-null  int64 \n",
      " 1   Age      278858 non-null  int8  \n",
      " 2   City     278858 non-null  object\n",
      " 3   State    278858 non-null  object\n",
      " 4   Country  278858 non-null  object\n",
      "dtypes: int64(1), int8(1), object(3)\n",
      "memory usage: 8.8+ MB\n"
     ]
    }
   ],
   "source": [
    "users.info()"
   ]
  },
  {
   "cell_type": "markdown",
   "metadata": {},
   "source": [
    "### 3.2 Books Dataset"
   ]
  },
  {
   "cell_type": "code",
   "execution_count": 52,
   "metadata": {},
   "outputs": [
    {
     "data": {
      "text/plain": [
       "(271360, 8)"
      ]
     },
     "execution_count": 52,
     "metadata": {},
     "output_type": "execute_result"
    }
   ],
   "source": [
    "#checking the shape of the books dataset before dealing with erraneous ISBN values\n",
    "books.shape"
   ]
  },
  {
   "cell_type": "markdown",
   "metadata": {},
   "source": [
    "To evaluate further if there are any duplicates in the isbn column, we now convert all alphabets contained into uppercase and remove white spaces case for consistency."
   ]
  },
  {
   "cell_type": "code",
   "execution_count": 53,
   "metadata": {},
   "outputs": [],
   "source": [
    "#converting the books ISBN numbers to upper string and removing any white spaces\n",
    "books['ISBN'] = books['ISBN'].str.upper().str.replace(' ', '')"
   ]
  },
  {
   "cell_type": "code",
   "execution_count": 54,
   "metadata": {},
   "outputs": [
    {
     "data": {
      "text/plain": [
       "314"
      ]
     },
     "execution_count": 54,
     "metadata": {},
     "output_type": "execute_result"
    }
   ],
   "source": [
    "#checking for duplicates \n",
    "books['ISBN'].duplicated().sum()"
   ]
  },
  {
   "cell_type": "markdown",
   "metadata": {},
   "source": [
    "> [Books dataset](http://localhost:8888/notebooks/data/BX-Books.csv)\n",
    "\n",
    "   * 271360 books\n",
    "   * 314 duplicates\n",
    "   "
   ]
  },
  {
   "cell_type": "markdown",
   "metadata": {},
   "source": [
    "We also notice that a number of the isbn's have erroneous values that need to be dealt with. Typically an isbn should be of length 10. Therefore, for isbn less than 10 we pad it with 0's at the beginning, isbn greater than 10 we strip the extra numbers, and use a regular expression to try to extract the first 10 characters of the ISBN that consist only of digits and 'X' or 'x'   "
   ]
  },
  {
   "cell_type": "code",
   "execution_count": 55,
   "metadata": {},
   "outputs": [],
   "source": [
    "#function to correct the ISBN that are not in correct format\n",
    "\n",
    "def correct_isbn(isbn):\n",
    "    # Convert the ISBN to a string, in case it was passed as an integer or float\n",
    "    isbn = str(isbn)\n",
    "    # String to use for padding the ISBN with zeros\n",
    "    fill = \"0\"\n",
    "    # Check if the ISBN is less than 10 characters\n",
    "    if len(isbn) < 10:\n",
    "        # Calculate the number of characters missing from the ISBN\n",
    "        missing = 10 - len(isbn)\n",
    "        # Pad the beginning of the ISBN with the fill string\n",
    "        new_isbn = (fill * missing) + isbn\n",
    "        # Return the padded ISBN\n",
    "        return new_isbn\n",
    "    # Check if the ISBN is greater than 10 characters\n",
    "    elif len(isbn) > 10:\n",
    "        # Try to use a regular expression to extract the first 10 characters of the ISBN\n",
    "        # that consist only of digits and 'X' or 'x'\n",
    "        try:\n",
    "            # Regular expression pattern to match 10 digits and 'X' or 'x'\n",
    "            pattern = r\"^[0-9Xx]{10}\"\n",
    "            # Search for a match in the ISBN\n",
    "            result = re.search(pattern, isbn)\n",
    "            # Extract the first 10 characters that match the pattern\n",
    "            new_isbn = result.group(0)\n",
    "            # Return the extracted ISBN\n",
    "            return new_isbn\n",
    "        # If the regular expression fails, catch the exception and return the original ISBN\n",
    "        except:\n",
    "            # Print the original ISBN\n",
    "            print(isbn)\n",
    "            # Return the original ISBN\n",
    "            return isbn\n",
    "\n",
    "    # If the ISBN is already 10 characters, return it as is\n",
    "    return isbn\n"
   ]
  },
  {
   "cell_type": "code",
   "execution_count": 56,
   "metadata": {},
   "outputs": [],
   "source": [
    "# apply the function to the books ISBN column\n",
    "books['ISBN'] = books['ISBN'].apply(correct_isbn)"
   ]
  },
  {
   "cell_type": "markdown",
   "metadata": {},
   "source": [
    "Comparing the books dataset and extra_books obtained from google books API, we notice that our books dataset has extra 2 books. \n",
    "To correct this, write a function that will only pick the first 10 digits of the isbn"
   ]
  },
  {
   "cell_type": "code",
   "execution_count": 57,
   "metadata": {},
   "outputs": [],
   "source": [
    "# Create a list of ISBNs from 'join_isbn_10' column\n",
    "api_isbns = books_extra['join_isbn_10'].to_list()"
   ]
  },
  {
   "cell_type": "code",
   "execution_count": 58,
   "metadata": {},
   "outputs": [
    {
     "data": {
      "text/html": [
       "<div>\n",
       "<style scoped>\n",
       "    .dataframe tbody tr th:only-of-type {\n",
       "        vertical-align: middle;\n",
       "    }\n",
       "\n",
       "    .dataframe tbody tr th {\n",
       "        vertical-align: top;\n",
       "    }\n",
       "\n",
       "    .dataframe thead th {\n",
       "        text-align: right;\n",
       "    }\n",
       "</style>\n",
       "<table border=\"1\" class=\"dataframe\">\n",
       "  <thead>\n",
       "    <tr style=\"text-align: right;\">\n",
       "      <th></th>\n",
       "      <th>ISBN</th>\n",
       "      <th>Book-Title</th>\n",
       "      <th>Book-Author</th>\n",
       "      <th>Year-Of-Publication</th>\n",
       "      <th>Publisher</th>\n",
       "      <th>Image-URL-S</th>\n",
       "      <th>Image-URL-M</th>\n",
       "      <th>Image-URL-L</th>\n",
       "    </tr>\n",
       "  </thead>\n",
       "  <tbody>\n",
       "  </tbody>\n",
       "</table>\n",
       "</div>"
      ],
      "text/plain": [
       "Empty DataFrame\n",
       "Columns: [ISBN, Book-Title, Book-Author, Year-Of-Publication, Publisher, Image-URL-S, Image-URL-M, Image-URL-L]\n",
       "Index: []"
      ]
     },
     "execution_count": 58,
     "metadata": {},
     "output_type": "execute_result"
    }
   ],
   "source": [
    "# Select rows from the 'books' DataFrame where the 'ISBN' column value is not in the 'api_isbns' list\n",
    "selected_rows = books.query('ISBN not in @api_isbns')\n",
    "selected_rows"
   ]
  },
  {
   "cell_type": "code",
   "execution_count": 59,
   "metadata": {},
   "outputs": [],
   "source": [
    "import re\n",
    "\n",
    "# create a function to obtain the isbn\n",
    "def extract_isbn(isbn):\n",
    "    # Use a regular expression to extract the first 10 digits of the ISBN\n",
    "    pattern = r\"^[0-9]{10}\"\n",
    "    result = re.search(pattern, isbn)\n",
    "    # Return the extracted ISBN, or the original ISBN if no match is found\n",
    "    return result.group(0) if result else isbn"
   ]
  },
  {
   "cell_type": "code",
   "execution_count": 60,
   "metadata": {},
   "outputs": [],
   "source": [
    "books['ISBN'] = books['ISBN'].apply(extract_isbn)"
   ]
  },
  {
   "cell_type": "code",
   "execution_count": 61,
   "metadata": {},
   "outputs": [],
   "source": [
    "# dropping duplicates\n",
    "books.drop_duplicates(subset=['ISBN'], inplace=True)"
   ]
  },
  {
   "cell_type": "code",
   "execution_count": 62,
   "metadata": {},
   "outputs": [
    {
     "data": {
      "text/plain": [
       "(271044, 8)"
      ]
     },
     "execution_count": 62,
     "metadata": {},
     "output_type": "execute_result"
    }
   ],
   "source": [
    "#checking the shape of the new dataset after dealing with duplicates\n",
    "books.shape"
   ]
  },
  {
   "cell_type": "code",
   "execution_count": 63,
   "metadata": {},
   "outputs": [
    {
     "data": {
      "text/plain": [
       "(271044, 10)"
      ]
     },
     "execution_count": 63,
     "metadata": {},
     "output_type": "execute_result"
    }
   ],
   "source": [
    "# shape of books sourced from google books API\n",
    "books_extra.shape"
   ]
  },
  {
   "cell_type": "code",
   "execution_count": 64,
   "metadata": {},
   "outputs": [
    {
     "data": {
      "text/html": [
       "<div>\n",
       "<style scoped>\n",
       "    .dataframe tbody tr th:only-of-type {\n",
       "        vertical-align: middle;\n",
       "    }\n",
       "\n",
       "    .dataframe tbody tr th {\n",
       "        vertical-align: top;\n",
       "    }\n",
       "\n",
       "    .dataframe thead th {\n",
       "        text-align: right;\n",
       "    }\n",
       "</style>\n",
       "<table border=\"1\" class=\"dataframe\">\n",
       "  <thead>\n",
       "    <tr style=\"text-align: right;\">\n",
       "      <th></th>\n",
       "      <th>ISBN</th>\n",
       "      <th>Book-Title</th>\n",
       "      <th>Book-Author</th>\n",
       "      <th>Year-Of-Publication</th>\n",
       "      <th>Publisher</th>\n",
       "      <th>Image-URL-S</th>\n",
       "      <th>Image-URL-M</th>\n",
       "      <th>Image-URL-L</th>\n",
       "    </tr>\n",
       "  </thead>\n",
       "  <tbody>\n",
       "  </tbody>\n",
       "</table>\n",
       "</div>"
      ],
      "text/plain": [
       "Empty DataFrame\n",
       "Columns: [ISBN, Book-Title, Book-Author, Year-Of-Publication, Publisher, Image-URL-S, Image-URL-M, Image-URL-L]\n",
       "Index: []"
      ]
     },
     "execution_count": 64,
     "metadata": {},
     "output_type": "execute_result"
    }
   ],
   "source": [
    "# confirm that extra books and books have the same isbn(books)\n",
    "selected_rows = books.query('ISBN not in @api_isbns')\n",
    "selected_rows"
   ]
  },
  {
   "cell_type": "markdown",
   "metadata": {},
   "source": [
    "### 3.3 Merged books and extra_books(books_data)"
   ]
  },
  {
   "cell_type": "markdown",
   "metadata": {},
   "source": [
    "We now merge the books and extra_books dataset"
   ]
  },
  {
   "cell_type": "code",
   "execution_count": 65,
   "metadata": {},
   "outputs": [],
   "source": [
    "#merge books dataset to books_extra\n",
    "books_data = books.merge(books_extra, right_on = 'join_isbn_10', left_on = 'ISBN', how = 'inner')"
   ]
  },
  {
   "cell_type": "code",
   "execution_count": 66,
   "metadata": {},
   "outputs": [],
   "source": [
    "#Instantiate the 'DescribeData' class for the merged dataset\n",
    "bk = DescribeData(books_data)"
   ]
  },
  {
   "cell_type": "code",
   "execution_count": 67,
   "metadata": {},
   "outputs": [
    {
     "data": {
      "text/html": [
       "<div>\n",
       "<style scoped>\n",
       "    .dataframe tbody tr th:only-of-type {\n",
       "        vertical-align: middle;\n",
       "    }\n",
       "\n",
       "    .dataframe tbody tr th {\n",
       "        vertical-align: top;\n",
       "    }\n",
       "\n",
       "    .dataframe thead th {\n",
       "        text-align: right;\n",
       "    }\n",
       "</style>\n",
       "<table border=\"1\" class=\"dataframe\">\n",
       "  <thead>\n",
       "    <tr style=\"text-align: right;\">\n",
       "      <th></th>\n",
       "      <th>ISBN</th>\n",
       "      <th>Book-Title</th>\n",
       "      <th>Book-Author</th>\n",
       "      <th>Year-Of-Publication</th>\n",
       "      <th>Publisher</th>\n",
       "      <th>Image-URL-S</th>\n",
       "      <th>Image-URL-M</th>\n",
       "      <th>Image-URL-L</th>\n",
       "      <th>authors</th>\n",
       "      <th>published_date</th>\n",
       "      <th>description</th>\n",
       "      <th>isbn_10</th>\n",
       "      <th>isbn_13</th>\n",
       "      <th>page_count</th>\n",
       "      <th>categories</th>\n",
       "      <th>maturity_rating</th>\n",
       "      <th>language</th>\n",
       "      <th>join_isbn_10</th>\n",
       "    </tr>\n",
       "  </thead>\n",
       "  <tbody>\n",
       "    <tr>\n",
       "      <th>0</th>\n",
       "      <td>0195153448</td>\n",
       "      <td>Classical Mythology</td>\n",
       "      <td>Mark P. O. Morford</td>\n",
       "      <td>2002</td>\n",
       "      <td>Oxford University Press</td>\n",
       "      <td>http://images.amazon.com/images/P/0195153448.01.THUMBZZZ.jpg</td>\n",
       "      <td>http://images.amazon.com/images/P/0195153448.01.MZZZZZZZ.jpg</td>\n",
       "      <td>http://images.amazon.com/images/P/0195153448.01.LZZZZZZZ.jpg</td>\n",
       "      <td>['Mark P. O. Morford', 'Robert J. Lenardon']</td>\n",
       "      <td>2003</td>\n",
       "      <td>Provides an introduction to classical myths placing the addressed topics within their historical context, discussion of archaeological evidence as support for mythical events, and how these themes have been portrayed in literature, art, music, and film.</td>\n",
       "      <td>0195153448</td>\n",
       "      <td>9780195153446.0</td>\n",
       "      <td>808.0</td>\n",
       "      <td>['Social Science']</td>\n",
       "      <td>NOT_MATURE</td>\n",
       "      <td>en</td>\n",
       "      <td>0195153448</td>\n",
       "    </tr>\n",
       "    <tr>\n",
       "      <th>1</th>\n",
       "      <td>0002005018</td>\n",
       "      <td>Clara Callan</td>\n",
       "      <td>Richard Bruce Wright</td>\n",
       "      <td>2001</td>\n",
       "      <td>HarperFlamingo Canada</td>\n",
       "      <td>http://images.amazon.com/images/P/0002005018.01.THUMBZZZ.jpg</td>\n",
       "      <td>http://images.amazon.com/images/P/0002005018.01.MZZZZZZZ.jpg</td>\n",
       "      <td>http://images.amazon.com/images/P/0002005018.01.LZZZZZZZ.jpg</td>\n",
       "      <td>NaN</td>\n",
       "      <td>NaN</td>\n",
       "      <td>NaN</td>\n",
       "      <td>NaN</td>\n",
       "      <td>NaN</td>\n",
       "      <td>NaN</td>\n",
       "      <td>NaN</td>\n",
       "      <td>NaN</td>\n",
       "      <td>NaN</td>\n",
       "      <td>0002005018</td>\n",
       "    </tr>\n",
       "    <tr>\n",
       "      <th>2</th>\n",
       "      <td>0060973129</td>\n",
       "      <td>Decision in Normandy</td>\n",
       "      <td>Carlo D'Este</td>\n",
       "      <td>1991</td>\n",
       "      <td>HarperPerennial</td>\n",
       "      <td>http://images.amazon.com/images/P/0060973129.01.THUMBZZZ.jpg</td>\n",
       "      <td>http://images.amazon.com/images/P/0060973129.01.MZZZZZZZ.jpg</td>\n",
       "      <td>http://images.amazon.com/images/P/0060973129.01.LZZZZZZZ.jpg</td>\n",
       "      <td>[\"Carlo D'Este\"]</td>\n",
       "      <td>1991</td>\n",
       "      <td>Here, for the first time in paperback, is an outstanding military history that offers a dramatic new perspective on the Allied campaign that began with the invasion of the D-Day beaches of Normandy. Nationa advertising in Military History.</td>\n",
       "      <td>IND:30000026059836</td>\n",
       "      <td>NaN</td>\n",
       "      <td>582.0</td>\n",
       "      <td>['1940-1949']</td>\n",
       "      <td>NOT_MATURE</td>\n",
       "      <td>en</td>\n",
       "      <td>0060973129</td>\n",
       "    </tr>\n",
       "    <tr>\n",
       "      <th>3</th>\n",
       "      <td>0374157065</td>\n",
       "      <td>Flu: The Story of the Great Influenza Pandemic of 1918 and the Search for the Virus That Caused It</td>\n",
       "      <td>Gina Bari Kolata</td>\n",
       "      <td>1999</td>\n",
       "      <td>Farrar Straus Giroux</td>\n",
       "      <td>http://images.amazon.com/images/P/0374157065.01.THUMBZZZ.jpg</td>\n",
       "      <td>http://images.amazon.com/images/P/0374157065.01.MZZZZZZZ.jpg</td>\n",
       "      <td>http://images.amazon.com/images/P/0374157065.01.LZZZZZZZ.jpg</td>\n",
       "      <td>['Gina Bari Kolata']</td>\n",
       "      <td>1999</td>\n",
       "      <td>Describes the great flu epidemic of 1918, an outbreak that killed some forty million people worldwide, and discusses the efforts of scientists and public health officials to understand and prevent another lethal pandemic</td>\n",
       "      <td>9780374157067</td>\n",
       "      <td>374157065.0</td>\n",
       "      <td>367.0</td>\n",
       "      <td>['Medical']</td>\n",
       "      <td>NOT_MATURE</td>\n",
       "      <td>en</td>\n",
       "      <td>0374157065</td>\n",
       "    </tr>\n",
       "    <tr>\n",
       "      <th>4</th>\n",
       "      <td>0393045218</td>\n",
       "      <td>The Mummies of Urumchi</td>\n",
       "      <td>E. J. W. Barber</td>\n",
       "      <td>1999</td>\n",
       "      <td>W. W. Norton &amp;amp; Company</td>\n",
       "      <td>http://images.amazon.com/images/P/0393045218.01.THUMBZZZ.jpg</td>\n",
       "      <td>http://images.amazon.com/images/P/0393045218.01.MZZZZZZZ.jpg</td>\n",
       "      <td>http://images.amazon.com/images/P/0393045218.01.LZZZZZZZ.jpg</td>\n",
       "      <td>['E. J. W. Barber']</td>\n",
       "      <td>1999</td>\n",
       "      <td>A look at the incredibly well-preserved ancient mummies found in Western China describes their clothing and appearance, attempts to reconstruct their culture, and speculates about how Caucasians could have found their way to the feet of the Himalayan mountains.</td>\n",
       "      <td>0393045218</td>\n",
       "      <td>9780393045215.0</td>\n",
       "      <td>240.0</td>\n",
       "      <td>['Design']</td>\n",
       "      <td>NOT_MATURE</td>\n",
       "      <td>en</td>\n",
       "      <td>0393045218</td>\n",
       "    </tr>\n",
       "  </tbody>\n",
       "</table>\n",
       "</div>"
      ],
      "text/plain": [
       "         ISBN  \\\n",
       "0  0195153448   \n",
       "1  0002005018   \n",
       "2  0060973129   \n",
       "3  0374157065   \n",
       "4  0393045218   \n",
       "\n",
       "                                                                                           Book-Title  \\\n",
       "0                                                                                 Classical Mythology   \n",
       "1                                                                                        Clara Callan   \n",
       "2                                                                                Decision in Normandy   \n",
       "3  Flu: The Story of the Great Influenza Pandemic of 1918 and the Search for the Virus That Caused It   \n",
       "4                                                                              The Mummies of Urumchi   \n",
       "\n",
       "            Book-Author Year-Of-Publication                   Publisher  \\\n",
       "0    Mark P. O. Morford                2002     Oxford University Press   \n",
       "1  Richard Bruce Wright                2001       HarperFlamingo Canada   \n",
       "2          Carlo D'Este                1991             HarperPerennial   \n",
       "3      Gina Bari Kolata                1999        Farrar Straus Giroux   \n",
       "4       E. J. W. Barber                1999  W. W. Norton &amp; Company   \n",
       "\n",
       "                                                    Image-URL-S  \\\n",
       "0  http://images.amazon.com/images/P/0195153448.01.THUMBZZZ.jpg   \n",
       "1  http://images.amazon.com/images/P/0002005018.01.THUMBZZZ.jpg   \n",
       "2  http://images.amazon.com/images/P/0060973129.01.THUMBZZZ.jpg   \n",
       "3  http://images.amazon.com/images/P/0374157065.01.THUMBZZZ.jpg   \n",
       "4  http://images.amazon.com/images/P/0393045218.01.THUMBZZZ.jpg   \n",
       "\n",
       "                                                    Image-URL-M  \\\n",
       "0  http://images.amazon.com/images/P/0195153448.01.MZZZZZZZ.jpg   \n",
       "1  http://images.amazon.com/images/P/0002005018.01.MZZZZZZZ.jpg   \n",
       "2  http://images.amazon.com/images/P/0060973129.01.MZZZZZZZ.jpg   \n",
       "3  http://images.amazon.com/images/P/0374157065.01.MZZZZZZZ.jpg   \n",
       "4  http://images.amazon.com/images/P/0393045218.01.MZZZZZZZ.jpg   \n",
       "\n",
       "                                                    Image-URL-L  \\\n",
       "0  http://images.amazon.com/images/P/0195153448.01.LZZZZZZZ.jpg   \n",
       "1  http://images.amazon.com/images/P/0002005018.01.LZZZZZZZ.jpg   \n",
       "2  http://images.amazon.com/images/P/0060973129.01.LZZZZZZZ.jpg   \n",
       "3  http://images.amazon.com/images/P/0374157065.01.LZZZZZZZ.jpg   \n",
       "4  http://images.amazon.com/images/P/0393045218.01.LZZZZZZZ.jpg   \n",
       "\n",
       "                                        authors published_date  \\\n",
       "0  ['Mark P. O. Morford', 'Robert J. Lenardon']           2003   \n",
       "1                                           NaN            NaN   \n",
       "2                              [\"Carlo D'Este\"]           1991   \n",
       "3                          ['Gina Bari Kolata']           1999   \n",
       "4                           ['E. J. W. Barber']           1999   \n",
       "\n",
       "                                                                                                                                                                                                                                                             description  \\\n",
       "0          Provides an introduction to classical myths placing the addressed topics within their historical context, discussion of archaeological evidence as support for mythical events, and how these themes have been portrayed in literature, art, music, and film.   \n",
       "1                                                                                                                                                                                                                                                                    NaN   \n",
       "2                        Here, for the first time in paperback, is an outstanding military history that offers a dramatic new perspective on the Allied campaign that began with the invasion of the D-Day beaches of Normandy. Nationa advertising in Military History.   \n",
       "3                                           Describes the great flu epidemic of 1918, an outbreak that killed some forty million people worldwide, and discusses the efforts of scientists and public health officials to understand and prevent another lethal pandemic   \n",
       "4  A look at the incredibly well-preserved ancient mummies found in Western China describes their clothing and appearance, attempts to reconstruct their culture, and speculates about how Caucasians could have found their way to the feet of the Himalayan mountains.   \n",
       "\n",
       "              isbn_10          isbn_13  page_count          categories  \\\n",
       "0          0195153448  9780195153446.0       808.0  ['Social Science']   \n",
       "1                 NaN              NaN         NaN                 NaN   \n",
       "2  IND:30000026059836              NaN       582.0       ['1940-1949']   \n",
       "3       9780374157067      374157065.0       367.0         ['Medical']   \n",
       "4          0393045218  9780393045215.0       240.0          ['Design']   \n",
       "\n",
       "  maturity_rating language join_isbn_10  \n",
       "0      NOT_MATURE       en   0195153448  \n",
       "1             NaN      NaN   0002005018  \n",
       "2      NOT_MATURE       en   0060973129  \n",
       "3      NOT_MATURE       en   0374157065  \n",
       "4      NOT_MATURE       en   0393045218  "
      ]
     },
     "execution_count": 67,
     "metadata": {},
     "output_type": "execute_result"
    }
   ],
   "source": [
    "bk.df.head()"
   ]
  },
  {
   "cell_type": "code",
   "execution_count": 68,
   "metadata": {},
   "outputs": [
    {
     "name": "stdout",
     "output_type": "stream",
     "text": [
      "<class 'pandas.core.frame.DataFrame'>\n",
      "Int64Index: 271044 entries, 0 to 271043\n",
      "Data columns (total 18 columns):\n",
      " #   Column               Non-Null Count   Dtype  \n",
      "---  ------               --------------   -----  \n",
      " 0   ISBN                 271044 non-null  object \n",
      " 1   Book-Title           271044 non-null  object \n",
      " 2   Book-Author          271043 non-null  object \n",
      " 3   Year-Of-Publication  271044 non-null  object \n",
      " 4   Publisher            271042 non-null  object \n",
      " 5   Image-URL-S          271044 non-null  object \n",
      " 6   Image-URL-M          271044 non-null  object \n",
      " 7   Image-URL-L          271041 non-null  object \n",
      " 8   authors              210684 non-null  object \n",
      " 9   published_date       212589 non-null  object \n",
      " 10  description          180298 non-null  object \n",
      " 11  isbn_10              212653 non-null  object \n",
      " 12  isbn_13              179739 non-null  object \n",
      " 13  page_count           211385 non-null  float64\n",
      " 14  categories           199011 non-null  object \n",
      " 15  maturity_rating      212741 non-null  object \n",
      " 16  language             212741 non-null  object \n",
      " 17  join_isbn_10         271044 non-null  object \n",
      "dtypes: float64(1), object(17)\n",
      "memory usage: 39.3+ MB\n"
     ]
    }
   ],
   "source": [
    "bk.df.info()"
   ]
  },
  {
   "cell_type": "code",
   "execution_count": 69,
   "metadata": {},
   "outputs": [
    {
     "name": "stdout",
     "output_type": "stream",
     "text": [
      "There are a total of 607561 missing values in the DataFrame.\n",
      "\n",
      "ISBN                       0\n",
      "Book-Title                 0\n",
      "Book-Author                1\n",
      "Year-Of-Publication        0\n",
      "Publisher                  2\n",
      "Image-URL-S                0\n",
      "Image-URL-M                0\n",
      "Image-URL-L                3\n",
      "authors                60360\n",
      "published_date         58455\n",
      "description            90746\n",
      "isbn_10                58391\n",
      "isbn_13                91305\n",
      "page_count             59659\n",
      "categories             72033\n",
      "maturity_rating        58303\n",
      "language               58303\n",
      "join_isbn_10               0\n",
      "dtype: int64\n"
     ]
    }
   ],
   "source": [
    "print(bk.missing)"
   ]
  },
  {
   "cell_type": "code",
   "execution_count": 70,
   "metadata": {},
   "outputs": [],
   "source": [
    "# define class for data cleaning\n",
    "class DataCleaning:\n",
    "    def __init__(self, data):\n",
    "        self.data = data\n",
    "        \n",
    "    def drop_null_rows(self):\n",
    "        \"\"\"Drops rows with null values.\"\"\"\n",
    "        self.data = self.data.dropna()\n",
    "        return self.data\n",
    "\n",
    "    def drop_duplicate_rows(self):\n",
    "        \"\"\"Drops duplicate rows.\"\"\"\n",
    "        self.data = self.data.drop_duplicates()\n",
    "        return self.data\n",
    "\n",
    "    def handle_missing_values(self, column, method, value=None):\n",
    "        \"\"\"Handles missing values in a specified column.\n",
    "        \n",
    "        The method parameter take one of the following:\n",
    "        \"drop\": Drops rows with missing values in the specified column.\n",
    "        \"fill\": Fills missing values with the specified value.\n",
    "        \"interpolate\": Interpolates missing values using linear interpolation.\n",
    "        \"\"\"\n",
    "        if method == \"drop\":\n",
    "            self.data = self.data.dropna(subset=[column])\n",
    "        elif method == \"fill\":\n",
    "            self.data[column] = self.data[column].fillna(value)\n",
    "        elif method == \"interpolate\":\n",
    "            self.data[column] = self.data[column].interpolate()\n",
    "        else:\n",
    "            raise ValueError(\"Invalid value for method parameter. Valid values are 'drop', 'fill', and 'interpolate'.\")\n",
    "        return self.data\n",
    "\n",
    "    def convert_column_data_type(self, column, data_type):\n",
    "        \"\"\"Converts the data type of a specified column.\"\"\"\n",
    "        self.data[column] = self.data[column].astype(data_type)\n",
    "        return self.data"
   ]
  },
  {
   "cell_type": "code",
   "execution_count": 71,
   "metadata": {},
   "outputs": [],
   "source": [
    "#Instantiate the 'datacleaning' class for the merged dataset\n",
    "data_cleaning = DataCleaning(books_data)"
   ]
  },
  {
   "cell_type": "code",
   "execution_count": 72,
   "metadata": {},
   "outputs": [
    {
     "data": {
      "text/html": [
       "<div>\n",
       "<style scoped>\n",
       "    .dataframe tbody tr th:only-of-type {\n",
       "        vertical-align: middle;\n",
       "    }\n",
       "\n",
       "    .dataframe tbody tr th {\n",
       "        vertical-align: top;\n",
       "    }\n",
       "\n",
       "    .dataframe thead th {\n",
       "        text-align: right;\n",
       "    }\n",
       "</style>\n",
       "<table border=\"1\" class=\"dataframe\">\n",
       "  <thead>\n",
       "    <tr style=\"text-align: right;\">\n",
       "      <th></th>\n",
       "      <th>ISBN</th>\n",
       "      <th>Book-Title</th>\n",
       "      <th>Book-Author</th>\n",
       "      <th>Year-Of-Publication</th>\n",
       "      <th>Publisher</th>\n",
       "      <th>Image-URL-S</th>\n",
       "      <th>Image-URL-M</th>\n",
       "      <th>Image-URL-L</th>\n",
       "      <th>authors</th>\n",
       "      <th>published_date</th>\n",
       "      <th>description</th>\n",
       "      <th>isbn_10</th>\n",
       "      <th>isbn_13</th>\n",
       "      <th>page_count</th>\n",
       "      <th>categories</th>\n",
       "      <th>maturity_rating</th>\n",
       "      <th>language</th>\n",
       "      <th>join_isbn_10</th>\n",
       "    </tr>\n",
       "  </thead>\n",
       "  <tbody>\n",
       "    <tr>\n",
       "      <th>0</th>\n",
       "      <td>0195153448</td>\n",
       "      <td>Classical Mythology</td>\n",
       "      <td>Mark P. O. Morford</td>\n",
       "      <td>2002</td>\n",
       "      <td>Oxford University Press</td>\n",
       "      <td>http://images.amazon.com/images/P/0195153448.01.THUMBZZZ.jpg</td>\n",
       "      <td>http://images.amazon.com/images/P/0195153448.01.MZZZZZZZ.jpg</td>\n",
       "      <td>http://images.amazon.com/images/P/0195153448.01.LZZZZZZZ.jpg</td>\n",
       "      <td>['Mark P. O. Morford', 'Robert J. Lenardon']</td>\n",
       "      <td>2003</td>\n",
       "      <td>Provides an introduction to classical myths placing the addressed topics within their historical context, discussion of archaeological evidence as support for mythical events, and how these themes have been portrayed in literature, art, music, and film.</td>\n",
       "      <td>0195153448</td>\n",
       "      <td>9780195153446.0</td>\n",
       "      <td>808.0</td>\n",
       "      <td>['Social Science']</td>\n",
       "      <td>NOT_MATURE</td>\n",
       "      <td>en</td>\n",
       "      <td>0195153448</td>\n",
       "    </tr>\n",
       "    <tr>\n",
       "      <th>2</th>\n",
       "      <td>0060973129</td>\n",
       "      <td>Decision in Normandy</td>\n",
       "      <td>Carlo D'Este</td>\n",
       "      <td>1991</td>\n",
       "      <td>HarperPerennial</td>\n",
       "      <td>http://images.amazon.com/images/P/0060973129.01.THUMBZZZ.jpg</td>\n",
       "      <td>http://images.amazon.com/images/P/0060973129.01.MZZZZZZZ.jpg</td>\n",
       "      <td>http://images.amazon.com/images/P/0060973129.01.LZZZZZZZ.jpg</td>\n",
       "      <td>[\"Carlo D'Este\"]</td>\n",
       "      <td>1991</td>\n",
       "      <td>Here, for the first time in paperback, is an outstanding military history that offers a dramatic new perspective on the Allied campaign that began with the invasion of the D-Day beaches of Normandy. Nationa advertising in Military History.</td>\n",
       "      <td>IND:30000026059836</td>\n",
       "      <td>NaN</td>\n",
       "      <td>582.0</td>\n",
       "      <td>['1940-1949']</td>\n",
       "      <td>NOT_MATURE</td>\n",
       "      <td>en</td>\n",
       "      <td>0060973129</td>\n",
       "    </tr>\n",
       "    <tr>\n",
       "      <th>3</th>\n",
       "      <td>0374157065</td>\n",
       "      <td>Flu: The Story of the Great Influenza Pandemic of 1918 and the Search for the Virus That Caused It</td>\n",
       "      <td>Gina Bari Kolata</td>\n",
       "      <td>1999</td>\n",
       "      <td>Farrar Straus Giroux</td>\n",
       "      <td>http://images.amazon.com/images/P/0374157065.01.THUMBZZZ.jpg</td>\n",
       "      <td>http://images.amazon.com/images/P/0374157065.01.MZZZZZZZ.jpg</td>\n",
       "      <td>http://images.amazon.com/images/P/0374157065.01.LZZZZZZZ.jpg</td>\n",
       "      <td>['Gina Bari Kolata']</td>\n",
       "      <td>1999</td>\n",
       "      <td>Describes the great flu epidemic of 1918, an outbreak that killed some forty million people worldwide, and discusses the efforts of scientists and public health officials to understand and prevent another lethal pandemic</td>\n",
       "      <td>9780374157067</td>\n",
       "      <td>374157065.0</td>\n",
       "      <td>367.0</td>\n",
       "      <td>['Medical']</td>\n",
       "      <td>NOT_MATURE</td>\n",
       "      <td>en</td>\n",
       "      <td>0374157065</td>\n",
       "    </tr>\n",
       "    <tr>\n",
       "      <th>4</th>\n",
       "      <td>0393045218</td>\n",
       "      <td>The Mummies of Urumchi</td>\n",
       "      <td>E. J. W. Barber</td>\n",
       "      <td>1999</td>\n",
       "      <td>W. W. Norton &amp;amp; Company</td>\n",
       "      <td>http://images.amazon.com/images/P/0393045218.01.THUMBZZZ.jpg</td>\n",
       "      <td>http://images.amazon.com/images/P/0393045218.01.MZZZZZZZ.jpg</td>\n",
       "      <td>http://images.amazon.com/images/P/0393045218.01.LZZZZZZZ.jpg</td>\n",
       "      <td>['E. J. W. Barber']</td>\n",
       "      <td>1999</td>\n",
       "      <td>A look at the incredibly well-preserved ancient mummies found in Western China describes their clothing and appearance, attempts to reconstruct their culture, and speculates about how Caucasians could have found their way to the feet of the Himalayan mountains.</td>\n",
       "      <td>0393045218</td>\n",
       "      <td>9780393045215.0</td>\n",
       "      <td>240.0</td>\n",
       "      <td>['Design']</td>\n",
       "      <td>NOT_MATURE</td>\n",
       "      <td>en</td>\n",
       "      <td>0393045218</td>\n",
       "    </tr>\n",
       "    <tr>\n",
       "      <th>5</th>\n",
       "      <td>0399135782</td>\n",
       "      <td>The Kitchen God's Wife</td>\n",
       "      <td>Amy Tan</td>\n",
       "      <td>1991</td>\n",
       "      <td>Putnam Pub Group</td>\n",
       "      <td>http://images.amazon.com/images/P/0399135782.01.THUMBZZZ.jpg</td>\n",
       "      <td>http://images.amazon.com/images/P/0399135782.01.MZZZZZZZ.jpg</td>\n",
       "      <td>http://images.amazon.com/images/P/0399135782.01.LZZZZZZZ.jpg</td>\n",
       "      <td>['Amy Tan']</td>\n",
       "      <td>1991</td>\n",
       "      <td>A Chinese immigrant who is convinced she is dying threatens to celebrate the Chinese New Year by unburdening herself of everybody's hidden truths, thus prompting a series of comic misunderstandings</td>\n",
       "      <td>0399135782</td>\n",
       "      <td>9780399135781.0</td>\n",
       "      <td>428.0</td>\n",
       "      <td>['Fiction']</td>\n",
       "      <td>NOT_MATURE</td>\n",
       "      <td>en</td>\n",
       "      <td>0399135782</td>\n",
       "    </tr>\n",
       "  </tbody>\n",
       "</table>\n",
       "</div>"
      ],
      "text/plain": [
       "         ISBN  \\\n",
       "0  0195153448   \n",
       "2  0060973129   \n",
       "3  0374157065   \n",
       "4  0393045218   \n",
       "5  0399135782   \n",
       "\n",
       "                                                                                           Book-Title  \\\n",
       "0                                                                                 Classical Mythology   \n",
       "2                                                                                Decision in Normandy   \n",
       "3  Flu: The Story of the Great Influenza Pandemic of 1918 and the Search for the Virus That Caused It   \n",
       "4                                                                              The Mummies of Urumchi   \n",
       "5                                                                              The Kitchen God's Wife   \n",
       "\n",
       "          Book-Author Year-Of-Publication                   Publisher  \\\n",
       "0  Mark P. O. Morford                2002     Oxford University Press   \n",
       "2        Carlo D'Este                1991             HarperPerennial   \n",
       "3    Gina Bari Kolata                1999        Farrar Straus Giroux   \n",
       "4     E. J. W. Barber                1999  W. W. Norton &amp; Company   \n",
       "5             Amy Tan                1991            Putnam Pub Group   \n",
       "\n",
       "                                                    Image-URL-S  \\\n",
       "0  http://images.amazon.com/images/P/0195153448.01.THUMBZZZ.jpg   \n",
       "2  http://images.amazon.com/images/P/0060973129.01.THUMBZZZ.jpg   \n",
       "3  http://images.amazon.com/images/P/0374157065.01.THUMBZZZ.jpg   \n",
       "4  http://images.amazon.com/images/P/0393045218.01.THUMBZZZ.jpg   \n",
       "5  http://images.amazon.com/images/P/0399135782.01.THUMBZZZ.jpg   \n",
       "\n",
       "                                                    Image-URL-M  \\\n",
       "0  http://images.amazon.com/images/P/0195153448.01.MZZZZZZZ.jpg   \n",
       "2  http://images.amazon.com/images/P/0060973129.01.MZZZZZZZ.jpg   \n",
       "3  http://images.amazon.com/images/P/0374157065.01.MZZZZZZZ.jpg   \n",
       "4  http://images.amazon.com/images/P/0393045218.01.MZZZZZZZ.jpg   \n",
       "5  http://images.amazon.com/images/P/0399135782.01.MZZZZZZZ.jpg   \n",
       "\n",
       "                                                    Image-URL-L  \\\n",
       "0  http://images.amazon.com/images/P/0195153448.01.LZZZZZZZ.jpg   \n",
       "2  http://images.amazon.com/images/P/0060973129.01.LZZZZZZZ.jpg   \n",
       "3  http://images.amazon.com/images/P/0374157065.01.LZZZZZZZ.jpg   \n",
       "4  http://images.amazon.com/images/P/0393045218.01.LZZZZZZZ.jpg   \n",
       "5  http://images.amazon.com/images/P/0399135782.01.LZZZZZZZ.jpg   \n",
       "\n",
       "                                        authors published_date  \\\n",
       "0  ['Mark P. O. Morford', 'Robert J. Lenardon']           2003   \n",
       "2                              [\"Carlo D'Este\"]           1991   \n",
       "3                          ['Gina Bari Kolata']           1999   \n",
       "4                           ['E. J. W. Barber']           1999   \n",
       "5                                   ['Amy Tan']           1991   \n",
       "\n",
       "                                                                                                                                                                                                                                                             description  \\\n",
       "0          Provides an introduction to classical myths placing the addressed topics within their historical context, discussion of archaeological evidence as support for mythical events, and how these themes have been portrayed in literature, art, music, and film.   \n",
       "2                        Here, for the first time in paperback, is an outstanding military history that offers a dramatic new perspective on the Allied campaign that began with the invasion of the D-Day beaches of Normandy. Nationa advertising in Military History.   \n",
       "3                                           Describes the great flu epidemic of 1918, an outbreak that killed some forty million people worldwide, and discusses the efforts of scientists and public health officials to understand and prevent another lethal pandemic   \n",
       "4  A look at the incredibly well-preserved ancient mummies found in Western China describes their clothing and appearance, attempts to reconstruct their culture, and speculates about how Caucasians could have found their way to the feet of the Himalayan mountains.   \n",
       "5                                                                  A Chinese immigrant who is convinced she is dying threatens to celebrate the Chinese New Year by unburdening herself of everybody's hidden truths, thus prompting a series of comic misunderstandings   \n",
       "\n",
       "              isbn_10          isbn_13  page_count          categories  \\\n",
       "0          0195153448  9780195153446.0       808.0  ['Social Science']   \n",
       "2  IND:30000026059836              NaN       582.0       ['1940-1949']   \n",
       "3       9780374157067      374157065.0       367.0         ['Medical']   \n",
       "4          0393045218  9780393045215.0       240.0          ['Design']   \n",
       "5          0399135782  9780399135781.0       428.0         ['Fiction']   \n",
       "\n",
       "  maturity_rating language join_isbn_10  \n",
       "0      NOT_MATURE       en   0195153448  \n",
       "2      NOT_MATURE       en   0060973129  \n",
       "3      NOT_MATURE       en   0374157065  \n",
       "4      NOT_MATURE       en   0393045218  \n",
       "5      NOT_MATURE       en   0399135782  "
      ]
     },
     "execution_count": 72,
     "metadata": {},
     "output_type": "execute_result"
    }
   ],
   "source": [
    "#dropping rows with null values in the description column\n",
    "books_data = data_cleaning.handle_missing_values(column=\"description\", method=\"drop\")\n",
    "books_data.head()"
   ]
  },
  {
   "cell_type": "markdown",
   "metadata": {},
   "source": [
    "All entries with no description are dropped because it is a critical feature that will be used in our recommendation system."
   ]
  },
  {
   "cell_type": "code",
   "execution_count": 73,
   "metadata": {},
   "outputs": [
    {
     "data": {
      "text/html": [
       "<div>\n",
       "<style scoped>\n",
       "    .dataframe tbody tr th:only-of-type {\n",
       "        vertical-align: middle;\n",
       "    }\n",
       "\n",
       "    .dataframe tbody tr th {\n",
       "        vertical-align: top;\n",
       "    }\n",
       "\n",
       "    .dataframe thead th {\n",
       "        text-align: right;\n",
       "    }\n",
       "</style>\n",
       "<table border=\"1\" class=\"dataframe\">\n",
       "  <thead>\n",
       "    <tr style=\"text-align: right;\">\n",
       "      <th></th>\n",
       "      <th>ISBN</th>\n",
       "      <th>Book-Title</th>\n",
       "      <th>Book-Author</th>\n",
       "      <th>Year-Of-Publication</th>\n",
       "      <th>Publisher</th>\n",
       "      <th>Image-URL-S</th>\n",
       "      <th>authors</th>\n",
       "      <th>published_date</th>\n",
       "      <th>description</th>\n",
       "      <th>page_count</th>\n",
       "      <th>categories</th>\n",
       "      <th>maturity_rating</th>\n",
       "      <th>language</th>\n",
       "    </tr>\n",
       "  </thead>\n",
       "  <tbody>\n",
       "    <tr>\n",
       "      <th>0</th>\n",
       "      <td>0195153448</td>\n",
       "      <td>Classical Mythology</td>\n",
       "      <td>Mark P. O. Morford</td>\n",
       "      <td>2002</td>\n",
       "      <td>Oxford University Press</td>\n",
       "      <td>http://images.amazon.com/images/P/0195153448.01.THUMBZZZ.jpg</td>\n",
       "      <td>['Mark P. O. Morford', 'Robert J. Lenardon']</td>\n",
       "      <td>2003</td>\n",
       "      <td>Provides an introduction to classical myths placing the addressed topics within their historical context, discussion of archaeological evidence as support for mythical events, and how these themes have been portrayed in literature, art, music, and film.</td>\n",
       "      <td>808.0</td>\n",
       "      <td>['Social Science']</td>\n",
       "      <td>NOT_MATURE</td>\n",
       "      <td>en</td>\n",
       "    </tr>\n",
       "    <tr>\n",
       "      <th>2</th>\n",
       "      <td>0060973129</td>\n",
       "      <td>Decision in Normandy</td>\n",
       "      <td>Carlo D'Este</td>\n",
       "      <td>1991</td>\n",
       "      <td>HarperPerennial</td>\n",
       "      <td>http://images.amazon.com/images/P/0060973129.01.THUMBZZZ.jpg</td>\n",
       "      <td>[\"Carlo D'Este\"]</td>\n",
       "      <td>1991</td>\n",
       "      <td>Here, for the first time in paperback, is an outstanding military history that offers a dramatic new perspective on the Allied campaign that began with the invasion of the D-Day beaches of Normandy. Nationa advertising in Military History.</td>\n",
       "      <td>582.0</td>\n",
       "      <td>['1940-1949']</td>\n",
       "      <td>NOT_MATURE</td>\n",
       "      <td>en</td>\n",
       "    </tr>\n",
       "    <tr>\n",
       "      <th>3</th>\n",
       "      <td>0374157065</td>\n",
       "      <td>Flu: The Story of the Great Influenza Pandemic of 1918 and the Search for the Virus That Caused It</td>\n",
       "      <td>Gina Bari Kolata</td>\n",
       "      <td>1999</td>\n",
       "      <td>Farrar Straus Giroux</td>\n",
       "      <td>http://images.amazon.com/images/P/0374157065.01.THUMBZZZ.jpg</td>\n",
       "      <td>['Gina Bari Kolata']</td>\n",
       "      <td>1999</td>\n",
       "      <td>Describes the great flu epidemic of 1918, an outbreak that killed some forty million people worldwide, and discusses the efforts of scientists and public health officials to understand and prevent another lethal pandemic</td>\n",
       "      <td>367.0</td>\n",
       "      <td>['Medical']</td>\n",
       "      <td>NOT_MATURE</td>\n",
       "      <td>en</td>\n",
       "    </tr>\n",
       "    <tr>\n",
       "      <th>4</th>\n",
       "      <td>0393045218</td>\n",
       "      <td>The Mummies of Urumchi</td>\n",
       "      <td>E. J. W. Barber</td>\n",
       "      <td>1999</td>\n",
       "      <td>W. W. Norton &amp;amp; Company</td>\n",
       "      <td>http://images.amazon.com/images/P/0393045218.01.THUMBZZZ.jpg</td>\n",
       "      <td>['E. J. W. Barber']</td>\n",
       "      <td>1999</td>\n",
       "      <td>A look at the incredibly well-preserved ancient mummies found in Western China describes their clothing and appearance, attempts to reconstruct their culture, and speculates about how Caucasians could have found their way to the feet of the Himalayan mountains.</td>\n",
       "      <td>240.0</td>\n",
       "      <td>['Design']</td>\n",
       "      <td>NOT_MATURE</td>\n",
       "      <td>en</td>\n",
       "    </tr>\n",
       "    <tr>\n",
       "      <th>5</th>\n",
       "      <td>0399135782</td>\n",
       "      <td>The Kitchen God's Wife</td>\n",
       "      <td>Amy Tan</td>\n",
       "      <td>1991</td>\n",
       "      <td>Putnam Pub Group</td>\n",
       "      <td>http://images.amazon.com/images/P/0399135782.01.THUMBZZZ.jpg</td>\n",
       "      <td>['Amy Tan']</td>\n",
       "      <td>1991</td>\n",
       "      <td>A Chinese immigrant who is convinced she is dying threatens to celebrate the Chinese New Year by unburdening herself of everybody's hidden truths, thus prompting a series of comic misunderstandings</td>\n",
       "      <td>428.0</td>\n",
       "      <td>['Fiction']</td>\n",
       "      <td>NOT_MATURE</td>\n",
       "      <td>en</td>\n",
       "    </tr>\n",
       "  </tbody>\n",
       "</table>\n",
       "</div>"
      ],
      "text/plain": [
       "         ISBN  \\\n",
       "0  0195153448   \n",
       "2  0060973129   \n",
       "3  0374157065   \n",
       "4  0393045218   \n",
       "5  0399135782   \n",
       "\n",
       "                                                                                           Book-Title  \\\n",
       "0                                                                                 Classical Mythology   \n",
       "2                                                                                Decision in Normandy   \n",
       "3  Flu: The Story of the Great Influenza Pandemic of 1918 and the Search for the Virus That Caused It   \n",
       "4                                                                              The Mummies of Urumchi   \n",
       "5                                                                              The Kitchen God's Wife   \n",
       "\n",
       "          Book-Author Year-Of-Publication                   Publisher  \\\n",
       "0  Mark P. O. Morford                2002     Oxford University Press   \n",
       "2        Carlo D'Este                1991             HarperPerennial   \n",
       "3    Gina Bari Kolata                1999        Farrar Straus Giroux   \n",
       "4     E. J. W. Barber                1999  W. W. Norton &amp; Company   \n",
       "5             Amy Tan                1991            Putnam Pub Group   \n",
       "\n",
       "                                                    Image-URL-S  \\\n",
       "0  http://images.amazon.com/images/P/0195153448.01.THUMBZZZ.jpg   \n",
       "2  http://images.amazon.com/images/P/0060973129.01.THUMBZZZ.jpg   \n",
       "3  http://images.amazon.com/images/P/0374157065.01.THUMBZZZ.jpg   \n",
       "4  http://images.amazon.com/images/P/0393045218.01.THUMBZZZ.jpg   \n",
       "5  http://images.amazon.com/images/P/0399135782.01.THUMBZZZ.jpg   \n",
       "\n",
       "                                        authors published_date  \\\n",
       "0  ['Mark P. O. Morford', 'Robert J. Lenardon']           2003   \n",
       "2                              [\"Carlo D'Este\"]           1991   \n",
       "3                          ['Gina Bari Kolata']           1999   \n",
       "4                           ['E. J. W. Barber']           1999   \n",
       "5                                   ['Amy Tan']           1991   \n",
       "\n",
       "                                                                                                                                                                                                                                                             description  \\\n",
       "0          Provides an introduction to classical myths placing the addressed topics within their historical context, discussion of archaeological evidence as support for mythical events, and how these themes have been portrayed in literature, art, music, and film.   \n",
       "2                        Here, for the first time in paperback, is an outstanding military history that offers a dramatic new perspective on the Allied campaign that began with the invasion of the D-Day beaches of Normandy. Nationa advertising in Military History.   \n",
       "3                                           Describes the great flu epidemic of 1918, an outbreak that killed some forty million people worldwide, and discusses the efforts of scientists and public health officials to understand and prevent another lethal pandemic   \n",
       "4  A look at the incredibly well-preserved ancient mummies found in Western China describes their clothing and appearance, attempts to reconstruct their culture, and speculates about how Caucasians could have found their way to the feet of the Himalayan mountains.   \n",
       "5                                                                  A Chinese immigrant who is convinced she is dying threatens to celebrate the Chinese New Year by unburdening herself of everybody's hidden truths, thus prompting a series of comic misunderstandings   \n",
       "\n",
       "   page_count          categories maturity_rating language  \n",
       "0       808.0  ['Social Science']      NOT_MATURE       en  \n",
       "2       582.0       ['1940-1949']      NOT_MATURE       en  \n",
       "3       367.0         ['Medical']      NOT_MATURE       en  \n",
       "4       240.0          ['Design']      NOT_MATURE       en  \n",
       "5       428.0         ['Fiction']      NOT_MATURE       en  "
      ]
     },
     "execution_count": 73,
     "metadata": {},
     "output_type": "execute_result"
    }
   ],
   "source": [
    "#dropping unwanted columns from the merged dataset\n",
    "books_data=books_data.drop(['Image-URL-L', 'Image-URL-M','isbn_10', 'isbn_13','join_isbn_10'], axis=1)\n",
    "books_data.head()"
   ]
  },
  {
   "cell_type": "code",
   "execution_count": 74,
   "metadata": {},
   "outputs": [
    {
     "data": {
      "text/plain": [
       "ISBN                      0\n",
       "Book-Title                0\n",
       "Book-Author               0\n",
       "Year-Of-Publication       0\n",
       "Publisher                 1\n",
       "Image-URL-S               0\n",
       "authors                1422\n",
       "published_date           19\n",
       "description               0\n",
       "page_count              510\n",
       "categories             3977\n",
       "maturity_rating           0\n",
       "language                  0\n",
       "dtype: int64"
      ]
     },
     "execution_count": 74,
     "metadata": {},
     "output_type": "execute_result"
    }
   ],
   "source": [
    "#checking for missing values after dropping unwanted columns\n",
    "books_data.isna().sum()"
   ]
  },
  {
   "cell_type": "code",
   "execution_count": 75,
   "metadata": {},
   "outputs": [
    {
     "data": {
      "text/plain": [
       "array([2002, 1991, 1999, 2000, 1996, 1988, 2004, 1998, 1994, 2001, 1997,\n",
       "       2003, 1993, 1983, 1979, 1995, 1982, 1992, 1986, 1978, 1987, 1981,\n",
       "       1990, 1989, 1961, 1958, 1984, 1977, 1985, 1980, 1975, 1965, 1941,\n",
       "       0, 1970, 1976, 1962, 1971, 1960, 1974, 1920, 1973, 1972, 1959,\n",
       "       1953, 1951, 1964, 1968, 1969, 1954, 1950, 1967, 2005, 1957, 1956,\n",
       "       1940, 1937, 1963, 1966, 1955, 1952, 1946, 1930, 1925, 1948, 1947,\n",
       "       1945, 1943, 1923, 1942, 1939, 2030, 1949, 1932, 1929, 1927, 1936,\n",
       "       1931, 1938, 1914, 1910, 1933, 1911, 2050, 1902, 2038, 2010, 1901,\n",
       "       1921, 1935, '2000', '1995', '2004', '1990', '1994', '1989', '2002',\n",
       "       '1983', '1993', '1976', '1999', '1998', '1996', '1982', '1997',\n",
       "       '2001', '1992', '1968', '1977', '1984', '1988', '2003', '1963',\n",
       "       '1986', '1956', '0', '1981', '1991', '1974', '1985', '1978',\n",
       "       '1987', '1979', '1980', '1969', '1961', '1965', '1939', '1975',\n",
       "       '1958', '1973', '1950', '1953', '1971', '1966', '1959', '1972',\n",
       "       '1955', '1957', '1970', '1945', '1960', '1967', '1932', '1924',\n",
       "       '1964', '1927', '1948', '1962', '2006', '1951', '1954', '1952',\n",
       "       '2005', '1930', '1944', 'DK Publishing Inc', '1940', '1942',\n",
       "       '1923', 'Gallimard', '1909', '1946', '2008', '1378', '2030',\n",
       "       '1936', '2011', '1911', '1949', '1920', '1947', '1941'],\n",
       "      dtype=object)"
      ]
     },
     "execution_count": 75,
     "metadata": {},
     "output_type": "execute_result"
    }
   ],
   "source": [
    "#checking the years of publication\n",
    "books_data['Year-Of-Publication'].unique()"
   ]
  },
  {
   "cell_type": "code",
   "execution_count": 76,
   "metadata": {},
   "outputs": [
    {
     "data": {
      "text/html": [
       "<div>\n",
       "<style scoped>\n",
       "    .dataframe tbody tr th:only-of-type {\n",
       "        vertical-align: middle;\n",
       "    }\n",
       "\n",
       "    .dataframe tbody tr th {\n",
       "        vertical-align: top;\n",
       "    }\n",
       "\n",
       "    .dataframe thead th {\n",
       "        text-align: right;\n",
       "    }\n",
       "</style>\n",
       "<table border=\"1\" class=\"dataframe\">\n",
       "  <thead>\n",
       "    <tr style=\"text-align: right;\">\n",
       "      <th></th>\n",
       "      <th>ISBN</th>\n",
       "      <th>Book-Title</th>\n",
       "      <th>Book-Author</th>\n",
       "      <th>Year-Of-Publication</th>\n",
       "      <th>Publisher</th>\n",
       "      <th>Image-URL-S</th>\n",
       "      <th>authors</th>\n",
       "      <th>published_date</th>\n",
       "      <th>description</th>\n",
       "      <th>page_count</th>\n",
       "      <th>categories</th>\n",
       "      <th>maturity_rating</th>\n",
       "      <th>language</th>\n",
       "    </tr>\n",
       "  </thead>\n",
       "  <tbody>\n",
       "    <tr>\n",
       "      <th>209344</th>\n",
       "      <td>078946697X</td>\n",
       "      <td>DK Readers: Creating the X-Men, How It All Began (Level 4: Proficient Readers)\\\";Michael Teitelbaum\"</td>\n",
       "      <td>2000</td>\n",
       "      <td>DK Publishing Inc</td>\n",
       "      <td>http://images.amazon.com/images/P/078946697X.01.THUMBZZZ.jpg</td>\n",
       "      <td>http://images.amazon.com/images/P/078946697X.01.MZZZZZZZ.jpg</td>\n",
       "      <td>['Michael Teitelbaum']</td>\n",
       "      <td>2000</td>\n",
       "      <td>Provides information on such original characters from the X-men comic strip as Professor X, Iceman, Angel, Magneto, and Beast.</td>\n",
       "      <td>48.0</td>\n",
       "      <td>['Juvenile Fiction']</td>\n",
       "      <td>NOT_MATURE</td>\n",
       "      <td>en</td>\n",
       "    </tr>\n",
       "    <tr>\n",
       "      <th>221454</th>\n",
       "      <td>0789466953</td>\n",
       "      <td>DK Readers: Creating the X-Men, How Comic Books Come to Life (Level 4: Proficient Readers)\\\";James Buckley\"</td>\n",
       "      <td>2000</td>\n",
       "      <td>DK Publishing Inc</td>\n",
       "      <td>http://images.amazon.com/images/P/0789466953.01.THUMBZZZ.jpg</td>\n",
       "      <td>http://images.amazon.com/images/P/0789466953.01.MZZZZZZZ.jpg</td>\n",
       "      <td>['James Buckley (Jr.)', 'Michael Teitelbaum']</td>\n",
       "      <td>2000</td>\n",
       "      <td>Meet the artists, writers and others who make X - Men comic books come to life! Includes exclusive X - Men art! Stunning photographs combine with lively illustrations and engaging, age - appropriate stories in DK Readers, a multilevel reading program guaranteed to capture children's interest while developing their reading skills and general knowledge.</td>\n",
       "      <td>54.0</td>\n",
       "      <td>['Graphic novels']</td>\n",
       "      <td>NOT_MATURE</td>\n",
       "      <td>en</td>\n",
       "    </tr>\n",
       "  </tbody>\n",
       "</table>\n",
       "</div>"
      ],
      "text/plain": [
       "              ISBN  \\\n",
       "209344  078946697X   \n",
       "221454  0789466953   \n",
       "\n",
       "                                                                                                         Book-Title  \\\n",
       "209344         DK Readers: Creating the X-Men, How It All Began (Level 4: Proficient Readers)\\\";Michael Teitelbaum\"   \n",
       "221454  DK Readers: Creating the X-Men, How Comic Books Come to Life (Level 4: Proficient Readers)\\\";James Buckley\"   \n",
       "\n",
       "       Book-Author Year-Of-Publication  \\\n",
       "209344        2000   DK Publishing Inc   \n",
       "221454        2000   DK Publishing Inc   \n",
       "\n",
       "                                                           Publisher  \\\n",
       "209344  http://images.amazon.com/images/P/078946697X.01.THUMBZZZ.jpg   \n",
       "221454  http://images.amazon.com/images/P/0789466953.01.THUMBZZZ.jpg   \n",
       "\n",
       "                                                         Image-URL-S  \\\n",
       "209344  http://images.amazon.com/images/P/078946697X.01.MZZZZZZZ.jpg   \n",
       "221454  http://images.amazon.com/images/P/0789466953.01.MZZZZZZZ.jpg   \n",
       "\n",
       "                                              authors published_date  \\\n",
       "209344                         ['Michael Teitelbaum']           2000   \n",
       "221454  ['James Buckley (Jr.)', 'Michael Teitelbaum']           2000   \n",
       "\n",
       "                                                                                                                                                                                                                                                                                                                                                              description  \\\n",
       "209344                                                                                                                                                                                                                                     Provides information on such original characters from the X-men comic strip as Professor X, Iceman, Angel, Magneto, and Beast.   \n",
       "221454  Meet the artists, writers and others who make X - Men comic books come to life! Includes exclusive X - Men art! Stunning photographs combine with lively illustrations and engaging, age - appropriate stories in DK Readers, a multilevel reading program guaranteed to capture children's interest while developing their reading skills and general knowledge.   \n",
       "\n",
       "        page_count            categories maturity_rating language  \n",
       "209344        48.0  ['Juvenile Fiction']      NOT_MATURE       en  \n",
       "221454        54.0    ['Graphic novels']      NOT_MATURE       en  "
      ]
     },
     "execution_count": 76,
     "metadata": {},
     "output_type": "execute_result"
    }
   ],
   "source": [
    "#investigating the rows having 'DK Publishing Inc' as year Of Publication\n",
    "books_data.loc[books_data['Year-Of-Publication'] == 'DK Publishing Inc',:]"
   ]
  },
  {
   "cell_type": "markdown",
   "metadata": {},
   "source": [
    "It can be observed that there are some incorrect entries in Year of Publication column since publisher names 'DK Publishing Inc' has been incorrectly recorded as Year-Of-Publication in dataset due to some errors in csv file. "
   ]
  },
  {
   "cell_type": "code",
   "execution_count": 77,
   "metadata": {},
   "outputs": [
    {
     "data": {
      "text/html": [
       "<div>\n",
       "<style scoped>\n",
       "    .dataframe tbody tr th:only-of-type {\n",
       "        vertical-align: middle;\n",
       "    }\n",
       "\n",
       "    .dataframe tbody tr th {\n",
       "        vertical-align: top;\n",
       "    }\n",
       "\n",
       "    .dataframe thead th {\n",
       "        text-align: right;\n",
       "    }\n",
       "</style>\n",
       "<table border=\"1\" class=\"dataframe\">\n",
       "  <thead>\n",
       "    <tr style=\"text-align: right;\">\n",
       "      <th></th>\n",
       "      <th>ISBN</th>\n",
       "      <th>Book-Title</th>\n",
       "      <th>Book-Author</th>\n",
       "      <th>Year-Of-Publication</th>\n",
       "      <th>Publisher</th>\n",
       "      <th>Image-URL-S</th>\n",
       "      <th>authors</th>\n",
       "      <th>published_date</th>\n",
       "      <th>description</th>\n",
       "      <th>page_count</th>\n",
       "      <th>categories</th>\n",
       "      <th>maturity_rating</th>\n",
       "      <th>language</th>\n",
       "    </tr>\n",
       "  </thead>\n",
       "  <tbody>\n",
       "    <tr>\n",
       "      <th>209344</th>\n",
       "      <td>078946697X</td>\n",
       "      <td>DK Readers: Creating the X-Men, How It All Began (Level 4: Proficient Readers)</td>\n",
       "      <td>Michael Teitelbaum</td>\n",
       "      <td>2000</td>\n",
       "      <td>DK Publishing Inc</td>\n",
       "      <td>http://images.amazon.com/images/P/078946697X.01.MZZZZZZZ.jpg</td>\n",
       "      <td>['Michael Teitelbaum']</td>\n",
       "      <td>2000</td>\n",
       "      <td>Provides information on such original characters from the X-men comic strip as Professor X, Iceman, Angel, Magneto, and Beast.</td>\n",
       "      <td>48.0</td>\n",
       "      <td>['Juvenile Fiction']</td>\n",
       "      <td>NOT_MATURE</td>\n",
       "      <td>en</td>\n",
       "    </tr>\n",
       "    <tr>\n",
       "      <th>221454</th>\n",
       "      <td>0789466953</td>\n",
       "      <td>DK Readers: Creating the X-Men, How Comic Books Come to Life (Level 4: Proficient Readers)</td>\n",
       "      <td>James Buckley</td>\n",
       "      <td>2000</td>\n",
       "      <td>DK Publishing Inc</td>\n",
       "      <td>http://images.amazon.com/images/P/0789466953.01.MZZZZZZZ.jpg</td>\n",
       "      <td>['James Buckley (Jr.)', 'Michael Teitelbaum']</td>\n",
       "      <td>2000</td>\n",
       "      <td>Meet the artists, writers and others who make X - Men comic books come to life! Includes exclusive X - Men art! Stunning photographs combine with lively illustrations and engaging, age - appropriate stories in DK Readers, a multilevel reading program guaranteed to capture children's interest while developing their reading skills and general knowledge.</td>\n",
       "      <td>54.0</td>\n",
       "      <td>['Graphic novels']</td>\n",
       "      <td>NOT_MATURE</td>\n",
       "      <td>en</td>\n",
       "    </tr>\n",
       "  </tbody>\n",
       "</table>\n",
       "</div>"
      ],
      "text/plain": [
       "              ISBN  \\\n",
       "209344  078946697X   \n",
       "221454  0789466953   \n",
       "\n",
       "                                                                                        Book-Title  \\\n",
       "209344              DK Readers: Creating the X-Men, How It All Began (Level 4: Proficient Readers)   \n",
       "221454  DK Readers: Creating the X-Men, How Comic Books Come to Life (Level 4: Proficient Readers)   \n",
       "\n",
       "               Book-Author Year-Of-Publication          Publisher  \\\n",
       "209344  Michael Teitelbaum                2000  DK Publishing Inc   \n",
       "221454       James Buckley                2000  DK Publishing Inc   \n",
       "\n",
       "                                                         Image-URL-S  \\\n",
       "209344  http://images.amazon.com/images/P/078946697X.01.MZZZZZZZ.jpg   \n",
       "221454  http://images.amazon.com/images/P/0789466953.01.MZZZZZZZ.jpg   \n",
       "\n",
       "                                              authors published_date  \\\n",
       "209344                         ['Michael Teitelbaum']           2000   \n",
       "221454  ['James Buckley (Jr.)', 'Michael Teitelbaum']           2000   \n",
       "\n",
       "                                                                                                                                                                                                                                                                                                                                                              description  \\\n",
       "209344                                                                                                                                                                                                                                     Provides information on such original characters from the X-men comic strip as Professor X, Iceman, Angel, Magneto, and Beast.   \n",
       "221454  Meet the artists, writers and others who make X - Men comic books come to life! Includes exclusive X - Men art! Stunning photographs combine with lively illustrations and engaging, age - appropriate stories in DK Readers, a multilevel reading program guaranteed to capture children's interest while developing their reading skills and general knowledge.   \n",
       "\n",
       "        page_count            categories maturity_rating language  \n",
       "209344        48.0  ['Juvenile Fiction']      NOT_MATURE       en  \n",
       "221454        54.0    ['Graphic novels']      NOT_MATURE       en  "
      ]
     },
     "execution_count": 77,
     "metadata": {},
     "output_type": "execute_result"
    }
   ],
   "source": [
    "#Since bookAuthor is incorrectly loaded with publication year; making required corrections\n",
    "#ISBN '0789466953'\n",
    "books_data.loc[books_data.ISBN == '0789466953','Year-Of-Publication'] = 2000\n",
    "books_data.loc[books_data.ISBN == '0789466953','Book-Author'] = \"James Buckley\"\n",
    "books_data.loc[books_data.ISBN == '0789466953','Publisher'] = \"DK Publishing Inc\"\n",
    "books_data.loc[books_data.ISBN == '0789466953','Book-Title'] = \"DK Readers: Creating the X-Men, How Comic Books Come to Life (Level 4: Proficient Readers)\"\n",
    "\n",
    "#ISBN '078946697X'\n",
    "books_data.loc[books_data.ISBN == '078946697X','Year-Of-Publication'] = 2000\n",
    "books_data.loc[books_data.ISBN == '078946697X','Book-Author'] = \"Michael Teitelbaum\"\n",
    "books_data.loc[books_data.ISBN == '078946697X','Publisher'] = \"DK Publishing Inc\"\n",
    "books_data.loc[books_data.ISBN == '078946697X','Book-Title'] = \"DK Readers: Creating the X-Men, How It All Began (Level 4: Proficient Readers)\"\n",
    "\n",
    "#rechecking that the errors have been corrected\n",
    "books_data.loc[(books_data.ISBN == '0789466953') | (books_data.ISBN == '078946697X'),:]"
   ]
  },
  {
   "cell_type": "code",
   "execution_count": 78,
   "metadata": {},
   "outputs": [
    {
     "data": {
      "text/html": [
       "<div>\n",
       "<style scoped>\n",
       "    .dataframe tbody tr th:only-of-type {\n",
       "        vertical-align: middle;\n",
       "    }\n",
       "\n",
       "    .dataframe tbody tr th {\n",
       "        vertical-align: top;\n",
       "    }\n",
       "\n",
       "    .dataframe thead th {\n",
       "        text-align: right;\n",
       "    }\n",
       "</style>\n",
       "<table border=\"1\" class=\"dataframe\">\n",
       "  <thead>\n",
       "    <tr style=\"text-align: right;\">\n",
       "      <th></th>\n",
       "      <th>ISBN</th>\n",
       "      <th>Book-Title</th>\n",
       "      <th>Book-Author</th>\n",
       "      <th>Year-Of-Publication</th>\n",
       "      <th>Publisher</th>\n",
       "      <th>Image-URL-S</th>\n",
       "      <th>authors</th>\n",
       "      <th>published_date</th>\n",
       "      <th>description</th>\n",
       "      <th>page_count</th>\n",
       "      <th>categories</th>\n",
       "      <th>maturity_rating</th>\n",
       "      <th>language</th>\n",
       "    </tr>\n",
       "  </thead>\n",
       "  <tbody>\n",
       "    <tr>\n",
       "      <th>220513</th>\n",
       "      <td>2070426769</td>\n",
       "      <td>Peuple du ciel, suivi de 'Les Bergers\\\";Jean-Marie Gustave Le ClÃ?Â©zio\"</td>\n",
       "      <td>2003</td>\n",
       "      <td>Gallimard</td>\n",
       "      <td>http://images.amazon.com/images/P/2070426769.01.THUMBZZZ.jpg</td>\n",
       "      <td>http://images.amazon.com/images/P/2070426769.01.MZZZZZZZ.jpg</td>\n",
       "      <td>['Jean-Marie Gustave Le ClÃ©zio']</td>\n",
       "      <td>2002</td>\n",
       "      <td>Deux enfants vivent une expÃ©rience qui bouleverse leur vie : Petite Croix, jeune aveugle en quÃªte de la couleur bleue, dÃ©couvre la beautÃ© du monde au cours d'un Ã©tonnant voyage intÃ©rieur, tandis que Gaspar, Ã©levÃ© dans une ville, se voit rÃ©vÃ©ler la libertÃ© du nomadisme... Des histoires insolites oÃ¹ les enfants sont des magiciens qui nous entraÃ®nent de l'autre cÃ´tÃ© du miroir. RÃ©cits initiatiques, passages d'un monde Ã  un autre, ces nouvelles poÃ©tiques semblent nÃ©es du rÃªve d'un Ã©crivain.</td>\n",
       "      <td>132.0</td>\n",
       "      <td>['Fiction']</td>\n",
       "      <td>NOT_MATURE</td>\n",
       "      <td>fr</td>\n",
       "    </tr>\n",
       "  </tbody>\n",
       "</table>\n",
       "</div>"
      ],
      "text/plain": [
       "              ISBN  \\\n",
       "220513  2070426769   \n",
       "\n",
       "                                                                      Book-Title  \\\n",
       "220513  Peuple du ciel, suivi de 'Les Bergers\\\";Jean-Marie Gustave Le ClÃ?Â©zio\"   \n",
       "\n",
       "       Book-Author Year-Of-Publication  \\\n",
       "220513        2003           Gallimard   \n",
       "\n",
       "                                                           Publisher  \\\n",
       "220513  http://images.amazon.com/images/P/2070426769.01.THUMBZZZ.jpg   \n",
       "\n",
       "                                                         Image-URL-S  \\\n",
       "220513  http://images.amazon.com/images/P/2070426769.01.MZZZZZZZ.jpg   \n",
       "\n",
       "                                  authors published_date  \\\n",
       "220513  ['Jean-Marie Gustave Le ClÃ©zio']           2002   \n",
       "\n",
       "                                                                                                                                                                                                                                                                                                                                                                                                                                                                                                                            description  \\\n",
       "220513  Deux enfants vivent une expÃ©rience qui bouleverse leur vie : Petite Croix, jeune aveugle en quÃªte de la couleur bleue, dÃ©couvre la beautÃ© du monde au cours d'un Ã©tonnant voyage intÃ©rieur, tandis que Gaspar, Ã©levÃ© dans une ville, se voit rÃ©vÃ©ler la libertÃ© du nomadisme... Des histoires insolites oÃ¹ les enfants sont des magiciens qui nous entraÃ®nent de l'autre cÃ´tÃ© du miroir. RÃ©cits initiatiques, passages d'un monde Ã  un autre, ces nouvelles poÃ©tiques semblent nÃ©es du rÃªve d'un Ã©crivain.   \n",
       "\n",
       "        page_count   categories maturity_rating language  \n",
       "220513       132.0  ['Fiction']      NOT_MATURE       fr  "
      ]
     },
     "execution_count": 78,
     "metadata": {},
     "output_type": "execute_result"
    }
   ],
   "source": [
    "#investigating the rows having 'Gallimard' as yearOfPublication\n",
    "books_data.loc[books_data['Year-Of-Publication'] == 'Gallimard',:]"
   ]
  },
  {
   "cell_type": "code",
   "execution_count": 79,
   "metadata": {},
   "outputs": [
    {
     "data": {
      "text/html": [
       "<div>\n",
       "<style scoped>\n",
       "    .dataframe tbody tr th:only-of-type {\n",
       "        vertical-align: middle;\n",
       "    }\n",
       "\n",
       "    .dataframe tbody tr th {\n",
       "        vertical-align: top;\n",
       "    }\n",
       "\n",
       "    .dataframe thead th {\n",
       "        text-align: right;\n",
       "    }\n",
       "</style>\n",
       "<table border=\"1\" class=\"dataframe\">\n",
       "  <thead>\n",
       "    <tr style=\"text-align: right;\">\n",
       "      <th></th>\n",
       "      <th>ISBN</th>\n",
       "      <th>Book-Title</th>\n",
       "      <th>Book-Author</th>\n",
       "      <th>Year-Of-Publication</th>\n",
       "      <th>Publisher</th>\n",
       "      <th>Image-URL-S</th>\n",
       "      <th>authors</th>\n",
       "      <th>published_date</th>\n",
       "      <th>description</th>\n",
       "      <th>page_count</th>\n",
       "      <th>categories</th>\n",
       "      <th>maturity_rating</th>\n",
       "      <th>language</th>\n",
       "    </tr>\n",
       "  </thead>\n",
       "  <tbody>\n",
       "    <tr>\n",
       "      <th>220513</th>\n",
       "      <td>2070426769</td>\n",
       "      <td>Peuple du ciel, suivi de 'Les Bergers</td>\n",
       "      <td>Jean-Marie Gustave Le ClÃ?Â©zio</td>\n",
       "      <td>2003</td>\n",
       "      <td>Gallimard</td>\n",
       "      <td>http://images.amazon.com/images/P/2070426769.01.MZZZZZZZ.jpg</td>\n",
       "      <td>['Jean-Marie Gustave Le ClÃ©zio']</td>\n",
       "      <td>2002</td>\n",
       "      <td>Deux enfants vivent une expÃ©rience qui bouleverse leur vie : Petite Croix, jeune aveugle en quÃªte de la couleur bleue, dÃ©couvre la beautÃ© du monde au cours d'un Ã©tonnant voyage intÃ©rieur, tandis que Gaspar, Ã©levÃ© dans une ville, se voit rÃ©vÃ©ler la libertÃ© du nomadisme... Des histoires insolites oÃ¹ les enfants sont des magiciens qui nous entraÃ®nent de l'autre cÃ´tÃ© du miroir. RÃ©cits initiatiques, passages d'un monde Ã  un autre, ces nouvelles poÃ©tiques semblent nÃ©es du rÃªve d'un Ã©crivain.</td>\n",
       "      <td>132.0</td>\n",
       "      <td>['Fiction']</td>\n",
       "      <td>NOT_MATURE</td>\n",
       "      <td>fr</td>\n",
       "    </tr>\n",
       "  </tbody>\n",
       "</table>\n",
       "</div>"
      ],
      "text/plain": [
       "              ISBN                             Book-Title  \\\n",
       "220513  2070426769  Peuple du ciel, suivi de 'Les Bergers   \n",
       "\n",
       "                            Book-Author Year-Of-Publication  Publisher  \\\n",
       "220513  Jean-Marie Gustave Le ClÃ?Â©zio                2003  Gallimard   \n",
       "\n",
       "                                                         Image-URL-S  \\\n",
       "220513  http://images.amazon.com/images/P/2070426769.01.MZZZZZZZ.jpg   \n",
       "\n",
       "                                  authors published_date  \\\n",
       "220513  ['Jean-Marie Gustave Le ClÃ©zio']           2002   \n",
       "\n",
       "                                                                                                                                                                                                                                                                                                                                                                                                                                                                                                                            description  \\\n",
       "220513  Deux enfants vivent une expÃ©rience qui bouleverse leur vie : Petite Croix, jeune aveugle en quÃªte de la couleur bleue, dÃ©couvre la beautÃ© du monde au cours d'un Ã©tonnant voyage intÃ©rieur, tandis que Gaspar, Ã©levÃ© dans une ville, se voit rÃ©vÃ©ler la libertÃ© du nomadisme... Des histoires insolites oÃ¹ les enfants sont des magiciens qui nous entraÃ®nent de l'autre cÃ´tÃ© du miroir. RÃ©cits initiatiques, passages d'un monde Ã  un autre, ces nouvelles poÃ©tiques semblent nÃ©es du rÃªve d'un Ã©crivain.   \n",
       "\n",
       "        page_count   categories maturity_rating language  \n",
       "220513       132.0  ['Fiction']      NOT_MATURE       fr  "
      ]
     },
     "execution_count": 79,
     "metadata": {},
     "output_type": "execute_result"
    }
   ],
   "source": [
    "#making required corrections for Gallimard while keeping other fields intact\n",
    "books_data.loc[books_data.ISBN == '2070426769','Year-Of-Publication'] = 2003\n",
    "books_data.loc[books_data.ISBN == '2070426769','Book-Author'] = \"Jean-Marie Gustave Le ClÃ?Â©zio\"\n",
    "books_data.loc[books_data.ISBN == '2070426769','Publisher'] = \"Gallimard\"\n",
    "books_data.loc[books_data.ISBN == '2070426769','Book-Title'] = \"Peuple du ciel, suivi de 'Les Bergers\"\n",
    "\n",
    "#rechecking that the corrections have been made\n",
    "books_data.loc[books_data.ISBN == '2070426769',:]"
   ]
  },
  {
   "cell_type": "code",
   "execution_count": 80,
   "metadata": {},
   "outputs": [
    {
     "data": {
      "text/plain": [
       "array([2002, 1991, 1999, 2000, 1996, 1988, 2004, 1998, 1994, 2001, 1997,\n",
       "       2003, 1993, 1983, 1979, 1995, 1982, 1992, 1986, 1978, 1987, 1981,\n",
       "       1990, 1989, 1961, 1958, 1984, 1977, 1985, 1980, 1975, 1965, 1941,\n",
       "       0, 1970, 1976, 1962, 1971, 1960, 1974, 1920, 1973, 1972, 1959,\n",
       "       1953, 1951, 1964, 1968, 1969, 1954, 1950, 1967, 2005, 1957, 1956,\n",
       "       1940, 1937, 1963, 1966, 1955, 1952, 1946, 1930, 1925, 1948, 1947,\n",
       "       1945, 1943, 1923, 1942, 1939, 2030, 1949, 1932, 1929, 1927, 1936,\n",
       "       1931, 1938, 1914, 1910, 1933, 1911, 2050, 1902, 2038, 2010, 1901,\n",
       "       1921, 1935, '2000', '1995', '2004', '1990', '1994', '1989', '2002',\n",
       "       '1983', '1993', '1976', '1999', '1998', '1996', '1982', '1997',\n",
       "       '2001', '1992', '1968', '1977', '1984', '1988', '2003', '1963',\n",
       "       '1986', '1956', '0', '1981', '1991', '1974', '1985', '1978',\n",
       "       '1987', '1979', '1980', '1969', '1961', '1965', '1939', '1975',\n",
       "       '1958', '1973', '1950', '1953', '1971', '1966', '1959', '1972',\n",
       "       '1955', '1957', '1970', '1945', '1960', '1967', '1932', '1924',\n",
       "       '1964', '1927', '1948', '1962', '2006', '1951', '1954', '1952',\n",
       "       '2005', '1930', '1944', '1940', '1942', '1923', '1909', '1946',\n",
       "       '2008', '1378', '2030', '1936', '2011', '1911', '1949', '1920',\n",
       "       '1947', '1941'], dtype=object)"
      ]
     },
     "execution_count": 80,
     "metadata": {},
     "output_type": "execute_result"
    }
   ],
   "source": [
    "# preview\n",
    "books_data['Year-Of-Publication'].unique()"
   ]
  },
  {
   "cell_type": "markdown",
   "metadata": {},
   "source": [
    "> Evidently,the data type of the year of publication are not consistently integers. "
   ]
  },
  {
   "cell_type": "code",
   "execution_count": 81,
   "metadata": {},
   "outputs": [],
   "source": [
    "# Converting the 'Year-Of-Publication' column to integers\n",
    "books_data['Year-Of-Publication'] = pd.to_numeric(books_data['Year-Of-Publication'], errors='coerce')"
   ]
  },
  {
   "cell_type": "code",
   "execution_count": 82,
   "metadata": {},
   "outputs": [
    {
     "data": {
      "text/html": [
       "<div>\n",
       "<style scoped>\n",
       "    .dataframe tbody tr th:only-of-type {\n",
       "        vertical-align: middle;\n",
       "    }\n",
       "\n",
       "    .dataframe tbody tr th {\n",
       "        vertical-align: top;\n",
       "    }\n",
       "\n",
       "    .dataframe thead th {\n",
       "        text-align: right;\n",
       "    }\n",
       "</style>\n",
       "<table border=\"1\" class=\"dataframe\">\n",
       "  <thead>\n",
       "    <tr style=\"text-align: right;\">\n",
       "      <th></th>\n",
       "      <th>ISBN</th>\n",
       "      <th>Book-Title</th>\n",
       "      <th>Book-Author</th>\n",
       "      <th>Year-Of-Publication</th>\n",
       "      <th>Publisher</th>\n",
       "      <th>Image-URL-S</th>\n",
       "      <th>authors</th>\n",
       "      <th>published_date</th>\n",
       "      <th>description</th>\n",
       "      <th>page_count</th>\n",
       "      <th>categories</th>\n",
       "      <th>maturity_rating</th>\n",
       "      <th>language</th>\n",
       "    </tr>\n",
       "  </thead>\n",
       "  <tbody>\n",
       "    <tr>\n",
       "      <th>542</th>\n",
       "      <td>8845229041</td>\n",
       "      <td>Biblioteca Universale Rizzoli: Sulla Sponda Del Fiume Piedra</td>\n",
       "      <td>P Coelho</td>\n",
       "      <td>0</td>\n",
       "      <td>Fabbri - RCS Libri</td>\n",
       "      <td>http://images.amazon.com/images/P/8845229041.01.THUMBZZZ.jpg</td>\n",
       "      <td>['Paulo Coelho']</td>\n",
       "      <td>1996</td>\n",
       "      <td>Pilar ritrova a Madrid l'amico dell'infanzia. Questi ha girato il mondo ed ÃÂ¨ poi entrato in seminario, dove si dice abbia fatto miracoli. Pilar ÃÂ¨ una donna passionale, ma delusa dalla vita. Con l'amico d'infanzia compie un viaggio di sei giorni durante il quale la donna ritrova se stessa attraverso una riflessione mistico-iniziatica. I due si recano a Lourdes dove cementeranno il loro amore alla luce di una fede che esalta i valori della missione nel mondo.</td>\n",
       "      <td>216.0</td>\n",
       "      <td>['Fiction']</td>\n",
       "      <td>NOT_MATURE</td>\n",
       "      <td>it</td>\n",
       "    </tr>\n",
       "    <tr>\n",
       "      <th>646</th>\n",
       "      <td>0590021117</td>\n",
       "      <td>Little House On the Prairie</td>\n",
       "      <td>Laura Ingall Wilder</td>\n",
       "      <td>0</td>\n",
       "      <td>Scholastic Inc</td>\n",
       "      <td>http://images.amazon.com/images/P/0590021117.01.THUMBZZZ.jpg</td>\n",
       "      <td>['Laura Ingalls Wilder']</td>\n",
       "      <td>1953</td>\n",
       "      <td>A family travels from the big woods of Wisconsin, to a new home on the praire, where they build a house, meet neighboring Indians, build a well, and fight a praire fire.</td>\n",
       "      <td>221.0</td>\n",
       "      <td>['Families']</td>\n",
       "      <td>NOT_MATURE</td>\n",
       "      <td>en</td>\n",
       "    </tr>\n",
       "    <tr>\n",
       "      <th>728</th>\n",
       "      <td>2070362388</td>\n",
       "      <td>Ravage</td>\n",
       "      <td>Rene Barjavel</td>\n",
       "      <td>0</td>\n",
       "      <td>Gallimard French</td>\n",
       "      <td>http://images.amazon.com/images/P/2070362388.01.THUMBZZZ.jpg</td>\n",
       "      <td>['RenÃÂ© Barjavel']</td>\n",
       "      <td>1972</td>\n",
       "      <td>De l'autre cÃÂ´tÃÂ© de la Seine une coulÃÂ©e de quintessence enflammÃÂ©e atteint, dans les sous-sols de la caserne de Chaillot, ancien TrocadÃÂ©ro, le dÃÂ©pÃÂ´t de munitions et le laboratoire de recherches des poudres. Une formidable explosion entrouvre la colline. Des pans de murs, des colonnes, des rochers, des tonnes de dÃÂ©bris montent au-dessus du fleuve, retombent sur la foule agenouillÃÂ©e qui rÃÂ¢le son adoration et sa peur fendent les crÃÂ¢nes, arrachent les membres, brisent les os. Un ÃÂ©norme bloc de terre et de ciment aplatit d'un seul coup la moitiÃÂ© des fidÃÂ¨les de la paroisse du Gros-Caillou. En haut de la Tour, un jet de flammes arrache l'ostensoir des mains du prÃÂªtre ÃÂ©pouvantÃÂ©.</td>\n",
       "      <td>313.0</td>\n",
       "      <td>['Fiction']</td>\n",
       "      <td>NOT_MATURE</td>\n",
       "      <td>fr</td>\n",
       "    </tr>\n",
       "    <tr>\n",
       "      <th>732</th>\n",
       "      <td>2266033689</td>\n",
       "      <td>Le Diable Au Corps</td>\n",
       "      <td>Raymond Radiguet</td>\n",
       "      <td>0</td>\n",
       "      <td>Presses Pocket French</td>\n",
       "      <td>http://images.amazon.com/images/P/2266033689.01.THUMBZZZ.jpg</td>\n",
       "      <td>['Raymond Radiguet']</td>\n",
       "      <td>1990</td>\n",
       "      <td>Pendant la premiÃÂ¨re guerre mondiale, FranÃÂ§ois, un lycÃÂ©en, fait la connaissance de Marthe, une jeune femme de dix-huit ans. Celle-ci est fiancÃÂ©e ÃÂ  Jacques, un soldat qui se bat sur le front. Au mÃÂ©pris des commÃÂ©rages, FranÃÂ§ois et Marthe vont devenir amants. Mais FranÃÂ§ois n'est-il pas trop jeune pour s'engager dans une telle liaison ?</td>\n",
       "      <td>206.0</td>\n",
       "      <td>NaN</td>\n",
       "      <td>NOT_MATURE</td>\n",
       "      <td>fr</td>\n",
       "    </tr>\n",
       "    <tr>\n",
       "      <th>797</th>\n",
       "      <td>0718144538</td>\n",
       "      <td>Shattered Uk</td>\n",
       "      <td>Dick Francis</td>\n",
       "      <td>0</td>\n",
       "      <td>Michael Joseph Ltd</td>\n",
       "      <td>http://images.amazon.com/images/P/0718144538.01.THUMBZZZ.jpg</td>\n",
       "      <td>['Dick Francis']</td>\n",
       "      <td>2000</td>\n",
       "      <td>Gerard Logan finds that when his jockey friend dies following a fall at the Cheltenham races, he is involved in a desperate search for a stolen video tape which embroils him in more life-threatening hazards than does his work as a widely-acclaimed glass-blower.</td>\n",
       "      <td>271.0</td>\n",
       "      <td>['Detective and mystery stories']</td>\n",
       "      <td>NOT_MATURE</td>\n",
       "      <td>en</td>\n",
       "    </tr>\n",
       "    <tr>\n",
       "      <th>...</th>\n",
       "      <td>...</td>\n",
       "      <td>...</td>\n",
       "      <td>...</td>\n",
       "      <td>...</td>\n",
       "      <td>...</td>\n",
       "      <td>...</td>\n",
       "      <td>...</td>\n",
       "      <td>...</td>\n",
       "      <td>...</td>\n",
       "      <td>...</td>\n",
       "      <td>...</td>\n",
       "      <td>...</td>\n",
       "      <td>...</td>\n",
       "    </tr>\n",
       "    <tr>\n",
       "      <th>270082</th>\n",
       "      <td>0517209802</td>\n",
       "      <td>Christmas Memories With Recipes</td>\n",
       "      <td>Compilation</td>\n",
       "      <td>0</td>\n",
       "      <td>Random House</td>\n",
       "      <td>http://images.amazon.com/images/P/0517209802.01.THUMBZZZ.jpg</td>\n",
       "      <td>NaN</td>\n",
       "      <td>1988</td>\n",
       "      <td>25 of today's master chefs and leading food writers share their holiday food recollections.</td>\n",
       "      <td>340.0</td>\n",
       "      <td>['Christmas']</td>\n",
       "      <td>NOT_MATURE</td>\n",
       "      <td>en</td>\n",
       "    </tr>\n",
       "    <tr>\n",
       "      <th>270168</th>\n",
       "      <td>0571204163</td>\n",
       "      <td>Headlong</td>\n",
       "      <td>Michael Frayn</td>\n",
       "      <td>0</td>\n",
       "      <td>Faber Faber Inc</td>\n",
       "      <td>http://images.amazon.com/images/P/0571204163.01.THUMBZZZ.jpg</td>\n",
       "      <td>['Michael Frayn']</td>\n",
       "      <td>1999</td>\n",
       "      <td>An unlikely con man wagers wife, wealth, and sanity in pursuit of an elusive Old Master. Invited to dinner by the boorish local landowner, Martin Clay, an easily distracted philosopher, and his art-historian wife are asked to assess three dusty paintings blocking the draught from the chimney. But hiding beneath the soot is nothing less-Martin believes-than a lost work by Bruegel. So begins a hilarious trail of lies and concealments, desperate schemes and soaring hopes as Martin, betting all that he owns and much that he doesn't, embarks on a quest to prove his hunch, win his wife over, and separate the painting from its owner. In Headlong, Michael Frayn, \"the master of what is seriously funny\" (Anthony Burgess), offers a procession of superbly realized characters, from the country squire gone to seed to his giddy, oversexed young wife. All are burdened by human muddle and human cravings; all are searching for a moral compass as they grapple with greed, folly, and desire. And at the heart of the clamor is Breugel's vision, its dark tones warning of the real risks of temptation and obsession. With this new novel, Michael Frayn has given us entertainment of the highest order. Supremely wise and wickedly funny, Headlong elevates Frayn into the front rank of contemporary novelists.</td>\n",
       "      <td>394.0</td>\n",
       "      <td>['Art historians']</td>\n",
       "      <td>NOT_MATURE</td>\n",
       "      <td>en</td>\n",
       "    </tr>\n",
       "    <tr>\n",
       "      <th>270363</th>\n",
       "      <td>0752841092</td>\n",
       "      <td>The Ex-files</td>\n",
       "      <td>Jane Moore</td>\n",
       "      <td>0</td>\n",
       "      <td>Orion mass market paperback</td>\n",
       "      <td>http://images.amazon.com/images/P/0752841092.01.THUMBZZZ.jpg</td>\n",
       "      <td>['Jane Moore']</td>\n",
       "      <td>2003</td>\n",
       "      <td>Fay Parker is beautiful, successful - and worried she'll never find her perfect match. So when she meets a caring, good-looking man who adores her, she casts aside any niggling doubts and accepts his proposal. In a bid to be modern and grown-up, the bride and groom invite a potentially explosive mix of ex-boyfriends and girlfriends, and Fay is determined to enjoy her special day. But there's one person present who has other ideas . . . Jane MooreÂ¿s antennae are perfectly tuned to what men and women really think of each other in the noughties. THE EX FILES is a bracing, witty look at contemporary relationships that will make you laugh and, possibly, make you think as well.</td>\n",
       "      <td>329.0</td>\n",
       "      <td>['Brothers']</td>\n",
       "      <td>NOT_MATURE</td>\n",
       "      <td>en</td>\n",
       "    </tr>\n",
       "    <tr>\n",
       "      <th>270478</th>\n",
       "      <td>014029953X</td>\n",
       "      <td>Foe (Essential.penguin S.)</td>\n",
       "      <td>J.M. Coetzee</td>\n",
       "      <td>0</td>\n",
       "      <td>Penguin Books Ltd</td>\n",
       "      <td>http://images.amazon.com/images/P/014029953X.01.THUMBZZZ.jpg</td>\n",
       "      <td>['J. M. Coetzee']</td>\n",
       "      <td>1987</td>\n",
       "      <td>Susan Barton finds herself marooned on an island with an Englishman named Robinson Cruso and his mute (mutilated) slave, Friday. Rescued after a year, back in England with Friday in tow, she approaches author, Daniel Foe, offering him the story.</td>\n",
       "      <td>157.0</td>\n",
       "      <td>['Shipwreck survival']</td>\n",
       "      <td>NOT_MATURE</td>\n",
       "      <td>en</td>\n",
       "    </tr>\n",
       "    <tr>\n",
       "      <th>270880</th>\n",
       "      <td>3150013763</td>\n",
       "      <td>Der Hofmeister</td>\n",
       "      <td>Jakob Lenz</td>\n",
       "      <td>0</td>\n",
       "      <td>Philipp Reclam, Jun Verlag GmbH</td>\n",
       "      <td>http://images.amazon.com/images/P/3150013763.01.THUMBZZZ.jpg</td>\n",
       "      <td>['Jakob Michael Reinhold Lenz', 'Karl Siegfried Guthke']</td>\n",
       "      <td>1993</td>\n",
       "      <td>Mit Jakob Michael Reinhold Lenz' 1774 anonym erschienenem Sturm-und-Drang-Drama quot, Der Hofmeister oder Vorteile der Privaterziehungquot, beginnt das sozialkritische Milieudrama in Deutschland, das Ã¼ber BÃ¼chner und Wedekind zu Bertolt Brecht fÃ¼hrt. In der Handlung um den Hofmeister LÃ¤uffer, der sich in die abhÃ¤ngige Stellung eines Hauslehrers begibt, sich in die Tochter seines Hausherrn verliebt, sie entehrt, flieht, Gehilfen eines Dorfschulmeisters wird und sein neues Ideal eines einfachen, enthaltsamen Lebens bis zur Selbstentmannung verwirklicht, sind tragische mit komischen Elementen aufs Engste miteinander verwoben. Mit dieser Mischung aus Tragischem und Komischem ist quot, Der Hofmeisterquot, eine der frÃ¼hesten TragikomÃ¶dien der deutschen Literaturgeschichte. Lenz verzichtet in seinem quot, offenen Dramaquot, auf die aristotelische Einheit von Ort, Zeit und Handlung und arbeitet mit modernen dramatischen Techniken, etwa vielen kurzen Szenen. Text aus Reclams Universal-Bibliothek mit SeitenzÃ¤hlung der gedruckten Ausgabe.</td>\n",
       "      <td>100.0</td>\n",
       "      <td>['Educators']</td>\n",
       "      <td>NOT_MATURE</td>\n",
       "      <td>de</td>\n",
       "    </tr>\n",
       "  </tbody>\n",
       "</table>\n",
       "<p>1991 rows × 13 columns</p>\n",
       "</div>"
      ],
      "text/plain": [
       "              ISBN  \\\n",
       "542     8845229041   \n",
       "646     0590021117   \n",
       "728     2070362388   \n",
       "732     2266033689   \n",
       "797     0718144538   \n",
       "...            ...   \n",
       "270082  0517209802   \n",
       "270168  0571204163   \n",
       "270363  0752841092   \n",
       "270478  014029953X   \n",
       "270880  3150013763   \n",
       "\n",
       "                                                          Book-Title  \\\n",
       "542     Biblioteca Universale Rizzoli: Sulla Sponda Del Fiume Piedra   \n",
       "646                                      Little House On the Prairie   \n",
       "728                                                           Ravage   \n",
       "732                                               Le Diable Au Corps   \n",
       "797                                                     Shattered Uk   \n",
       "...                                                              ...   \n",
       "270082                               Christmas Memories With Recipes   \n",
       "270168                                                      Headlong   \n",
       "270363                                                  The Ex-files   \n",
       "270478                                    Foe (Essential.penguin S.)   \n",
       "270880                                                Der Hofmeister   \n",
       "\n",
       "                Book-Author  Year-Of-Publication  \\\n",
       "542                P Coelho                    0   \n",
       "646     Laura Ingall Wilder                    0   \n",
       "728           Rene Barjavel                    0   \n",
       "732        Raymond Radiguet                    0   \n",
       "797            Dick Francis                    0   \n",
       "...                     ...                  ...   \n",
       "270082          Compilation                    0   \n",
       "270168        Michael Frayn                    0   \n",
       "270363           Jane Moore                    0   \n",
       "270478         J.M. Coetzee                    0   \n",
       "270880           Jakob Lenz                    0   \n",
       "\n",
       "                              Publisher  \\\n",
       "542                  Fabbri - RCS Libri   \n",
       "646                      Scholastic Inc   \n",
       "728                    Gallimard French   \n",
       "732               Presses Pocket French   \n",
       "797                  Michael Joseph Ltd   \n",
       "...                                 ...   \n",
       "270082                     Random House   \n",
       "270168                  Faber Faber Inc   \n",
       "270363      Orion mass market paperback   \n",
       "270478                Penguin Books Ltd   \n",
       "270880  Philipp Reclam, Jun Verlag GmbH   \n",
       "\n",
       "                                                         Image-URL-S  \\\n",
       "542     http://images.amazon.com/images/P/8845229041.01.THUMBZZZ.jpg   \n",
       "646     http://images.amazon.com/images/P/0590021117.01.THUMBZZZ.jpg   \n",
       "728     http://images.amazon.com/images/P/2070362388.01.THUMBZZZ.jpg   \n",
       "732     http://images.amazon.com/images/P/2266033689.01.THUMBZZZ.jpg   \n",
       "797     http://images.amazon.com/images/P/0718144538.01.THUMBZZZ.jpg   \n",
       "...                                                              ...   \n",
       "270082  http://images.amazon.com/images/P/0517209802.01.THUMBZZZ.jpg   \n",
       "270168  http://images.amazon.com/images/P/0571204163.01.THUMBZZZ.jpg   \n",
       "270363  http://images.amazon.com/images/P/0752841092.01.THUMBZZZ.jpg   \n",
       "270478  http://images.amazon.com/images/P/014029953X.01.THUMBZZZ.jpg   \n",
       "270880  http://images.amazon.com/images/P/3150013763.01.THUMBZZZ.jpg   \n",
       "\n",
       "                                                         authors  \\\n",
       "542                                             ['Paulo Coelho']   \n",
       "646                                     ['Laura Ingalls Wilder']   \n",
       "728                                         ['RenÃÂ© Barjavel']   \n",
       "732                                         ['Raymond Radiguet']   \n",
       "797                                             ['Dick Francis']   \n",
       "...                                                          ...   \n",
       "270082                                                       NaN   \n",
       "270168                                         ['Michael Frayn']   \n",
       "270363                                            ['Jane Moore']   \n",
       "270478                                         ['J. M. Coetzee']   \n",
       "270880  ['Jakob Michael Reinhold Lenz', 'Karl Siegfried Guthke']   \n",
       "\n",
       "       published_date  \\\n",
       "542              1996   \n",
       "646              1953   \n",
       "728              1972   \n",
       "732              1990   \n",
       "797              2000   \n",
       "...               ...   \n",
       "270082           1988   \n",
       "270168           1999   \n",
       "270363           2003   \n",
       "270478           1987   \n",
       "270880           1993   \n",
       "\n",
       "                                                                                                                                                                                                                                                                                                                                                                                                                                                                                                                                                                                                                                                                                                                                                                                                                                                                                                                                                                                                                                                                                                                                                                                                                                                                                                                                              description  \\\n",
       "542                                                                                                                                                                                                                                                                                                                                                                                                                                                                                                                                                                                                                                                                                                                                                                                                                                                                   Pilar ritrova a Madrid l'amico dell'infanzia. Questi ha girato il mondo ed ÃÂ¨ poi entrato in seminario, dove si dice abbia fatto miracoli. Pilar ÃÂ¨ una donna passionale, ma delusa dalla vita. Con l'amico d'infanzia compie un viaggio di sei giorni durante il quale la donna ritrova se stessa attraverso una riflessione mistico-iniziatica. I due si recano a Lourdes dove cementeranno il loro amore alla luce di una fede che esalta i valori della missione nel mondo.   \n",
       "646                                                                                                                                                                                                                                                                                                                                                                                                                                                                                                                                                                                                                                                                                                                                                                                                                                                                                                                                                                                                                                                                                                                                                                             A family travels from the big woods of Wisconsin, to a new home on the praire, where they build a house, meet neighboring Indians, build a well, and fight a praire fire.   \n",
       "728                                                                                                                                                                                                                                                                                                                                                                                                                                                                                                                                                                                              De l'autre cÃÂ´tÃÂ© de la Seine une coulÃÂ©e de quintessence enflammÃÂ©e atteint, dans les sous-sols de la caserne de Chaillot, ancien TrocadÃÂ©ro, le dÃÂ©pÃÂ´t de munitions et le laboratoire de recherches des poudres. Une formidable explosion entrouvre la colline. Des pans de murs, des colonnes, des rochers, des tonnes de dÃÂ©bris montent au-dessus du fleuve, retombent sur la foule agenouillÃÂ©e qui rÃÂ¢le son adoration et sa peur fendent les crÃÂ¢nes, arrachent les membres, brisent les os. Un ÃÂ©norme bloc de terre et de ciment aplatit d'un seul coup la moitiÃÂ© des fidÃÂ¨les de la paroisse du Gros-Caillou. En haut de la Tour, un jet de flammes arrache l'ostensoir des mains du prÃÂªtre ÃÂ©pouvantÃÂ©.   \n",
       "732                                                                                                                                                                                                                                                                                                                                                                                                                                                                                                                                                                                                                                                                                                                                                                                                                                                                                                                                                                              Pendant la premiÃÂ¨re guerre mondiale, FranÃÂ§ois, un lycÃÂ©en, fait la connaissance de Marthe, une jeune femme de dix-huit ans. Celle-ci est fiancÃÂ©e ÃÂ  Jacques, un soldat qui se bat sur le front. Au mÃÂ©pris des commÃÂ©rages, FranÃÂ§ois et Marthe vont devenir amants. Mais FranÃÂ§ois n'est-il pas trop jeune pour s'engager dans une telle liaison ?   \n",
       "797                                                                                                                                                                                                                                                                                                                                                                                                                                                                                                                                                                                                                                                                                                                                                                                                                                                                                                                                                                                                                                                                                 Gerard Logan finds that when his jockey friend dies following a fall at the Cheltenham races, he is involved in a desperate search for a stolen video tape which embroils him in more life-threatening hazards than does his work as a widely-acclaimed glass-blower.   \n",
       "...                                                                                                                                                                                                                                                                                                                                                                                                                                                                                                                                                                                                                                                                                                                                                                                                                                                                                                                                                                                                                                                                                                                                                                                                                                                                                                                                                   ...   \n",
       "270082                                                                                                                                                                                                                                                                                                                                                                                                                                                                                                                                                                                                                                                                                                                                                                                                                                                                                                                                                                                                                                                                                                                                                                                                                                                        25 of today's master chefs and leading food writers share their holiday food recollections.   \n",
       "270168  An unlikely con man wagers wife, wealth, and sanity in pursuit of an elusive Old Master. Invited to dinner by the boorish local landowner, Martin Clay, an easily distracted philosopher, and his art-historian wife are asked to assess three dusty paintings blocking the draught from the chimney. But hiding beneath the soot is nothing less-Martin believes-than a lost work by Bruegel. So begins a hilarious trail of lies and concealments, desperate schemes and soaring hopes as Martin, betting all that he owns and much that he doesn't, embarks on a quest to prove his hunch, win his wife over, and separate the painting from its owner. In Headlong, Michael Frayn, \"the master of what is seriously funny\" (Anthony Burgess), offers a procession of superbly realized characters, from the country squire gone to seed to his giddy, oversexed young wife. All are burdened by human muddle and human cravings; all are searching for a moral compass as they grapple with greed, folly, and desire. And at the heart of the clamor is Breugel's vision, its dark tones warning of the real risks of temptation and obsession. With this new novel, Michael Frayn has given us entertainment of the highest order. Supremely wise and wickedly funny, Headlong elevates Frayn into the front rank of contemporary novelists.   \n",
       "270363                                                                                                                                                                                                                                                                                                                                                                                                                                                                                                                                                                                                                                          Fay Parker is beautiful, successful - and worried she'll never find her perfect match. So when she meets a caring, good-looking man who adores her, she casts aside any niggling doubts and accepts his proposal. In a bid to be modern and grown-up, the bride and groom invite a potentially explosive mix of ex-boyfriends and girlfriends, and Fay is determined to enjoy her special day. But there's one person present who has other ideas . . . Jane MooreÂ¿s antennae are perfectly tuned to what men and women really think of each other in the noughties. THE EX FILES is a bracing, witty look at contemporary relationships that will make you laugh and, possibly, make you think as well.   \n",
       "270478                                                                                                                                                                                                                                                                                                                                                                                                                                                                                                                                                                                                                                                                                                                                                                                                                                                                                                                                                                                                                                                                                              Susan Barton finds herself marooned on an island with an Englishman named Robinson Cruso and his mute (mutilated) slave, Friday. Rescued after a year, back in England with Friday in tow, she approaches author, Daniel Foe, offering him the story.   \n",
       "270880                                                                                                                                                                                                                                                        Mit Jakob Michael Reinhold Lenz' 1774 anonym erschienenem Sturm-und-Drang-Drama quot, Der Hofmeister oder Vorteile der Privaterziehungquot, beginnt das sozialkritische Milieudrama in Deutschland, das Ã¼ber BÃ¼chner und Wedekind zu Bertolt Brecht fÃ¼hrt. In der Handlung um den Hofmeister LÃ¤uffer, der sich in die abhÃ¤ngige Stellung eines Hauslehrers begibt, sich in die Tochter seines Hausherrn verliebt, sie entehrt, flieht, Gehilfen eines Dorfschulmeisters wird und sein neues Ideal eines einfachen, enthaltsamen Lebens bis zur Selbstentmannung verwirklicht, sind tragische mit komischen Elementen aufs Engste miteinander verwoben. Mit dieser Mischung aus Tragischem und Komischem ist quot, Der Hofmeisterquot, eine der frÃ¼hesten TragikomÃ¶dien der deutschen Literaturgeschichte. Lenz verzichtet in seinem quot, offenen Dramaquot, auf die aristotelische Einheit von Ort, Zeit und Handlung und arbeitet mit modernen dramatischen Techniken, etwa vielen kurzen Szenen. Text aus Reclams Universal-Bibliothek mit SeitenzÃ¤hlung der gedruckten Ausgabe.   \n",
       "\n",
       "        page_count                         categories maturity_rating language  \n",
       "542          216.0                        ['Fiction']      NOT_MATURE       it  \n",
       "646          221.0                       ['Families']      NOT_MATURE       en  \n",
       "728          313.0                        ['Fiction']      NOT_MATURE       fr  \n",
       "732          206.0                                NaN      NOT_MATURE       fr  \n",
       "797          271.0  ['Detective and mystery stories']      NOT_MATURE       en  \n",
       "...            ...                                ...             ...      ...  \n",
       "270082       340.0                      ['Christmas']      NOT_MATURE       en  \n",
       "270168       394.0                 ['Art historians']      NOT_MATURE       en  \n",
       "270363       329.0                       ['Brothers']      NOT_MATURE       en  \n",
       "270478       157.0             ['Shipwreck survival']      NOT_MATURE       en  \n",
       "270880       100.0                      ['Educators']      NOT_MATURE       de  \n",
       "\n",
       "[1991 rows x 13 columns]"
      ]
     },
     "execution_count": 82,
     "metadata": {},
     "output_type": "execute_result"
    }
   ],
   "source": [
    "# checking on rows with year of publication as 0\n",
    "books_data.loc[books_data['Year-Of-Publication'] == 0]"
   ]
  },
  {
   "cell_type": "markdown",
   "metadata": {},
   "source": [
    "> we have a total of 1991 rows that lack the Year-Of-Publication, but looking at the published date we can obtain the Year-Of-Publication."
   ]
  },
  {
   "cell_type": "code",
   "execution_count": 83,
   "metadata": {},
   "outputs": [
    {
     "name": "stdout",
     "output_type": "stream",
     "text": [
      "[0, 1378, 1901, 1902, 1909, 1910, 1911, 1914, 1920, 1921, 1923, 1924, 1925, 1927, 1929, 1930, 1931, 1932, 1933, 1935, 1936, 1937, 1938, 1939, 1940, 1941, 1942, 1943, 1944, 1945, 1946, 1947, 1948, 1949, 1950, 1951, 1952, 1953, 1954, 1955, 1956, 1957, 1958, 1959, 1960, 1961, 1962, 1963, 1964, 1965, 1966, 1967, 1968, 1969, 1970, 1971, 1972, 1973, 1974, 1975, 1976, 1977, 1978, 1979, 1980, 1981, 1982, 1983, 1984, 1985, 1986, 1987, 1988, 1989, 1990, 1991, 1992, 1993, 1994, 1995, 1996, 1997, 1998, 1999, 2000, 2001, 2002, 2003, 2004, 2005, 2006, 2008, 2010, 2011, 2030, 2038, 2050]\n"
     ]
    }
   ],
   "source": [
    "books_data['Year-Of-Publication']=pd.to_numeric((books_data['Year-Of-Publication']), errors='coerce')\n",
    "\n",
    "print(sorted(books_data['Year-Of-Publication'].unique()))"
   ]
  },
  {
   "cell_type": "code",
   "execution_count": 84,
   "metadata": {},
   "outputs": [],
   "source": [
    "\n",
    "# Replace values where the \"Year-Of-Publication\" is 0 with the corresponding value in the \"published-data\" column\n",
    "books_data[\"Year-Of-Publication\"] = books_data[\"Year-Of-Publication\"].mask(books_data[\"Year-Of-Publication\"] == 0, books_data[\"published_date\"])\n"
   ]
  },
  {
   "cell_type": "code",
   "execution_count": 85,
   "metadata": {},
   "outputs": [
    {
     "data": {
      "text/plain": [
       "array([2002, 1991, 1999, 2000, 1996, 1988, 2004, 1998, 1994, 2001, 1997,\n",
       "       2003, 1993, 1983, 1979, 1995, 1982, 1992, 1986, 1978, 1987, 1981,\n",
       "       1990, 1989, 1961, 1958, 1984, 1977, 1985, 1980, 1975, 1965, 1941,\n",
       "       '1996', 1970, 1976, '1953', 1962, 1971, '1972', '1990', '2000',\n",
       "       '1998', '1998-01', '1991', 1960, '1993', '1973', 1974, '1999',\n",
       "       '1997', 1920, 1973, '2002-02', 1972, '1968', '1977', 1959, '1992',\n",
       "       1953, '1986', 1951, '1994', '1980', '1987', '1985', '2001', 1964,\n",
       "       1968, 1969, 1954, 1950, '1913', '1959', 1967, '1979', 2005, '1976',\n",
       "       1957, '1984', '1983', '1965', '1951', 1956, '1995-10-01',\n",
       "       '1995-01', '1994-01', '1930', '1995', '1978', 1940, 1937, '1989',\n",
       "       '2004', 1963, 1966, '1982', 1955, '2000-03-02', '1961', '1963',\n",
       "       '2002', 1952, '1992-10-13', '1981', 1946, '2010-07-27',\n",
       "       '1998-03-01', 1930, '1988', '1999-01', '1962', '1999-04-01',\n",
       "       '1999-09', '1975', '1997-01-07', 1925, '1974', '1969', '1948',\n",
       "       '1984-01-04', 1948, '1975-01-01', '1947', '2002-06-13', '1992-01',\n",
       "       '1995-08-01', '1945', '1973-01-01', '1996-01-01', '1978-09', 1947,\n",
       "       1945, 1943, 1923, '1998-09-24', '1981-01-01', '1960', '2007-05-01',\n",
       "       '1976-08', '1999-08', '2007-04-01', '1995-10', '2008', 1942,\n",
       "       '1964', 1939, '1967', '2002-05-01', '19??', '2000-03-23',\n",
       "       '1995-04-01', '2003', '1971', 2030, '1980-10-02', '2000-08',\n",
       "       '1984-10-12', '2006', '1954', '1955', '2002-02-13', '1985-01',\n",
       "       '1997-06', '2022-12-06', '1995-01-01', '1998-04', 1949, '1958',\n",
       "       '2002-01-01', '1956-01', '1994-06-23', '1999-03-18', 1932, '1966',\n",
       "       '1992-09-24', 1929, '2000-03-27', '1998-11', '1934', '1999-05-04',\n",
       "       '1973-06-01', '1987-06-01', '2011-12-15', 1927, '1957', 1936,\n",
       "       '1998-08-06', '1980-01', '2001-09-27', 1931, 1938, '1981-05',\n",
       "       '1970', '1908', '1993-01-01', '1992-01-01', '1997-07-01', '1922',\n",
       "       '1970-07-01', '1999-01-10', '2007', '2000-06-01', '1996-10-01',\n",
       "       1914, '1984-01', '1952', 1910, '1935', '2001-04-26', '1997-09-04',\n",
       "       '1990-01-03', '2004-03-08', '1999-02-18', '1986-09-12', '1949',\n",
       "       '1995-08', 1933, '1995-03-30', nan, '2000-08-01', '2012-04-01',\n",
       "       1911, '1997-12', 2050, '1976-01', '1996-12-31', '1998-01-01',\n",
       "       '1859', 1902, '2012-11', '1994-09-30', '1994-08', '1998-05',\n",
       "       '1984-12-01', '1956', '2003-01-01', '2002-02-01', '1992-03-19',\n",
       "       '1990-12-01', '2012-03-15', '1991-12-01', 2038, '1999-11-01',\n",
       "       '2011-09-01', '1995-01-24', '2007-06-01', '1997-09-08', '2000-01',\n",
       "       '1985-01-01', '199?', '1997-07', '2003-01-15', '1950',\n",
       "       '1989-01-01', '1997-08-04', '1944', '2018-01-09', '1940', 2010,\n",
       "       '1998-10', '1986-01', '2002-07-01', '2005-01-28', 1901, '1950-09',\n",
       "       '1994-01-01', '2003-09-01', '1982-01-01', '2004-06-01',\n",
       "       '2001-06-04', 1921, '1983-01', '1988-01', '1998-05-29', '1997-05',\n",
       "       '2010-03-17', '1971-01', '2002-08', '2009-07-01', '1995-07',\n",
       "       '1998-09', '2000-06', '1887', '1984-01-01', '1997-10-01',\n",
       "       '2000-11', '1989-01', '1993-01', '1985-03-01', '1989-06-01',\n",
       "       '1988-06-01', '1987-01-01', 1935, '1985-09-01', '1999-01-01',\n",
       "       '1995-08-24', '1986-04-24', '1992-09-01', '1991-01', '1999-02-09',\n",
       "       '1959-08', '1991-01-22', 1924, '2001-06-01', 2006, '1999-01-06',\n",
       "       '1997-03', '1989-10-01', '2000-03-01', 1944, '1991-09-01',\n",
       "       '1999-06-03', '1985-11', '1974-08-01', '1995-04-06', 1909, 2008,\n",
       "       '2003-01', '1995-12-22', '1998-07-22', '1994-11', 1378,\n",
       "       '1997-01-01', '1993-07-12', 2011, '1992-09', '2003-12-04',\n",
       "       '1974-04', '1997-10', '1998-07', '1997-01', '1998-01-15',\n",
       "       '1978-01-01', '1995-08-31', '1993-07-01', '2000-06-05', '1963-04',\n",
       "       '2001-10', '1999-08-23', '1999-10', '1999-04-02', '1976-01-01',\n",
       "       '1995-02-16', '1971-08-30', '2001-08-09', '1997-08', '1987-03'],\n",
       "      dtype=object)"
      ]
     },
     "execution_count": 85,
     "metadata": {},
     "output_type": "execute_result"
    }
   ],
   "source": [
    "books_data['Year-Of-Publication'].unique()"
   ]
  },
  {
   "cell_type": "code",
   "execution_count": 86,
   "metadata": {},
   "outputs": [],
   "source": [
    "# Convert the 'Year-Of-Publication' column to a string type\n",
    "books_data['Year-Of-Publication'] = books_data['Year-Of-Publication'].astype(str)\n"
   ]
  },
  {
   "cell_type": "code",
   "execution_count": 87,
   "metadata": {},
   "outputs": [],
   "source": [
    "# function to correct the Year-Of-Publication column\n",
    "\n",
    "def date_correction(date):\n",
    "    # Use a try-except block to catch any exceptions that might occur\n",
    "    try:\n",
    "        # Define a regular expression pattern to match four consecutive digits at the start of the string\n",
    "        pattern = r'^\\d{4}'\n",
    "        \n",
    "        # Use the re.search function to search for the pattern in the date string\n",
    "        search = re.search(pattern, date)\n",
    "        \n",
    "        # Return the matched string if found\n",
    "        return search.group(0)\n",
    "    except:\n",
    "        # If an exception occurs, print the original date string\n",
    "        print(date)"
   ]
  },
  {
   "cell_type": "code",
   "execution_count": 88,
   "metadata": {},
   "outputs": [
    {
     "name": "stdout",
     "output_type": "stream",
     "text": [
      "19??\n",
      "nan\n",
      "nan\n",
      "199?\n",
      "19??\n",
      "199?\n",
      "19??\n"
     ]
    },
    {
     "data": {
      "text/plain": [
       "array(['2002', '1991', '1999', '2000', '1996', '1988', '2004', '1998',\n",
       "       '1994', '2001', '1997', '2003', '1993', '1983', '1979', '1995',\n",
       "       '1982', '1992', '1986', '1978', '1987', '1981', '1990', '1989',\n",
       "       '1961', '1958', '1984', '1977', '1985', '1980', '1975', '1965',\n",
       "       '1941', '1970', '1976', '1953', '1962', '1971', '1972', '1960',\n",
       "       '1973', '1974', '1920', '1968', '1959', '1951', '1964', '1969',\n",
       "       '1954', '1950', '1913', '1967', '2005', '1957', '1956', '1930',\n",
       "       '1940', '1937', '1963', '1966', '1955', '1952', '1946', '2010',\n",
       "       '1925', '1948', '1947', '1945', '1943', '1923', '2007', '2008',\n",
       "       '1942', '1939', None, '2030', '2006', '2022', '1949', '1932',\n",
       "       '1929', '1934', '2011', '1927', '1936', '1931', '1938', '1908',\n",
       "       '1922', '1914', '1910', '1935', '1933', '2012', '1911', '2050',\n",
       "       '1859', '1902', '2038', '1944', '2018', '1901', '1921', '2009',\n",
       "       '1887', '1924', '1909', '1378'], dtype=object)"
      ]
     },
     "execution_count": 88,
     "metadata": {},
     "output_type": "execute_result"
    }
   ],
   "source": [
    "# preview of unique years in Year-Of-Publication\n",
    "books_data['Year-Of-Publication'] = books_data['Year-Of-Publication'].apply(date_correction)\n",
    "books_data['Year-Of-Publication'].unique()"
   ]
  },
  {
   "cell_type": "code",
   "execution_count": 89,
   "metadata": {},
   "outputs": [],
   "source": [
    "# function to clean the Year-Of-Publication\n",
    "\n",
    "def clean_year_column(year):\n",
    "    # Return None if the year is None\n",
    "    if year is None:\n",
    "        return None\n",
    "    \n",
    "    # Replace any question marks with empty strings\n",
    "    year = year.replace('?', '')\n",
    "    \n",
    "    # Return the year as an integer, or None if the year is empty\n",
    "    return int(year) if year else None"
   ]
  },
  {
   "cell_type": "code",
   "execution_count": 90,
   "metadata": {},
   "outputs": [
    {
     "data": {
      "text/plain": [
       "array([2002., 1991., 1999., 2000., 1996., 1988., 2004., 1998., 1994.,\n",
       "       2001., 1997., 2003., 1993., 1983., 1979., 1995., 1982., 1992.,\n",
       "       1986., 1978., 1987., 1981., 1990., 1989., 1961., 1958., 1984.,\n",
       "       1977., 1985., 1980., 1975., 1965., 1941., 1970., 1976., 1953.,\n",
       "       1962., 1971., 1972., 1960., 1973., 1974., 1920., 1968., 1959.,\n",
       "       1951., 1964., 1969., 1954., 1950., 1913., 1967., 2005., 1957.,\n",
       "       1956., 1930., 1940., 1937., 1963., 1966., 1955., 1952., 1946.,\n",
       "       2010., 1925., 1948., 1947., 1945., 1943., 1923., 2007., 2008.,\n",
       "       1942., 1939.,   nan, 2030., 2006., 2022., 1949., 1932., 1929.,\n",
       "       1934., 2011., 1927., 1936., 1931., 1938., 1908., 1922., 1914.,\n",
       "       1910., 1935., 1933., 2012., 1911., 2050., 1859., 1902., 2038.,\n",
       "       1944., 2018., 1901., 1921., 2009., 1887., 1924., 1909., 1378.])"
      ]
     },
     "execution_count": 90,
     "metadata": {},
     "output_type": "execute_result"
    }
   ],
   "source": [
    "books_data['Year-Of-Publication'] = books_data['Year-Of-Publication'].apply(clean_year_column)\n",
    "books_data['Year-Of-Publication'].unique()"
   ]
  },
  {
   "cell_type": "code",
   "execution_count": 91,
   "metadata": {},
   "outputs": [],
   "source": [
    "#replacing years above 2004 and non-four digit year values with the median\n",
    "books_data.loc[(books_data['Year-Of-Publication'] > 2004) | (~books_data['Year-Of-Publication'].astype(str).str.match('\\d{4}')),'Year-Of-Publication'] = np.NAN\n",
    "\n",
    "#replacing NaNs with median value of Year-Of-Publication\n",
    "books_data['Year-Of-Publication'].fillna(round(books_data['Year-Of-Publication'].median()), inplace=True)"
   ]
  },
  {
   "cell_type": "code",
   "execution_count": 92,
   "metadata": {},
   "outputs": [
    {
     "data": {
      "text/plain": [
       "0"
      ]
     },
     "execution_count": 92,
     "metadata": {},
     "output_type": "execute_result"
    }
   ],
   "source": [
    "books_data['Year-Of-Publication'].isna().sum()"
   ]
  },
  {
   "cell_type": "code",
   "execution_count": 93,
   "metadata": {},
   "outputs": [
    {
     "data": {
      "text/plain": [
       "array([2002., 1991., 1999., 2000., 1996., 1988., 2004., 1998., 1994.,\n",
       "       2001., 1997., 2003., 1993., 1983., 1979., 1995., 1982., 1992.,\n",
       "       1986., 1978., 1987., 1981., 1990., 1989., 1961., 1958., 1984.,\n",
       "       1977., 1985., 1980., 1975., 1965., 1941., 1970., 1976., 1953.,\n",
       "       1962., 1971., 1972., 1960., 1973., 1974., 1920., 1968., 1959.,\n",
       "       1951., 1964., 1969., 1954., 1950., 1913., 1967., 1957., 1956.,\n",
       "       1930., 1940., 1937., 1963., 1966., 1955., 1952., 1946., 1925.,\n",
       "       1948., 1947., 1945., 1943., 1923., 1942., 1939., 1949., 1932.,\n",
       "       1929., 1934., 1927., 1936., 1931., 1938., 1908., 1922., 1914.,\n",
       "       1910., 1935., 1933., 1911., 1859., 1902., 1944., 1901., 1921.,\n",
       "       1887., 1924., 1909., 1378.])"
      ]
     },
     "execution_count": 93,
     "metadata": {},
     "output_type": "execute_result"
    }
   ],
   "source": [
    "books_data['Year-Of-Publication'].unique()"
   ]
  },
  {
   "cell_type": "code",
   "execution_count": 94,
   "metadata": {},
   "outputs": [],
   "source": [
    "# Instantiate the 'datacleaning' class for the 'books_data' DataFrame\n",
    "data_cleaning = DataCleaning(books_data)"
   ]
  },
  {
   "cell_type": "code",
   "execution_count": 95,
   "metadata": {},
   "outputs": [
    {
     "name": "stdout",
     "output_type": "stream",
     "text": [
      "[1378, 1859, 1887, 1901, 1902, 1908, 1909, 1910, 1911, 1913, 1914, 1920, 1921, 1922, 1923, 1924, 1925, 1927, 1929, 1930, 1931, 1932, 1933, 1934, 1935, 1936, 1937, 1938, 1939, 1940, 1941, 1942, 1943, 1944, 1945, 1946, 1947, 1948, 1949, 1950, 1951, 1952, 1953, 1954, 1955, 1956, 1957, 1958, 1959, 1960, 1961, 1962, 1963, 1964, 1965, 1966, 1967, 1968, 1969, 1970, 1971, 1972, 1973, 1974, 1975, 1976, 1977, 1978, 1979, 1980, 1981, 1982, 1983, 1984, 1985, 1986, 1987, 1988, 1989, 1990, 1991, 1992, 1993, 1994, 1995, 1996, 1997, 1998, 1999, 2000, 2001, 2002, 2003, 2004]\n"
     ]
    }
   ],
   "source": [
    "# Convert the \"year-of-publication\" column to integer\n",
    "#books_data['Year-Of-Publication'] = books_data['Year-Of-Publication'].apply(int)\n",
    "books_data = data_cleaning.convert_column_data_type('Year-Of-Publication', int)\n",
    "print(sorted(books_data['Year-Of-Publication'].unique())) "
   ]
  },
  {
   "cell_type": "code",
   "execution_count": 96,
   "metadata": {},
   "outputs": [
    {
     "data": {
      "text/html": [
       "<div>\n",
       "<style scoped>\n",
       "    .dataframe tbody tr th:only-of-type {\n",
       "        vertical-align: middle;\n",
       "    }\n",
       "\n",
       "    .dataframe tbody tr th {\n",
       "        vertical-align: top;\n",
       "    }\n",
       "\n",
       "    .dataframe thead th {\n",
       "        text-align: right;\n",
       "    }\n",
       "</style>\n",
       "<table border=\"1\" class=\"dataframe\">\n",
       "  <thead>\n",
       "    <tr style=\"text-align: right;\">\n",
       "      <th></th>\n",
       "      <th>ISBN</th>\n",
       "      <th>Book-Title</th>\n",
       "      <th>Book-Author</th>\n",
       "      <th>Year-Of-Publication</th>\n",
       "      <th>Publisher</th>\n",
       "      <th>Image-URL-S</th>\n",
       "      <th>authors</th>\n",
       "      <th>description</th>\n",
       "      <th>page_count</th>\n",
       "      <th>categories</th>\n",
       "      <th>maturity_rating</th>\n",
       "      <th>language</th>\n",
       "    </tr>\n",
       "  </thead>\n",
       "  <tbody>\n",
       "    <tr>\n",
       "      <th>0</th>\n",
       "      <td>0195153448</td>\n",
       "      <td>Classical Mythology</td>\n",
       "      <td>Mark P. O. Morford</td>\n",
       "      <td>2002</td>\n",
       "      <td>Oxford University Press</td>\n",
       "      <td>http://images.amazon.com/images/P/0195153448.01.THUMBZZZ.jpg</td>\n",
       "      <td>['Mark P. O. Morford', 'Robert J. Lenardon']</td>\n",
       "      <td>Provides an introduction to classical myths placing the addressed topics within their historical context, discussion of archaeological evidence as support for mythical events, and how these themes have been portrayed in literature, art, music, and film.</td>\n",
       "      <td>808.0</td>\n",
       "      <td>['Social Science']</td>\n",
       "      <td>NOT_MATURE</td>\n",
       "      <td>en</td>\n",
       "    </tr>\n",
       "    <tr>\n",
       "      <th>2</th>\n",
       "      <td>0060973129</td>\n",
       "      <td>Decision in Normandy</td>\n",
       "      <td>Carlo D'Este</td>\n",
       "      <td>1991</td>\n",
       "      <td>HarperPerennial</td>\n",
       "      <td>http://images.amazon.com/images/P/0060973129.01.THUMBZZZ.jpg</td>\n",
       "      <td>[\"Carlo D'Este\"]</td>\n",
       "      <td>Here, for the first time in paperback, is an outstanding military history that offers a dramatic new perspective on the Allied campaign that began with the invasion of the D-Day beaches of Normandy. Nationa advertising in Military History.</td>\n",
       "      <td>582.0</td>\n",
       "      <td>['1940-1949']</td>\n",
       "      <td>NOT_MATURE</td>\n",
       "      <td>en</td>\n",
       "    </tr>\n",
       "    <tr>\n",
       "      <th>3</th>\n",
       "      <td>0374157065</td>\n",
       "      <td>Flu: The Story of the Great Influenza Pandemic of 1918 and the Search for the Virus That Caused It</td>\n",
       "      <td>Gina Bari Kolata</td>\n",
       "      <td>1999</td>\n",
       "      <td>Farrar Straus Giroux</td>\n",
       "      <td>http://images.amazon.com/images/P/0374157065.01.THUMBZZZ.jpg</td>\n",
       "      <td>['Gina Bari Kolata']</td>\n",
       "      <td>Describes the great flu epidemic of 1918, an outbreak that killed some forty million people worldwide, and discusses the efforts of scientists and public health officials to understand and prevent another lethal pandemic</td>\n",
       "      <td>367.0</td>\n",
       "      <td>['Medical']</td>\n",
       "      <td>NOT_MATURE</td>\n",
       "      <td>en</td>\n",
       "    </tr>\n",
       "    <tr>\n",
       "      <th>4</th>\n",
       "      <td>0393045218</td>\n",
       "      <td>The Mummies of Urumchi</td>\n",
       "      <td>E. J. W. Barber</td>\n",
       "      <td>1999</td>\n",
       "      <td>W. W. Norton &amp;amp; Company</td>\n",
       "      <td>http://images.amazon.com/images/P/0393045218.01.THUMBZZZ.jpg</td>\n",
       "      <td>['E. J. W. Barber']</td>\n",
       "      <td>A look at the incredibly well-preserved ancient mummies found in Western China describes their clothing and appearance, attempts to reconstruct their culture, and speculates about how Caucasians could have found their way to the feet of the Himalayan mountains.</td>\n",
       "      <td>240.0</td>\n",
       "      <td>['Design']</td>\n",
       "      <td>NOT_MATURE</td>\n",
       "      <td>en</td>\n",
       "    </tr>\n",
       "    <tr>\n",
       "      <th>5</th>\n",
       "      <td>0399135782</td>\n",
       "      <td>The Kitchen God's Wife</td>\n",
       "      <td>Amy Tan</td>\n",
       "      <td>1991</td>\n",
       "      <td>Putnam Pub Group</td>\n",
       "      <td>http://images.amazon.com/images/P/0399135782.01.THUMBZZZ.jpg</td>\n",
       "      <td>['Amy Tan']</td>\n",
       "      <td>A Chinese immigrant who is convinced she is dying threatens to celebrate the Chinese New Year by unburdening herself of everybody's hidden truths, thus prompting a series of comic misunderstandings</td>\n",
       "      <td>428.0</td>\n",
       "      <td>['Fiction']</td>\n",
       "      <td>NOT_MATURE</td>\n",
       "      <td>en</td>\n",
       "    </tr>\n",
       "  </tbody>\n",
       "</table>\n",
       "</div>"
      ],
      "text/plain": [
       "         ISBN  \\\n",
       "0  0195153448   \n",
       "2  0060973129   \n",
       "3  0374157065   \n",
       "4  0393045218   \n",
       "5  0399135782   \n",
       "\n",
       "                                                                                           Book-Title  \\\n",
       "0                                                                                 Classical Mythology   \n",
       "2                                                                                Decision in Normandy   \n",
       "3  Flu: The Story of the Great Influenza Pandemic of 1918 and the Search for the Virus That Caused It   \n",
       "4                                                                              The Mummies of Urumchi   \n",
       "5                                                                              The Kitchen God's Wife   \n",
       "\n",
       "          Book-Author  Year-Of-Publication                   Publisher  \\\n",
       "0  Mark P. O. Morford                 2002     Oxford University Press   \n",
       "2        Carlo D'Este                 1991             HarperPerennial   \n",
       "3    Gina Bari Kolata                 1999        Farrar Straus Giroux   \n",
       "4     E. J. W. Barber                 1999  W. W. Norton &amp; Company   \n",
       "5             Amy Tan                 1991            Putnam Pub Group   \n",
       "\n",
       "                                                    Image-URL-S  \\\n",
       "0  http://images.amazon.com/images/P/0195153448.01.THUMBZZZ.jpg   \n",
       "2  http://images.amazon.com/images/P/0060973129.01.THUMBZZZ.jpg   \n",
       "3  http://images.amazon.com/images/P/0374157065.01.THUMBZZZ.jpg   \n",
       "4  http://images.amazon.com/images/P/0393045218.01.THUMBZZZ.jpg   \n",
       "5  http://images.amazon.com/images/P/0399135782.01.THUMBZZZ.jpg   \n",
       "\n",
       "                                        authors  \\\n",
       "0  ['Mark P. O. Morford', 'Robert J. Lenardon']   \n",
       "2                              [\"Carlo D'Este\"]   \n",
       "3                          ['Gina Bari Kolata']   \n",
       "4                           ['E. J. W. Barber']   \n",
       "5                                   ['Amy Tan']   \n",
       "\n",
       "                                                                                                                                                                                                                                                             description  \\\n",
       "0          Provides an introduction to classical myths placing the addressed topics within their historical context, discussion of archaeological evidence as support for mythical events, and how these themes have been portrayed in literature, art, music, and film.   \n",
       "2                        Here, for the first time in paperback, is an outstanding military history that offers a dramatic new perspective on the Allied campaign that began with the invasion of the D-Day beaches of Normandy. Nationa advertising in Military History.   \n",
       "3                                           Describes the great flu epidemic of 1918, an outbreak that killed some forty million people worldwide, and discusses the efforts of scientists and public health officials to understand and prevent another lethal pandemic   \n",
       "4  A look at the incredibly well-preserved ancient mummies found in Western China describes their clothing and appearance, attempts to reconstruct their culture, and speculates about how Caucasians could have found their way to the feet of the Himalayan mountains.   \n",
       "5                                                                  A Chinese immigrant who is convinced she is dying threatens to celebrate the Chinese New Year by unburdening herself of everybody's hidden truths, thus prompting a series of comic misunderstandings   \n",
       "\n",
       "   page_count          categories maturity_rating language  \n",
       "0       808.0  ['Social Science']      NOT_MATURE       en  \n",
       "2       582.0       ['1940-1949']      NOT_MATURE       en  \n",
       "3       367.0         ['Medical']      NOT_MATURE       en  \n",
       "4       240.0          ['Design']      NOT_MATURE       en  \n",
       "5       428.0         ['Fiction']      NOT_MATURE       en  "
      ]
     },
     "execution_count": 96,
     "metadata": {},
     "output_type": "execute_result"
    }
   ],
   "source": [
    "#dropping the published date column since it will not be required for analysis\n",
    "books_data = books_data.drop(['published_date'], axis=1)\n",
    "books_data.head()"
   ]
  },
  {
   "cell_type": "code",
   "execution_count": 97,
   "metadata": {},
   "outputs": [
    {
     "data": {
      "text/plain": [
       "ISBN                      0\n",
       "Book-Title                0\n",
       "Book-Author               0\n",
       "Year-Of-Publication       0\n",
       "Publisher                 1\n",
       "Image-URL-S               0\n",
       "authors                1422\n",
       "description               0\n",
       "page_count              510\n",
       "categories             3977\n",
       "maturity_rating           0\n",
       "language                  0\n",
       "dtype: int64"
      ]
     },
     "execution_count": 97,
     "metadata": {},
     "output_type": "execute_result"
    }
   ],
   "source": [
    "books_data.isna().sum()"
   ]
  },
  {
   "cell_type": "code",
   "execution_count": 98,
   "metadata": {},
   "outputs": [
    {
     "data": {
      "text/html": [
       "<div>\n",
       "<style scoped>\n",
       "    .dataframe tbody tr th:only-of-type {\n",
       "        vertical-align: middle;\n",
       "    }\n",
       "\n",
       "    .dataframe tbody tr th {\n",
       "        vertical-align: top;\n",
       "    }\n",
       "\n",
       "    .dataframe thead th {\n",
       "        text-align: right;\n",
       "    }\n",
       "</style>\n",
       "<table border=\"1\" class=\"dataframe\">\n",
       "  <thead>\n",
       "    <tr style=\"text-align: right;\">\n",
       "      <th></th>\n",
       "      <th>ISBN</th>\n",
       "      <th>Book-Title</th>\n",
       "      <th>Book-Author</th>\n",
       "      <th>Year-Of-Publication</th>\n",
       "      <th>Publisher</th>\n",
       "      <th>Image-URL-S</th>\n",
       "      <th>authors</th>\n",
       "      <th>description</th>\n",
       "      <th>page_count</th>\n",
       "      <th>categories</th>\n",
       "      <th>maturity_rating</th>\n",
       "      <th>language</th>\n",
       "    </tr>\n",
       "  </thead>\n",
       "  <tbody>\n",
       "    <tr>\n",
       "      <th>128958</th>\n",
       "      <td>1931696993</td>\n",
       "      <td>Finders Keepers</td>\n",
       "      <td>Linnea Sinclair</td>\n",
       "      <td>2001</td>\n",
       "      <td>NaN</td>\n",
       "      <td>http://images.amazon.com/images/P/1931696993.01.THUMBZZZ.jpg</td>\n",
       "      <td>['Linnea Sinclair']</td>\n",
       "      <td>Be careful what you wish for. You might get it... Her ship's in shambles, her boyfriend's dumped her and she's frankly out of funds. Captain Trilby Elliot hopes her luck has changed when a high-tech fightercraft crash lands at her repair site. Finders keepers. She can sell the ship as salvage, pocket the profits. Except for one small problem: the pilot, Rhis, is still alive and intent on commandeering her ship. And another much larger problem: someone very powerful and very important wants Trilby Elliot dead.</td>\n",
       "      <td>354.0</td>\n",
       "      <td>['Fiction']</td>\n",
       "      <td>NOT_MATURE</td>\n",
       "      <td>en</td>\n",
       "    </tr>\n",
       "  </tbody>\n",
       "</table>\n",
       "</div>"
      ],
      "text/plain": [
       "              ISBN       Book-Title      Book-Author  Year-Of-Publication  \\\n",
       "128958  1931696993  Finders Keepers  Linnea Sinclair                 2001   \n",
       "\n",
       "       Publisher  \\\n",
       "128958       NaN   \n",
       "\n",
       "                                                         Image-URL-S  \\\n",
       "128958  http://images.amazon.com/images/P/1931696993.01.THUMBZZZ.jpg   \n",
       "\n",
       "                    authors  \\\n",
       "128958  ['Linnea Sinclair']   \n",
       "\n",
       "                                                                                                                                                                                                                                                                                                                                                                                                                                                                                                                               description  \\\n",
       "128958  Be careful what you wish for. You might get it... Her ship's in shambles, her boyfriend's dumped her and she's frankly out of funds. Captain Trilby Elliot hopes her luck has changed when a high-tech fightercraft crash lands at her repair site. Finders keepers. She can sell the ship as salvage, pocket the profits. Except for one small problem: the pilot, Rhis, is still alive and intent on commandeering her ship. And another much larger problem: someone very powerful and very important wants Trilby Elliot dead.   \n",
       "\n",
       "        page_count   categories maturity_rating language  \n",
       "128958       354.0  ['Fiction']      NOT_MATURE       en  "
      ]
     },
     "execution_count": 98,
     "metadata": {},
     "output_type": "execute_result"
    }
   ],
   "source": [
    "#exploring 'publisher' column\n",
    "books_data.loc[books_data.Publisher.isnull(),:]"
   ]
  },
  {
   "cell_type": "code",
   "execution_count": 99,
   "metadata": {},
   "outputs": [],
   "source": [
    "#Filling Nan of Publisher with its publisher\n",
    "books_data.Publisher.fillna('Bantam', inplace=True)"
   ]
  },
  {
   "cell_type": "code",
   "execution_count": 100,
   "metadata": {},
   "outputs": [
    {
     "data": {
      "text/html": [
       "<div>\n",
       "<style scoped>\n",
       "    .dataframe tbody tr th:only-of-type {\n",
       "        vertical-align: middle;\n",
       "    }\n",
       "\n",
       "    .dataframe tbody tr th {\n",
       "        vertical-align: top;\n",
       "    }\n",
       "\n",
       "    .dataframe thead th {\n",
       "        text-align: right;\n",
       "    }\n",
       "</style>\n",
       "<table border=\"1\" class=\"dataframe\">\n",
       "  <thead>\n",
       "    <tr style=\"text-align: right;\">\n",
       "      <th></th>\n",
       "      <th>ISBN</th>\n",
       "      <th>Book-Title</th>\n",
       "      <th>Book-Author</th>\n",
       "      <th>Year-Of-Publication</th>\n",
       "      <th>Publisher</th>\n",
       "      <th>Image-URL-S</th>\n",
       "      <th>authors</th>\n",
       "      <th>description</th>\n",
       "      <th>page_count</th>\n",
       "      <th>categories</th>\n",
       "      <th>maturity_rating</th>\n",
       "      <th>language</th>\n",
       "    </tr>\n",
       "  </thead>\n",
       "  <tbody>\n",
       "    <tr>\n",
       "      <th>41</th>\n",
       "      <td>055321215X</td>\n",
       "      <td>Pride and Prejudice</td>\n",
       "      <td>Jane Austen</td>\n",
       "      <td>1983</td>\n",
       "      <td>Bantam</td>\n",
       "      <td>http://images.amazon.com/images/P/055321215X.01.THUMBZZZ.jpg</td>\n",
       "      <td>['Jane Austen']</td>\n",
       "      <td>\"It is a truth universally acknowledged, that a single man in possession of a good fortune must be in want of a wife.\" So begins Pride and Prejudice, Jane Austen's perfect comedy of manners--one of the most popular novels of all time--that features splendidly civilized sparring between the proud Mr. Darcy and the prejudiced Elizabeth Bennet as they play out their spirited courtship in a series of eighteenth-century drawing-room intrigues. \"Pride and Prejudice seems as vital today as ever,\" writes Anna Quindlen in her introduction to this Modern Library edition. \"It is a pure joy to read.\" Eudora Welty agrees: \"The gaiety is unextinguished, the irony has kept its bite, the reasoning is still sweet, the sparkle undiminished. [It is] irresistible and as nearly flawless as any fiction could be.\" This volume is the companion to the BBC television series, a lavish production aired on the Arts and Entertainment Network.</td>\n",
       "      <td>NaN</td>\n",
       "      <td>NaN</td>\n",
       "      <td>NOT_MATURE</td>\n",
       "      <td>en</td>\n",
       "    </tr>\n",
       "    <tr>\n",
       "      <th>279</th>\n",
       "      <td>0394586239</td>\n",
       "      <td>Possession: A Romance</td>\n",
       "      <td>A. S. Byatt</td>\n",
       "      <td>1990</td>\n",
       "      <td>Random House Inc</td>\n",
       "      <td>http://images.amazon.com/images/P/0394586239.01.THUMBZZZ.jpg</td>\n",
       "      <td>['Antonia Susan Byatt']</td>\n",
       "      <td>In 1986 two young English scholars stumble upon a remarkable discovery: a hitherto unsuspected relationship between the Browningesque 19th century poet Randolph Henry Ash, and his contemporary Christabel LaMotte. Their research reveals uncanny parallels with their own lives and culminates in the exhumation of a poet's corpse.</td>\n",
       "      <td>NaN</td>\n",
       "      <td>['Biographers']</td>\n",
       "      <td>NOT_MATURE</td>\n",
       "      <td>en</td>\n",
       "    </tr>\n",
       "    <tr>\n",
       "      <th>2572</th>\n",
       "      <td>0671705997</td>\n",
       "      <td>Easy to Kill</td>\n",
       "      <td>Agatha Christie</td>\n",
       "      <td>1991</td>\n",
       "      <td>Pocket Books</td>\n",
       "      <td>http://images.amazon.com/images/P/0671705997.01.THUMBZZZ.jpg</td>\n",
       "      <td>['Agatha Christie']</td>\n",
       "      <td>An elderly lady suspected of murder in the sleepy village of Wychwood dies--another victim of an unseen hand. Since too many accidents and unexplained deaths have occurred, even for a town with a history of witchcraft, policeman Luke Fitzwilliam vows to discover the reason--and finds a very cunning killer.</td>\n",
       "      <td>NaN</td>\n",
       "      <td>NaN</td>\n",
       "      <td>NOT_MATURE</td>\n",
       "      <td>en</td>\n",
       "    </tr>\n",
       "    <tr>\n",
       "      <th>2763</th>\n",
       "      <td>0671743562</td>\n",
       "      <td>Dreams of the Raven (Star Trek, No 34)</td>\n",
       "      <td>Carmen Carter</td>\n",
       "      <td>1991</td>\n",
       "      <td>Star Trek</td>\n",
       "      <td>http://images.amazon.com/images/P/0671743562.01.THUMBZZZ.jpg</td>\n",
       "      <td>['Carmen Carter']</td>\n",
       "      <td>Captain Kirk and the crew of the Enterprise struggle against an unknown deadly enemy after a mysterious attack cripples the starship and leaves Dr. McCoy without a memory</td>\n",
       "      <td>NaN</td>\n",
       "      <td>['Fiction']</td>\n",
       "      <td>NOT_MATURE</td>\n",
       "      <td>en</td>\n",
       "    </tr>\n",
       "    <tr>\n",
       "      <th>4014</th>\n",
       "      <td>0399226907</td>\n",
       "      <td>The Very Hungry Caterpillar Board Book</td>\n",
       "      <td>Eric Carle</td>\n",
       "      <td>1994</td>\n",
       "      <td>Philomel Books</td>\n",
       "      <td>http://images.amazon.com/images/P/0399226907.01.THUMBZZZ.jpg</td>\n",
       "      <td>NaN</td>\n",
       "      <td>Colorful and full of imagination, the world of Eric Carle is a delight! Sings songs, cook, and create with the book box based of the worl of Eric Carle.</td>\n",
       "      <td>NaN</td>\n",
       "      <td>['Caterpillars']</td>\n",
       "      <td>NOT_MATURE</td>\n",
       "      <td>en</td>\n",
       "    </tr>\n",
       "    <tr>\n",
       "      <th>...</th>\n",
       "      <td>...</td>\n",
       "      <td>...</td>\n",
       "      <td>...</td>\n",
       "      <td>...</td>\n",
       "      <td>...</td>\n",
       "      <td>...</td>\n",
       "      <td>...</td>\n",
       "      <td>...</td>\n",
       "      <td>...</td>\n",
       "      <td>...</td>\n",
       "      <td>...</td>\n",
       "      <td>...</td>\n",
       "    </tr>\n",
       "    <tr>\n",
       "      <th>267878</th>\n",
       "      <td>0671452193</td>\n",
       "      <td>TILLY</td>\n",
       "      <td>Kelli M. Gary</td>\n",
       "      <td>1982</td>\n",
       "      <td>Pocket</td>\n",
       "      <td>http://images.amazon.com/images/P/0671452193.01.THUMBZZZ.jpg</td>\n",
       "      <td>['Catherine Cookson']</td>\n",
       "      <td>Refusing to relinquish her dreams and undaunted in her will to survive, Tilly Trotter is forced to flee her home in the rural countryside of nineteenth-century England after she is falsely accused of practicing witchcraft</td>\n",
       "      <td>NaN</td>\n",
       "      <td>['Fiction']</td>\n",
       "      <td>NOT_MATURE</td>\n",
       "      <td>en</td>\n",
       "    </tr>\n",
       "    <tr>\n",
       "      <th>270769</th>\n",
       "      <td>082811420X</td>\n",
       "      <td>What I Know Now</td>\n",
       "      <td>Bill J. Bonnstetter</td>\n",
       "      <td>1999</td>\n",
       "      <td>Forbes Inc</td>\n",
       "      <td>http://images.amazon.com/images/P/082811420X.01.THUMBZZZ.jpg</td>\n",
       "      <td>['Bill J. Bonnstetter']</td>\n",
       "      <td>Every person needs to discover the \"why\" behind the main issues in their professional and personal life. Why am I different? Why do I have conflict with certain people? Why don't I like certain jobs or tasks? Why is my attitude about certain things different than my partner? This book will help you to understand these questions.</td>\n",
       "      <td>NaN</td>\n",
       "      <td>NaN</td>\n",
       "      <td>NOT_MATURE</td>\n",
       "      <td>en</td>\n",
       "    </tr>\n",
       "    <tr>\n",
       "      <th>270814</th>\n",
       "      <td>0441216005</td>\n",
       "      <td>Escape Velocity</td>\n",
       "      <td>Christopher Stasheff</td>\n",
       "      <td>1984</td>\n",
       "      <td>Ace Books</td>\n",
       "      <td>http://images.amazon.com/images/P/0441216005.01.THUMBZZZ.jpg</td>\n",
       "      <td>['Christopher Stasheff']</td>\n",
       "      <td>Democracy is crumbling in the Interstellar Dominion Electorates and if Dar and Samantha can't get their message to Terra in time, a coup is inevitable. What's more, every police ship in space has just been alerted that Dar and Samantha are dangerous telepaths to be shot on sight.</td>\n",
       "      <td>NaN</td>\n",
       "      <td>NaN</td>\n",
       "      <td>NOT_MATURE</td>\n",
       "      <td>en</td>\n",
       "    </tr>\n",
       "    <tr>\n",
       "      <th>270873</th>\n",
       "      <td>0425127486</td>\n",
       "      <td>Hardshell (Originally Published As Night Visions 4)</td>\n",
       "      <td>Clive Barker</td>\n",
       "      <td>1990</td>\n",
       "      <td>Berkley Pub Group</td>\n",
       "      <td>http://images.amazon.com/images/P/0425127486.01.THUMBZZZ.jpg</td>\n",
       "      <td>['Clive Barker']</td>\n",
       "      <td>Horror stories feature a mental parasite, shapechangers, a grieving father, a werewolf, nightmares, an initiation rite, a ghost, spiders, and monsters</td>\n",
       "      <td>NaN</td>\n",
       "      <td>['Fiction']</td>\n",
       "      <td>NOT_MATURE</td>\n",
       "      <td>en</td>\n",
       "    </tr>\n",
       "    <tr>\n",
       "      <th>270932</th>\n",
       "      <td>0451521390</td>\n",
       "      <td>Pathfinder</td>\n",
       "      <td>James Fenimore Cooper</td>\n",
       "      <td>1982</td>\n",
       "      <td>Signet Book</td>\n",
       "      <td>http://images.amazon.com/images/P/0451521390.01.THUMBZZZ.jpg</td>\n",
       "      <td>['James Fenimore Cooper']</td>\n",
       "      <td>Natty Bumpo's adventures are exciting and realistic.</td>\n",
       "      <td>NaN</td>\n",
       "      <td>NaN</td>\n",
       "      <td>NOT_MATURE</td>\n",
       "      <td>en</td>\n",
       "    </tr>\n",
       "  </tbody>\n",
       "</table>\n",
       "<p>510 rows × 12 columns</p>\n",
       "</div>"
      ],
      "text/plain": [
       "              ISBN                                           Book-Title  \\\n",
       "41      055321215X                                  Pride and Prejudice   \n",
       "279     0394586239                                Possession: A Romance   \n",
       "2572    0671705997                                         Easy to Kill   \n",
       "2763    0671743562               Dreams of the Raven (Star Trek, No 34)   \n",
       "4014    0399226907               The Very Hungry Caterpillar Board Book   \n",
       "...            ...                                                  ...   \n",
       "267878  0671452193                                                TILLY   \n",
       "270769  082811420X                                      What I Know Now   \n",
       "270814  0441216005                                      Escape Velocity   \n",
       "270873  0425127486  Hardshell (Originally Published As Night Visions 4)   \n",
       "270932  0451521390                                           Pathfinder   \n",
       "\n",
       "                  Book-Author  Year-Of-Publication          Publisher  \\\n",
       "41                Jane Austen                 1983             Bantam   \n",
       "279               A. S. Byatt                 1990   Random House Inc   \n",
       "2572          Agatha Christie                 1991       Pocket Books   \n",
       "2763            Carmen Carter                 1991          Star Trek   \n",
       "4014               Eric Carle                 1994     Philomel Books   \n",
       "...                       ...                  ...                ...   \n",
       "267878          Kelli M. Gary                 1982             Pocket   \n",
       "270769    Bill J. Bonnstetter                 1999         Forbes Inc   \n",
       "270814   Christopher Stasheff                 1984          Ace Books   \n",
       "270873           Clive Barker                 1990  Berkley Pub Group   \n",
       "270932  James Fenimore Cooper                 1982        Signet Book   \n",
       "\n",
       "                                                         Image-URL-S  \\\n",
       "41      http://images.amazon.com/images/P/055321215X.01.THUMBZZZ.jpg   \n",
       "279     http://images.amazon.com/images/P/0394586239.01.THUMBZZZ.jpg   \n",
       "2572    http://images.amazon.com/images/P/0671705997.01.THUMBZZZ.jpg   \n",
       "2763    http://images.amazon.com/images/P/0671743562.01.THUMBZZZ.jpg   \n",
       "4014    http://images.amazon.com/images/P/0399226907.01.THUMBZZZ.jpg   \n",
       "...                                                              ...   \n",
       "267878  http://images.amazon.com/images/P/0671452193.01.THUMBZZZ.jpg   \n",
       "270769  http://images.amazon.com/images/P/082811420X.01.THUMBZZZ.jpg   \n",
       "270814  http://images.amazon.com/images/P/0441216005.01.THUMBZZZ.jpg   \n",
       "270873  http://images.amazon.com/images/P/0425127486.01.THUMBZZZ.jpg   \n",
       "270932  http://images.amazon.com/images/P/0451521390.01.THUMBZZZ.jpg   \n",
       "\n",
       "                          authors  \\\n",
       "41                ['Jane Austen']   \n",
       "279       ['Antonia Susan Byatt']   \n",
       "2572          ['Agatha Christie']   \n",
       "2763            ['Carmen Carter']   \n",
       "4014                          NaN   \n",
       "...                           ...   \n",
       "267878      ['Catherine Cookson']   \n",
       "270769    ['Bill J. Bonnstetter']   \n",
       "270814   ['Christopher Stasheff']   \n",
       "270873           ['Clive Barker']   \n",
       "270932  ['James Fenimore Cooper']   \n",
       "\n",
       "                                                                                                                                                                                                                                                                                                                                                                                                                                                                                                                                                                                                                                                                                                                                                                                                                                                                                                                                                           description  \\\n",
       "41      \"It is a truth universally acknowledged, that a single man in possession of a good fortune must be in want of a wife.\" So begins Pride and Prejudice, Jane Austen's perfect comedy of manners--one of the most popular novels of all time--that features splendidly civilized sparring between the proud Mr. Darcy and the prejudiced Elizabeth Bennet as they play out their spirited courtship in a series of eighteenth-century drawing-room intrigues. \"Pride and Prejudice seems as vital today as ever,\" writes Anna Quindlen in her introduction to this Modern Library edition. \"It is a pure joy to read.\" Eudora Welty agrees: \"The gaiety is unextinguished, the irony has kept its bite, the reasoning is still sweet, the sparkle undiminished. [It is] irresistible and as nearly flawless as any fiction could be.\" This volume is the companion to the BBC television series, a lavish production aired on the Arts and Entertainment Network.   \n",
       "279                                                                                                                                                                                                                                                                                                                                                                                                                                                                                                                                                                                                                            In 1986 two young English scholars stumble upon a remarkable discovery: a hitherto unsuspected relationship between the Browningesque 19th century poet Randolph Henry Ash, and his contemporary Christabel LaMotte. Their research reveals uncanny parallels with their own lives and culminates in the exhumation of a poet's corpse.   \n",
       "2572                                                                                                                                                                                                                                                                                                                                                                                                                                                                                                                                                                                                                                               An elderly lady suspected of murder in the sleepy village of Wychwood dies--another victim of an unseen hand. Since too many accidents and unexplained deaths have occurred, even for a town with a history of witchcraft, policeman Luke Fitzwilliam vows to discover the reason--and finds a very cunning killer.   \n",
       "2763                                                                                                                                                                                                                                                                                                                                                                                                                                                                                                                                                                                                                                                                                                                                                                                        Captain Kirk and the crew of the Enterprise struggle against an unknown deadly enemy after a mysterious attack cripples the starship and leaves Dr. McCoy without a memory   \n",
       "4014                                                                                                                                                                                                                                                                                                                                                                                                                                                                                                                                                                                                                                                                                                                                                                                                          Colorful and full of imagination, the world of Eric Carle is a delight! Sings songs, cook, and create with the book box based of the worl of Eric Carle.   \n",
       "...                                                                                                                                                                                                                                                                                                                                                                                                                                                                                                                                                                                                                                                                                                                                                                                                                                                                                                                                                                ...   \n",
       "267878                                                                                                                                                                                                                                                                                                                                                                                                                                                                                                                                                                                                                                                                                                                                   Refusing to relinquish her dreams and undaunted in her will to survive, Tilly Trotter is forced to flee her home in the rural countryside of nineteenth-century England after she is falsely accused of practicing witchcraft   \n",
       "270769                                                                                                                                                                                                                                                                                                                                                                                                                                                                                                                                                                                                                      Every person needs to discover the \"why\" behind the main issues in their professional and personal life. Why am I different? Why do I have conflict with certain people? Why don't I like certain jobs or tasks? Why is my attitude about certain things different than my partner? This book will help you to understand these questions.   \n",
       "270814                                                                                                                                                                                                                                                                                                                                                                                                                                                                                                                                                                                                                                                                        Democracy is crumbling in the Interstellar Dominion Electorates and if Dar and Samantha can't get their message to Terra in time, a coup is inevitable. What's more, every police ship in space has just been alerted that Dar and Samantha are dangerous telepaths to be shot on sight.   \n",
       "270873                                                                                                                                                                                                                                                                                                                                                                                                                                                                                                                                                                                                                                                                                                                                                                                                          Horror stories feature a mental parasite, shapechangers, a grieving father, a werewolf, nightmares, an initiation rite, a ghost, spiders, and monsters   \n",
       "270932                                                                                                                                                                                                                                                                                                                                                                                                                                                                                                                                                                                                                                                                                                                                                                                                                                                                                                            Natty Bumpo's adventures are exciting and realistic.   \n",
       "\n",
       "        page_count        categories maturity_rating language  \n",
       "41             NaN               NaN      NOT_MATURE       en  \n",
       "279            NaN   ['Biographers']      NOT_MATURE       en  \n",
       "2572           NaN               NaN      NOT_MATURE       en  \n",
       "2763           NaN       ['Fiction']      NOT_MATURE       en  \n",
       "4014           NaN  ['Caterpillars']      NOT_MATURE       en  \n",
       "...            ...               ...             ...      ...  \n",
       "267878         NaN       ['Fiction']      NOT_MATURE       en  \n",
       "270769         NaN               NaN      NOT_MATURE       en  \n",
       "270814         NaN               NaN      NOT_MATURE       en  \n",
       "270873         NaN       ['Fiction']      NOT_MATURE       en  \n",
       "270932         NaN               NaN      NOT_MATURE       en  \n",
       "\n",
       "[510 rows x 12 columns]"
      ]
     },
     "execution_count": 100,
     "metadata": {},
     "output_type": "execute_result"
    }
   ],
   "source": [
    "#exploring 'Page count' column\n",
    "books_data.loc[books_data.page_count.isnull(),:]"
   ]
  },
  {
   "cell_type": "code",
   "execution_count": 101,
   "metadata": {},
   "outputs": [],
   "source": [
    "# Replace any NaN values with the median value\n",
    "books_data['page_count'].fillna(books_data['page_count'].median(), inplace=True)"
   ]
  },
  {
   "cell_type": "code",
   "execution_count": 102,
   "metadata": {},
   "outputs": [
    {
     "data": {
      "text/html": [
       "<div>\n",
       "<style scoped>\n",
       "    .dataframe tbody tr th:only-of-type {\n",
       "        vertical-align: middle;\n",
       "    }\n",
       "\n",
       "    .dataframe tbody tr th {\n",
       "        vertical-align: top;\n",
       "    }\n",
       "\n",
       "    .dataframe thead th {\n",
       "        text-align: right;\n",
       "    }\n",
       "</style>\n",
       "<table border=\"1\" class=\"dataframe\">\n",
       "  <thead>\n",
       "    <tr style=\"text-align: right;\">\n",
       "      <th></th>\n",
       "      <th>ISBN</th>\n",
       "      <th>Book-Title</th>\n",
       "      <th>Book-Author</th>\n",
       "      <th>Year-Of-Publication</th>\n",
       "      <th>Publisher</th>\n",
       "      <th>Image-URL-S</th>\n",
       "      <th>authors</th>\n",
       "      <th>description</th>\n",
       "      <th>page_count</th>\n",
       "      <th>categories</th>\n",
       "      <th>maturity_rating</th>\n",
       "      <th>language</th>\n",
       "    </tr>\n",
       "  </thead>\n",
       "  <tbody>\n",
       "    <tr>\n",
       "      <th>0</th>\n",
       "      <td>0195153448</td>\n",
       "      <td>Classical Mythology</td>\n",
       "      <td>Mark P. O. Morford</td>\n",
       "      <td>2002</td>\n",
       "      <td>Oxford University Press</td>\n",
       "      <td>http://images.amazon.com/images/P/0195153448.01.THUMBZZZ.jpg</td>\n",
       "      <td>['Mark P. O. Morford', 'Robert J. Lenardon']</td>\n",
       "      <td>Provides an introduction to classical myths placing the addressed topics within their historical context, discussion of archaeological evidence as support for mythical events, and how these themes have been portrayed in literature, art, music, and film.</td>\n",
       "      <td>808</td>\n",
       "      <td>['Social Science']</td>\n",
       "      <td>NOT_MATURE</td>\n",
       "      <td>en</td>\n",
       "    </tr>\n",
       "    <tr>\n",
       "      <th>2</th>\n",
       "      <td>0060973129</td>\n",
       "      <td>Decision in Normandy</td>\n",
       "      <td>Carlo D'Este</td>\n",
       "      <td>1991</td>\n",
       "      <td>HarperPerennial</td>\n",
       "      <td>http://images.amazon.com/images/P/0060973129.01.THUMBZZZ.jpg</td>\n",
       "      <td>[\"Carlo D'Este\"]</td>\n",
       "      <td>Here, for the first time in paperback, is an outstanding military history that offers a dramatic new perspective on the Allied campaign that began with the invasion of the D-Day beaches of Normandy. Nationa advertising in Military History.</td>\n",
       "      <td>582</td>\n",
       "      <td>['1940-1949']</td>\n",
       "      <td>NOT_MATURE</td>\n",
       "      <td>en</td>\n",
       "    </tr>\n",
       "    <tr>\n",
       "      <th>3</th>\n",
       "      <td>0374157065</td>\n",
       "      <td>Flu: The Story of the Great Influenza Pandemic of 1918 and the Search for the Virus That Caused It</td>\n",
       "      <td>Gina Bari Kolata</td>\n",
       "      <td>1999</td>\n",
       "      <td>Farrar Straus Giroux</td>\n",
       "      <td>http://images.amazon.com/images/P/0374157065.01.THUMBZZZ.jpg</td>\n",
       "      <td>['Gina Bari Kolata']</td>\n",
       "      <td>Describes the great flu epidemic of 1918, an outbreak that killed some forty million people worldwide, and discusses the efforts of scientists and public health officials to understand and prevent another lethal pandemic</td>\n",
       "      <td>367</td>\n",
       "      <td>['Medical']</td>\n",
       "      <td>NOT_MATURE</td>\n",
       "      <td>en</td>\n",
       "    </tr>\n",
       "    <tr>\n",
       "      <th>4</th>\n",
       "      <td>0393045218</td>\n",
       "      <td>The Mummies of Urumchi</td>\n",
       "      <td>E. J. W. Barber</td>\n",
       "      <td>1999</td>\n",
       "      <td>W. W. Norton &amp;amp; Company</td>\n",
       "      <td>http://images.amazon.com/images/P/0393045218.01.THUMBZZZ.jpg</td>\n",
       "      <td>['E. J. W. Barber']</td>\n",
       "      <td>A look at the incredibly well-preserved ancient mummies found in Western China describes their clothing and appearance, attempts to reconstruct their culture, and speculates about how Caucasians could have found their way to the feet of the Himalayan mountains.</td>\n",
       "      <td>240</td>\n",
       "      <td>['Design']</td>\n",
       "      <td>NOT_MATURE</td>\n",
       "      <td>en</td>\n",
       "    </tr>\n",
       "    <tr>\n",
       "      <th>5</th>\n",
       "      <td>0399135782</td>\n",
       "      <td>The Kitchen God's Wife</td>\n",
       "      <td>Amy Tan</td>\n",
       "      <td>1991</td>\n",
       "      <td>Putnam Pub Group</td>\n",
       "      <td>http://images.amazon.com/images/P/0399135782.01.THUMBZZZ.jpg</td>\n",
       "      <td>['Amy Tan']</td>\n",
       "      <td>A Chinese immigrant who is convinced she is dying threatens to celebrate the Chinese New Year by unburdening herself of everybody's hidden truths, thus prompting a series of comic misunderstandings</td>\n",
       "      <td>428</td>\n",
       "      <td>['Fiction']</td>\n",
       "      <td>NOT_MATURE</td>\n",
       "      <td>en</td>\n",
       "    </tr>\n",
       "  </tbody>\n",
       "</table>\n",
       "</div>"
      ],
      "text/plain": [
       "         ISBN  \\\n",
       "0  0195153448   \n",
       "2  0060973129   \n",
       "3  0374157065   \n",
       "4  0393045218   \n",
       "5  0399135782   \n",
       "\n",
       "                                                                                           Book-Title  \\\n",
       "0                                                                                 Classical Mythology   \n",
       "2                                                                                Decision in Normandy   \n",
       "3  Flu: The Story of the Great Influenza Pandemic of 1918 and the Search for the Virus That Caused It   \n",
       "4                                                                              The Mummies of Urumchi   \n",
       "5                                                                              The Kitchen God's Wife   \n",
       "\n",
       "          Book-Author  Year-Of-Publication                   Publisher  \\\n",
       "0  Mark P. O. Morford                 2002     Oxford University Press   \n",
       "2        Carlo D'Este                 1991             HarperPerennial   \n",
       "3    Gina Bari Kolata                 1999        Farrar Straus Giroux   \n",
       "4     E. J. W. Barber                 1999  W. W. Norton &amp; Company   \n",
       "5             Amy Tan                 1991            Putnam Pub Group   \n",
       "\n",
       "                                                    Image-URL-S  \\\n",
       "0  http://images.amazon.com/images/P/0195153448.01.THUMBZZZ.jpg   \n",
       "2  http://images.amazon.com/images/P/0060973129.01.THUMBZZZ.jpg   \n",
       "3  http://images.amazon.com/images/P/0374157065.01.THUMBZZZ.jpg   \n",
       "4  http://images.amazon.com/images/P/0393045218.01.THUMBZZZ.jpg   \n",
       "5  http://images.amazon.com/images/P/0399135782.01.THUMBZZZ.jpg   \n",
       "\n",
       "                                        authors  \\\n",
       "0  ['Mark P. O. Morford', 'Robert J. Lenardon']   \n",
       "2                              [\"Carlo D'Este\"]   \n",
       "3                          ['Gina Bari Kolata']   \n",
       "4                           ['E. J. W. Barber']   \n",
       "5                                   ['Amy Tan']   \n",
       "\n",
       "                                                                                                                                                                                                                                                             description  \\\n",
       "0          Provides an introduction to classical myths placing the addressed topics within their historical context, discussion of archaeological evidence as support for mythical events, and how these themes have been portrayed in literature, art, music, and film.   \n",
       "2                        Here, for the first time in paperback, is an outstanding military history that offers a dramatic new perspective on the Allied campaign that began with the invasion of the D-Day beaches of Normandy. Nationa advertising in Military History.   \n",
       "3                                           Describes the great flu epidemic of 1918, an outbreak that killed some forty million people worldwide, and discusses the efforts of scientists and public health officials to understand and prevent another lethal pandemic   \n",
       "4  A look at the incredibly well-preserved ancient mummies found in Western China describes their clothing and appearance, attempts to reconstruct their culture, and speculates about how Caucasians could have found their way to the feet of the Himalayan mountains.   \n",
       "5                                                                  A Chinese immigrant who is convinced she is dying threatens to celebrate the Chinese New Year by unburdening herself of everybody's hidden truths, thus prompting a series of comic misunderstandings   \n",
       "\n",
       "   page_count          categories maturity_rating language  \n",
       "0         808  ['Social Science']      NOT_MATURE       en  \n",
       "2         582       ['1940-1949']      NOT_MATURE       en  \n",
       "3         367         ['Medical']      NOT_MATURE       en  \n",
       "4         240          ['Design']      NOT_MATURE       en  \n",
       "5         428         ['Fiction']      NOT_MATURE       en  "
      ]
     },
     "execution_count": 102,
     "metadata": {},
     "output_type": "execute_result"
    }
   ],
   "source": [
    "# Convert the 'page_count' to numeric data type\n",
    "books_data['page_count'] = pd.to_numeric(books_data['page_count'], errors='coerce')\n",
    "# Convert the 'float_column' to integer data type\n",
    "books_data['page_count'] = books_data['page_count'].round().astype(int)\n",
    "# preview data set\n",
    "books_data.head()"
   ]
  },
  {
   "cell_type": "code",
   "execution_count": 103,
   "metadata": {},
   "outputs": [
    {
     "data": {
      "text/html": [
       "<div>\n",
       "<style scoped>\n",
       "    .dataframe tbody tr th:only-of-type {\n",
       "        vertical-align: middle;\n",
       "    }\n",
       "\n",
       "    .dataframe tbody tr th {\n",
       "        vertical-align: top;\n",
       "    }\n",
       "\n",
       "    .dataframe thead th {\n",
       "        text-align: right;\n",
       "    }\n",
       "</style>\n",
       "<table border=\"1\" class=\"dataframe\">\n",
       "  <thead>\n",
       "    <tr style=\"text-align: right;\">\n",
       "      <th></th>\n",
       "      <th>ISBN</th>\n",
       "      <th>Book-Title</th>\n",
       "      <th>Book-Author</th>\n",
       "      <th>Year-Of-Publication</th>\n",
       "      <th>Publisher</th>\n",
       "      <th>Image-URL-S</th>\n",
       "      <th>authors</th>\n",
       "      <th>description</th>\n",
       "      <th>page_count</th>\n",
       "      <th>categories</th>\n",
       "      <th>maturity_rating</th>\n",
       "      <th>language</th>\n",
       "    </tr>\n",
       "  </thead>\n",
       "  <tbody>\n",
       "    <tr>\n",
       "      <th>33</th>\n",
       "      <td>3442353866</td>\n",
       "      <td>Der Fluch der Kaiserin. Ein Richter- Di- Roman.</td>\n",
       "      <td>Eleanor Cooney</td>\n",
       "      <td>2001</td>\n",
       "      <td>Goldmann</td>\n",
       "      <td>http://images.amazon.com/images/P/3442353866.01.THUMBZZZ.jpg</td>\n",
       "      <td>['Eleanor Cooney', 'Daniel Altieri']</td>\n",
       "      <td>Im China des Jahres 671 gelingt Richter Di die Flucht vor der skrupellosen Kaiserin Wu in die Hafenstadt Kanton. Doch auch dort ist er nicht sicher.</td>\n",
       "      <td>507</td>\n",
       "      <td>NaN</td>\n",
       "      <td>NOT_MATURE</td>\n",
       "      <td>de</td>\n",
       "    </tr>\n",
       "    <tr>\n",
       "      <th>41</th>\n",
       "      <td>055321215X</td>\n",
       "      <td>Pride and Prejudice</td>\n",
       "      <td>Jane Austen</td>\n",
       "      <td>1983</td>\n",
       "      <td>Bantam</td>\n",
       "      <td>http://images.amazon.com/images/P/055321215X.01.THUMBZZZ.jpg</td>\n",
       "      <td>['Jane Austen']</td>\n",
       "      <td>\"It is a truth universally acknowledged, that a single man in possession of a good fortune must be in want of a wife.\" So begins Pride and Prejudice, Jane Austen's perfect comedy of manners--one of the most popular novels of all time--that features splendidly civilized sparring between the proud Mr. Darcy and the prejudiced Elizabeth Bennet as they play out their spirited courtship in a series of eighteenth-century drawing-room intrigues. \"Pride and Prejudice seems as vital today as ever,\" writes Anna Quindlen in her introduction to this Modern Library edition. \"It is a pure joy to read.\" Eudora Welty agrees: \"The gaiety is unextinguished, the irony has kept its bite, the reasoning is still sweet, the sparkle undiminished. [It is] irresistible and as nearly flawless as any fiction could be.\" This volume is the companion to the BBC television series, a lavish production aired on the Arts and Entertainment Network.</td>\n",
       "      <td>260</td>\n",
       "      <td>NaN</td>\n",
       "      <td>NOT_MATURE</td>\n",
       "      <td>en</td>\n",
       "    </tr>\n",
       "    <tr>\n",
       "      <th>190</th>\n",
       "      <td>3423241489</td>\n",
       "      <td>Ist mein Hintern wirklich so dick? Tagebuch einer empfindsamen Frau.</td>\n",
       "      <td>Arabella Weir</td>\n",
       "      <td>1998</td>\n",
       "      <td>Dtv</td>\n",
       "      <td>http://images.amazon.com/images/P/3423241489.01.THUMBZZZ.jpg</td>\n",
       "      <td>['Arabella Weir']</td>\n",
       "      <td>Jacqueline er en dygtig 35-ÃÂ¥rig kvinde, som passer sit job som konferenceplanlÃÂ¦gger i London med stor succes. Men i sin dagbog afslÃÂ¸rer hun galgenhumoristisk sit rÃÂ¦dselsfulde mindrevÃÂ¦rdskompleks og sin absolut skÃÂ¦ve selvopfattelse</td>\n",
       "      <td>239</td>\n",
       "      <td>NaN</td>\n",
       "      <td>NOT_MATURE</td>\n",
       "      <td>de</td>\n",
       "    </tr>\n",
       "    <tr>\n",
       "      <th>201</th>\n",
       "      <td>3596292646</td>\n",
       "      <td>Das Buch der lÃ?Â¤cherlichen Liebe.</td>\n",
       "      <td>Milan Kundera</td>\n",
       "      <td>2000</td>\n",
       "      <td>Fischer (Tb.), Frankfurt</td>\n",
       "      <td>http://images.amazon.com/images/P/3596292646.01.THUMBZZZ.jpg</td>\n",
       "      <td>['Milan Kundera']</td>\n",
       "      <td>Die im 'Buch der lÃÂ¤cherlichen Liebe' versammelten ErzÃÂ¤hlungen sind noch in den sechziger Jahren in Prag entstanden. In seinen ErzÃÂ¤hlungen spannt Kundera die komischsten Paare zusammen, die schlieÃÂlich in grotesken Situationen die AbsurditÃÂ¤t unserer Beziehungen erkennen mÃÂ¼ssen.</td>\n",
       "      <td>238</td>\n",
       "      <td>NaN</td>\n",
       "      <td>NOT_MATURE</td>\n",
       "      <td>de</td>\n",
       "    </tr>\n",
       "    <tr>\n",
       "      <th>284</th>\n",
       "      <td>0451526279</td>\n",
       "      <td>Emma (Signet Classics (Paperback))</td>\n",
       "      <td>Jane Austen</td>\n",
       "      <td>1996</td>\n",
       "      <td>Signet Classics</td>\n",
       "      <td>http://images.amazon.com/images/P/0451526279.01.THUMBZZZ.jpg</td>\n",
       "      <td>['Jane']</td>\n",
       "      <td>Beschrijving van leven en karakter van een jong, intelligent en zelfbewust meisje uit de gegoede middenstand in Engeland omstreeks 1800.</td>\n",
       "      <td>414</td>\n",
       "      <td>NaN</td>\n",
       "      <td>NOT_MATURE</td>\n",
       "      <td>en</td>\n",
       "    </tr>\n",
       "    <tr>\n",
       "      <th>...</th>\n",
       "      <td>...</td>\n",
       "      <td>...</td>\n",
       "      <td>...</td>\n",
       "      <td>...</td>\n",
       "      <td>...</td>\n",
       "      <td>...</td>\n",
       "      <td>...</td>\n",
       "      <td>...</td>\n",
       "      <td>...</td>\n",
       "      <td>...</td>\n",
       "      <td>...</td>\n",
       "      <td>...</td>\n",
       "    </tr>\n",
       "    <tr>\n",
       "      <th>270708</th>\n",
       "      <td>0044422814</td>\n",
       "      <td>Oceana Fine</td>\n",
       "      <td>Tom Flood</td>\n",
       "      <td>1989</td>\n",
       "      <td>Allen &amp;amp; Unwin (Australia) Pty Ltd</td>\n",
       "      <td>http://images.amazon.com/images/P/0044422814.01.THUMBZZZ.jpg</td>\n",
       "      <td>['Tom Flood']</td>\n",
       "      <td>A bold new novel which is part whodunit, part psychological thriller, part magical fantasy, charting the lives and decreasing fortunes of the Cleaver family.;</td>\n",
       "      <td>261</td>\n",
       "      <td>NaN</td>\n",
       "      <td>NOT_MATURE</td>\n",
       "      <td>en</td>\n",
       "    </tr>\n",
       "    <tr>\n",
       "      <th>270769</th>\n",
       "      <td>082811420X</td>\n",
       "      <td>What I Know Now</td>\n",
       "      <td>Bill J. Bonnstetter</td>\n",
       "      <td>1999</td>\n",
       "      <td>Forbes Inc</td>\n",
       "      <td>http://images.amazon.com/images/P/082811420X.01.THUMBZZZ.jpg</td>\n",
       "      <td>['Bill J. Bonnstetter']</td>\n",
       "      <td>Every person needs to discover the \"why\" behind the main issues in their professional and personal life. Why am I different? Why do I have conflict with certain people? Why don't I like certain jobs or tasks? Why is my attitude about certain things different than my partner? This book will help you to understand these questions.</td>\n",
       "      <td>260</td>\n",
       "      <td>NaN</td>\n",
       "      <td>NOT_MATURE</td>\n",
       "      <td>en</td>\n",
       "    </tr>\n",
       "    <tr>\n",
       "      <th>270814</th>\n",
       "      <td>0441216005</td>\n",
       "      <td>Escape Velocity</td>\n",
       "      <td>Christopher Stasheff</td>\n",
       "      <td>1984</td>\n",
       "      <td>Ace Books</td>\n",
       "      <td>http://images.amazon.com/images/P/0441216005.01.THUMBZZZ.jpg</td>\n",
       "      <td>['Christopher Stasheff']</td>\n",
       "      <td>Democracy is crumbling in the Interstellar Dominion Electorates and if Dar and Samantha can't get their message to Terra in time, a coup is inevitable. What's more, every police ship in space has just been alerted that Dar and Samantha are dangerous telepaths to be shot on sight.</td>\n",
       "      <td>260</td>\n",
       "      <td>NaN</td>\n",
       "      <td>NOT_MATURE</td>\n",
       "      <td>en</td>\n",
       "    </tr>\n",
       "    <tr>\n",
       "      <th>270903</th>\n",
       "      <td>3809024473</td>\n",
       "      <td>Freispruch fÃ?Â¼r einen MÃ?Â¶rder.</td>\n",
       "      <td>Lisa Scottoline</td>\n",
       "      <td>1999</td>\n",
       "      <td>Limes Verlag</td>\n",
       "      <td>http://images.amazon.com/images/P/3809024473.01.THUMBZZZ.jpg</td>\n",
       "      <td>['Lisa Scottoline']</td>\n",
       "      <td>Kurz vor der UrteilsverkÃ¼ndung in einem Mordprozess muss StaranwÃ¤ltin Marta Richter erkennen, dass sie einem skrupellosen MÃ¶rder zum Freispruch verholfen hat. - Justizthriller.</td>\n",
       "      <td>510</td>\n",
       "      <td>NaN</td>\n",
       "      <td>NOT_MATURE</td>\n",
       "      <td>de</td>\n",
       "    </tr>\n",
       "    <tr>\n",
       "      <th>270932</th>\n",
       "      <td>0451521390</td>\n",
       "      <td>Pathfinder</td>\n",
       "      <td>James Fenimore Cooper</td>\n",
       "      <td>1982</td>\n",
       "      <td>Signet Book</td>\n",
       "      <td>http://images.amazon.com/images/P/0451521390.01.THUMBZZZ.jpg</td>\n",
       "      <td>['James Fenimore Cooper']</td>\n",
       "      <td>Natty Bumpo's adventures are exciting and realistic.</td>\n",
       "      <td>260</td>\n",
       "      <td>NaN</td>\n",
       "      <td>NOT_MATURE</td>\n",
       "      <td>en</td>\n",
       "    </tr>\n",
       "  </tbody>\n",
       "</table>\n",
       "<p>3977 rows × 12 columns</p>\n",
       "</div>"
      ],
      "text/plain": [
       "              ISBN  \\\n",
       "33      3442353866   \n",
       "41      055321215X   \n",
       "190     3423241489   \n",
       "201     3596292646   \n",
       "284     0451526279   \n",
       "...            ...   \n",
       "270708  0044422814   \n",
       "270769  082811420X   \n",
       "270814  0441216005   \n",
       "270903  3809024473   \n",
       "270932  0451521390   \n",
       "\n",
       "                                                                  Book-Title  \\\n",
       "33                           Der Fluch der Kaiserin. Ein Richter- Di- Roman.   \n",
       "41                                                       Pride and Prejudice   \n",
       "190     Ist mein Hintern wirklich so dick? Tagebuch einer empfindsamen Frau.   \n",
       "201                                      Das Buch der lÃ?Â¤cherlichen Liebe.   \n",
       "284                                       Emma (Signet Classics (Paperback))   \n",
       "...                                                                      ...   \n",
       "270708                                                           Oceana Fine   \n",
       "270769                                                       What I Know Now   \n",
       "270814                                                       Escape Velocity   \n",
       "270903                                    Freispruch fÃ?Â¼r einen MÃ?Â¶rder.   \n",
       "270932                                                            Pathfinder   \n",
       "\n",
       "                  Book-Author  Year-Of-Publication  \\\n",
       "33             Eleanor Cooney                 2001   \n",
       "41                Jane Austen                 1983   \n",
       "190             Arabella Weir                 1998   \n",
       "201             Milan Kundera                 2000   \n",
       "284               Jane Austen                 1996   \n",
       "...                       ...                  ...   \n",
       "270708              Tom Flood                 1989   \n",
       "270769    Bill J. Bonnstetter                 1999   \n",
       "270814   Christopher Stasheff                 1984   \n",
       "270903        Lisa Scottoline                 1999   \n",
       "270932  James Fenimore Cooper                 1982   \n",
       "\n",
       "                                    Publisher  \\\n",
       "33                                   Goldmann   \n",
       "41                                     Bantam   \n",
       "190                                       Dtv   \n",
       "201                  Fischer (Tb.), Frankfurt   \n",
       "284                           Signet Classics   \n",
       "...                                       ...   \n",
       "270708  Allen &amp; Unwin (Australia) Pty Ltd   \n",
       "270769                             Forbes Inc   \n",
       "270814                              Ace Books   \n",
       "270903                           Limes Verlag   \n",
       "270932                            Signet Book   \n",
       "\n",
       "                                                         Image-URL-S  \\\n",
       "33      http://images.amazon.com/images/P/3442353866.01.THUMBZZZ.jpg   \n",
       "41      http://images.amazon.com/images/P/055321215X.01.THUMBZZZ.jpg   \n",
       "190     http://images.amazon.com/images/P/3423241489.01.THUMBZZZ.jpg   \n",
       "201     http://images.amazon.com/images/P/3596292646.01.THUMBZZZ.jpg   \n",
       "284     http://images.amazon.com/images/P/0451526279.01.THUMBZZZ.jpg   \n",
       "...                                                              ...   \n",
       "270708  http://images.amazon.com/images/P/0044422814.01.THUMBZZZ.jpg   \n",
       "270769  http://images.amazon.com/images/P/082811420X.01.THUMBZZZ.jpg   \n",
       "270814  http://images.amazon.com/images/P/0441216005.01.THUMBZZZ.jpg   \n",
       "270903  http://images.amazon.com/images/P/3809024473.01.THUMBZZZ.jpg   \n",
       "270932  http://images.amazon.com/images/P/0451521390.01.THUMBZZZ.jpg   \n",
       "\n",
       "                                     authors  \\\n",
       "33      ['Eleanor Cooney', 'Daniel Altieri']   \n",
       "41                           ['Jane Austen']   \n",
       "190                        ['Arabella Weir']   \n",
       "201                        ['Milan Kundera']   \n",
       "284                                 ['Jane']   \n",
       "...                                      ...   \n",
       "270708                         ['Tom Flood']   \n",
       "270769               ['Bill J. Bonnstetter']   \n",
       "270814              ['Christopher Stasheff']   \n",
       "270903                   ['Lisa Scottoline']   \n",
       "270932             ['James Fenimore Cooper']   \n",
       "\n",
       "                                                                                                                                                                                                                                                                                                                                                                                                                                                                                                                                                                                                                                                                                                                                                                                                                                                                                                                                                           description  \\\n",
       "33                                                                                                                                                                                                                                                                                                                                                                                                                                                                                                                                                                                                                                                                                                                                                                                                                Im China des Jahres 671 gelingt Richter Di die Flucht vor der skrupellosen Kaiserin Wu in die Hafenstadt Kanton. Doch auch dort ist er nicht sicher.   \n",
       "41      \"It is a truth universally acknowledged, that a single man in possession of a good fortune must be in want of a wife.\" So begins Pride and Prejudice, Jane Austen's perfect comedy of manners--one of the most popular novels of all time--that features splendidly civilized sparring between the proud Mr. Darcy and the prejudiced Elizabeth Bennet as they play out their spirited courtship in a series of eighteenth-century drawing-room intrigues. \"Pride and Prejudice seems as vital today as ever,\" writes Anna Quindlen in her introduction to this Modern Library edition. \"It is a pure joy to read.\" Eudora Welty agrees: \"The gaiety is unextinguished, the irony has kept its bite, the reasoning is still sweet, the sparkle undiminished. [It is] irresistible and as nearly flawless as any fiction could be.\" This volume is the companion to the BBC television series, a lavish production aired on the Arts and Entertainment Network.   \n",
       "190                                                                                                                                                                                                                                                                                                                                                                                                                                                                                                                                                                                                                                                                                                           Jacqueline er en dygtig 35-ÃÂ¥rig kvinde, som passer sit job som konferenceplanlÃÂ¦gger i London med stor succes. Men i sin dagbog afslÃÂ¸rer hun galgenhumoristisk sit rÃÂ¦dselsfulde mindrevÃÂ¦rdskompleks og sin absolut skÃÂ¦ve selvopfattelse   \n",
       "201                                                                                                                                                                                                                                                                                                                                                                                                                                                                                                                                                                                                                                                            Die im 'Buch der lÃÂ¤cherlichen Liebe' versammelten ErzÃÂ¤hlungen sind noch in den sechziger Jahren in Prag entstanden. In seinen ErzÃÂ¤hlungen spannt Kundera die komischsten Paare zusammen, die schlieÃÂlich in grotesken Situationen die AbsurditÃÂ¤t unserer Beziehungen erkennen mÃÂ¼ssen.   \n",
       "284                                                                                                                                                                                                                                                                                                                                                                                                                                                                                                                                                                                                                                                                                                                                                                                                                           Beschrijving van leven en karakter van een jong, intelligent en zelfbewust meisje uit de gegoede middenstand in Engeland omstreeks 1800.   \n",
       "...                                                                                                                                                                                                                                                                                                                                                                                                                                                                                                                                                                                                                                                                                                                                                                                                                                                                                                                                                                ...   \n",
       "270708                                                                                                                                                                                                                                                                                                                                                                                                                                                                                                                                                                                                                                                                                                                                                                                                  A bold new novel which is part whodunit, part psychological thriller, part magical fantasy, charting the lives and decreasing fortunes of the Cleaver family.;   \n",
       "270769                                                                                                                                                                                                                                                                                                                                                                                                                                                                                                                                                                                                                      Every person needs to discover the \"why\" behind the main issues in their professional and personal life. Why am I different? Why do I have conflict with certain people? Why don't I like certain jobs or tasks? Why is my attitude about certain things different than my partner? This book will help you to understand these questions.   \n",
       "270814                                                                                                                                                                                                                                                                                                                                                                                                                                                                                                                                                                                                                                                                        Democracy is crumbling in the Interstellar Dominion Electorates and if Dar and Samantha can't get their message to Terra in time, a coup is inevitable. What's more, every police ship in space has just been alerted that Dar and Samantha are dangerous telepaths to be shot on sight.   \n",
       "270903                                                                                                                                                                                                                                                                                                                                                                                                                                                                                                                                                                                                                                                                                                                                                                             Kurz vor der UrteilsverkÃ¼ndung in einem Mordprozess muss StaranwÃ¤ltin Marta Richter erkennen, dass sie einem skrupellosen MÃ¶rder zum Freispruch verholfen hat. - Justizthriller.   \n",
       "270932                                                                                                                                                                                                                                                                                                                                                                                                                                                                                                                                                                                                                                                                                                                                                                                                                                                                                                            Natty Bumpo's adventures are exciting and realistic.   \n",
       "\n",
       "        page_count categories maturity_rating language  \n",
       "33             507        NaN      NOT_MATURE       de  \n",
       "41             260        NaN      NOT_MATURE       en  \n",
       "190            239        NaN      NOT_MATURE       de  \n",
       "201            238        NaN      NOT_MATURE       de  \n",
       "284            414        NaN      NOT_MATURE       en  \n",
       "...            ...        ...             ...      ...  \n",
       "270708         261        NaN      NOT_MATURE       en  \n",
       "270769         260        NaN      NOT_MATURE       en  \n",
       "270814         260        NaN      NOT_MATURE       en  \n",
       "270903         510        NaN      NOT_MATURE       de  \n",
       "270932         260        NaN      NOT_MATURE       en  \n",
       "\n",
       "[3977 rows x 12 columns]"
      ]
     },
     "execution_count": 103,
     "metadata": {},
     "output_type": "execute_result"
    }
   ],
   "source": [
    "#exploring the categories column\n",
    "books_data.loc[books_data.categories.isnull(),:]"
   ]
  },
  {
   "cell_type": "code",
   "execution_count": 104,
   "metadata": {},
   "outputs": [],
   "source": [
    "#filling NaN of categories with None\n",
    "books_data.categories.fillna('None',inplace=True)"
   ]
  },
  {
   "cell_type": "code",
   "execution_count": 105,
   "metadata": {},
   "outputs": [],
   "source": [
    "def categories_split(categories):\n",
    "    # Convert a string representation of a list into an actual list of strings\n",
    "    try:\n",
    "        # Replace various substrings in the original string with others\n",
    "        categories = categories\\\n",
    "            .replace(\"['\", \"\")\\\n",
    "            .replace(\"']\", \"\")\\\n",
    "            .replace(\"', '\", \", \")\\\n",
    "            .replace(\"','\", \", \")\\\n",
    "            .replace(\"' ,'\", \", \")\\\n",
    "            .replace('[\"', '')\\\n",
    "            .replace('\"]', '')\\\n",
    "            .replace('\", \"', ', ')\\\n",
    "            .replace('\",\"', ', ')\\\n",
    "            .replace('\" ,\"', ', ')\\\n",
    "        \n",
    "        # Split the resulting string into a list of strings using the split method\n",
    "        categories = categories.split(\", \")\n",
    "        return categories\n",
    "    \n",
    "    # If an exception, return an empty list\n",
    "    except:\n",
    "        return []"
   ]
  },
  {
   "cell_type": "code",
   "execution_count": 106,
   "metadata": {},
   "outputs": [
    {
     "data": {
      "text/plain": [
       "0    [Social Science]\n",
       "2         [1940-1949]\n",
       "3           [Medical]\n",
       "4            [Design]\n",
       "5           [Fiction]\n",
       "Name: categories, dtype: object"
      ]
     },
     "execution_count": 106,
     "metadata": {},
     "output_type": "execute_result"
    }
   ],
   "source": [
    "#applying the categories_split function to the categories column\n",
    "books_data['categories'] = books_data['categories'].apply(categories_split)\n",
    "books_data['categories'].head()"
   ]
  },
  {
   "cell_type": "code",
   "execution_count": 107,
   "metadata": {},
   "outputs": [
    {
     "data": {
      "text/html": [
       "<div>\n",
       "<style scoped>\n",
       "    .dataframe tbody tr th:only-of-type {\n",
       "        vertical-align: middle;\n",
       "    }\n",
       "\n",
       "    .dataframe tbody tr th {\n",
       "        vertical-align: top;\n",
       "    }\n",
       "\n",
       "    .dataframe thead th {\n",
       "        text-align: right;\n",
       "    }\n",
       "</style>\n",
       "<table border=\"1\" class=\"dataframe\">\n",
       "  <thead>\n",
       "    <tr style=\"text-align: right;\">\n",
       "      <th></th>\n",
       "      <th>ISBN</th>\n",
       "      <th>Book-Title</th>\n",
       "      <th>Book-Author</th>\n",
       "      <th>Year-Of-Publication</th>\n",
       "      <th>Publisher</th>\n",
       "      <th>Image-URL-S</th>\n",
       "      <th>authors</th>\n",
       "      <th>description</th>\n",
       "      <th>page_count</th>\n",
       "      <th>categories</th>\n",
       "      <th>maturity_rating</th>\n",
       "      <th>language</th>\n",
       "    </tr>\n",
       "  </thead>\n",
       "  <tbody>\n",
       "    <tr>\n",
       "      <th>0</th>\n",
       "      <td>0195153448</td>\n",
       "      <td>Classical Mythology</td>\n",
       "      <td>Mark P. O. Morford</td>\n",
       "      <td>2002</td>\n",
       "      <td>Oxford University Press</td>\n",
       "      <td>http://images.amazon.com/images/P/0195153448.01.THUMBZZZ.jpg</td>\n",
       "      <td>['Mark P. O. Morford', 'Robert J. Lenardon']</td>\n",
       "      <td>Provides an introduction to classical myths placing the addressed topics within their historical context, discussion of archaeological evidence as support for mythical events, and how these themes have been portrayed in literature, art, music, and film.</td>\n",
       "      <td>808</td>\n",
       "      <td>Social Science</td>\n",
       "      <td>NOT_MATURE</td>\n",
       "      <td>en</td>\n",
       "    </tr>\n",
       "    <tr>\n",
       "      <th>1</th>\n",
       "      <td>0060973129</td>\n",
       "      <td>Decision in Normandy</td>\n",
       "      <td>Carlo D'Este</td>\n",
       "      <td>1991</td>\n",
       "      <td>HarperPerennial</td>\n",
       "      <td>http://images.amazon.com/images/P/0060973129.01.THUMBZZZ.jpg</td>\n",
       "      <td>[\"Carlo D'Este\"]</td>\n",
       "      <td>Here, for the first time in paperback, is an outstanding military history that offers a dramatic new perspective on the Allied campaign that began with the invasion of the D-Day beaches of Normandy. Nationa advertising in Military History.</td>\n",
       "      <td>582</td>\n",
       "      <td>1940-1949</td>\n",
       "      <td>NOT_MATURE</td>\n",
       "      <td>en</td>\n",
       "    </tr>\n",
       "    <tr>\n",
       "      <th>2</th>\n",
       "      <td>0374157065</td>\n",
       "      <td>Flu: The Story of the Great Influenza Pandemic of 1918 and the Search for the Virus That Caused It</td>\n",
       "      <td>Gina Bari Kolata</td>\n",
       "      <td>1999</td>\n",
       "      <td>Farrar Straus Giroux</td>\n",
       "      <td>http://images.amazon.com/images/P/0374157065.01.THUMBZZZ.jpg</td>\n",
       "      <td>['Gina Bari Kolata']</td>\n",
       "      <td>Describes the great flu epidemic of 1918, an outbreak that killed some forty million people worldwide, and discusses the efforts of scientists and public health officials to understand and prevent another lethal pandemic</td>\n",
       "      <td>367</td>\n",
       "      <td>Medical</td>\n",
       "      <td>NOT_MATURE</td>\n",
       "      <td>en</td>\n",
       "    </tr>\n",
       "  </tbody>\n",
       "</table>\n",
       "</div>"
      ],
      "text/plain": [
       "         ISBN  \\\n",
       "0  0195153448   \n",
       "1  0060973129   \n",
       "2  0374157065   \n",
       "\n",
       "                                                                                           Book-Title  \\\n",
       "0                                                                                 Classical Mythology   \n",
       "1                                                                                Decision in Normandy   \n",
       "2  Flu: The Story of the Great Influenza Pandemic of 1918 and the Search for the Virus That Caused It   \n",
       "\n",
       "          Book-Author  Year-Of-Publication                Publisher  \\\n",
       "0  Mark P. O. Morford                 2002  Oxford University Press   \n",
       "1        Carlo D'Este                 1991          HarperPerennial   \n",
       "2    Gina Bari Kolata                 1999     Farrar Straus Giroux   \n",
       "\n",
       "                                                    Image-URL-S  \\\n",
       "0  http://images.amazon.com/images/P/0195153448.01.THUMBZZZ.jpg   \n",
       "1  http://images.amazon.com/images/P/0060973129.01.THUMBZZZ.jpg   \n",
       "2  http://images.amazon.com/images/P/0374157065.01.THUMBZZZ.jpg   \n",
       "\n",
       "                                        authors  \\\n",
       "0  ['Mark P. O. Morford', 'Robert J. Lenardon']   \n",
       "1                              [\"Carlo D'Este\"]   \n",
       "2                          ['Gina Bari Kolata']   \n",
       "\n",
       "                                                                                                                                                                                                                                                     description  \\\n",
       "0  Provides an introduction to classical myths placing the addressed topics within their historical context, discussion of archaeological evidence as support for mythical events, and how these themes have been portrayed in literature, art, music, and film.   \n",
       "1                Here, for the first time in paperback, is an outstanding military history that offers a dramatic new perspective on the Allied campaign that began with the invasion of the D-Day beaches of Normandy. Nationa advertising in Military History.   \n",
       "2                                   Describes the great flu epidemic of 1918, an outbreak that killed some forty million people worldwide, and discusses the efforts of scientists and public health officials to understand and prevent another lethal pandemic   \n",
       "\n",
       "   page_count      categories maturity_rating language  \n",
       "0         808  Social Science      NOT_MATURE       en  \n",
       "1         582       1940-1949      NOT_MATURE       en  \n",
       "2         367         Medical      NOT_MATURE       en  "
      ]
     },
     "execution_count": 107,
     "metadata": {},
     "output_type": "execute_result"
    }
   ],
   "source": [
    "#separating the categories from the created list\n",
    "books_data = books_data.explode(column='categories', ignore_index = True)\n",
    "books_data.head(3)"
   ]
  },
  {
   "cell_type": "code",
   "execution_count": 108,
   "metadata": {},
   "outputs": [
    {
     "data": {
      "text/html": [
       "<div>\n",
       "<style scoped>\n",
       "    .dataframe tbody tr th:only-of-type {\n",
       "        vertical-align: middle;\n",
       "    }\n",
       "\n",
       "    .dataframe tbody tr th {\n",
       "        vertical-align: top;\n",
       "    }\n",
       "\n",
       "    .dataframe thead th {\n",
       "        text-align: right;\n",
       "    }\n",
       "</style>\n",
       "<table border=\"1\" class=\"dataframe\">\n",
       "  <thead>\n",
       "    <tr style=\"text-align: right;\">\n",
       "      <th></th>\n",
       "      <th>ISBN</th>\n",
       "      <th>Book-Title</th>\n",
       "      <th>Book-Author</th>\n",
       "      <th>Year-Of-Publication</th>\n",
       "      <th>Publisher</th>\n",
       "      <th>Image-URL-S</th>\n",
       "      <th>authors</th>\n",
       "      <th>description</th>\n",
       "      <th>page_count</th>\n",
       "      <th>categories</th>\n",
       "      <th>maturity_rating</th>\n",
       "      <th>language</th>\n",
       "    </tr>\n",
       "  </thead>\n",
       "  <tbody>\n",
       "    <tr>\n",
       "      <th>302</th>\n",
       "      <td>0590481371</td>\n",
       "      <td>I Spy Spooky Night: A Book of Picture Riddles (I Spy Books)</td>\n",
       "      <td>Walter Wick</td>\n",
       "      <td>1996</td>\n",
       "      <td>Scholastic</td>\n",
       "      <td>http://images.amazon.com/images/P/0590481371.01.THUMBZZZ.jpg</td>\n",
       "      <td>NaN</td>\n",
       "      <td>Rhyming verses ask readers to find hidden objects in the photographs.</td>\n",
       "      <td>31</td>\n",
       "      <td>Juvenile Nonfiction</td>\n",
       "      <td>NOT_MATURE</td>\n",
       "      <td>en</td>\n",
       "    </tr>\n",
       "    <tr>\n",
       "      <th>1142</th>\n",
       "      <td>0895773538</td>\n",
       "      <td>How in the World?: A Fascinating Journey Through the World of Human Ingenuity</td>\n",
       "      <td>Readers Digest</td>\n",
       "      <td>1990</td>\n",
       "      <td>Readers Digest</td>\n",
       "      <td>http://images.amazon.com/images/P/0895773538.01.THUMBZZZ.jpg</td>\n",
       "      <td>NaN</td>\n",
       "      <td>An illustrated celebration of human ingenuity explains the underlying principles of 425 key technological innovations, revealing the secrets of lasers, holograms, and more</td>\n",
       "      <td>448</td>\n",
       "      <td>Technology &amp; Engineering</td>\n",
       "      <td>NOT_MATURE</td>\n",
       "      <td>en</td>\n",
       "    </tr>\n",
       "    <tr>\n",
       "      <th>1176</th>\n",
       "      <td>0718001044</td>\n",
       "      <td>Nelson's Bedtime Bible Stories : 150 Passages from the International Children's Bible</td>\n",
       "      <td>Paul Gross</td>\n",
       "      <td>2002</td>\n",
       "      <td>Nelson Bibles</td>\n",
       "      <td>http://images.amazon.com/images/P/0718001044.01.THUMBZZZ.jpg</td>\n",
       "      <td>NaN</td>\n",
       "      <td>Includes stories from both the Old and New Testaments.</td>\n",
       "      <td>356</td>\n",
       "      <td>Juvenile Nonfiction</td>\n",
       "      <td>NOT_MATURE</td>\n",
       "      <td>en</td>\n",
       "    </tr>\n",
       "    <tr>\n",
       "      <th>1478</th>\n",
       "      <td>1590171012</td>\n",
       "      <td>The Magic Pudding: Being the Adventures of Bunyip Bluegum and His Friends Bill Barnacle &amp;amp; Sam Sawnoff (New York Review Children's Collection)</td>\n",
       "      <td>Norman Lindsay</td>\n",
       "      <td>2004</td>\n",
       "      <td>New York Review Children's Collection</td>\n",
       "      <td>http://images.amazon.com/images/P/1590171012.01.THUMBZZZ.jpg</td>\n",
       "      <td>NaN</td>\n",
       "      <td>Bunyip Bluegum, an adventurous Australian koala bear, meets up with a sailor, a penguin, and their magic pudding, which is in constant danger of being stolen.</td>\n",
       "      <td>185</td>\n",
       "      <td>Juvenile Fiction</td>\n",
       "      <td>NOT_MATURE</td>\n",
       "      <td>en</td>\n",
       "    </tr>\n",
       "    <tr>\n",
       "      <th>1500</th>\n",
       "      <td>0913367176</td>\n",
       "      <td>Stories for the Faithful Heart</td>\n",
       "      <td>various authors</td>\n",
       "      <td>2000</td>\n",
       "      <td>Graham, Billy Evangelistic Association</td>\n",
       "      <td>http://images.amazon.com/images/P/0913367176.01.THUMBZZZ.jpg</td>\n",
       "      <td>NaN</td>\n",
       "      <td>Features inspirational stories by Christian authors such as Max Lucado, Billy Graham and Chuck Swindoll.</td>\n",
       "      <td>276</td>\n",
       "      <td>Christian life</td>\n",
       "      <td>NOT_MATURE</td>\n",
       "      <td>en</td>\n",
       "    </tr>\n",
       "    <tr>\n",
       "      <th>...</th>\n",
       "      <td>...</td>\n",
       "      <td>...</td>\n",
       "      <td>...</td>\n",
       "      <td>...</td>\n",
       "      <td>...</td>\n",
       "      <td>...</td>\n",
       "      <td>...</td>\n",
       "      <td>...</td>\n",
       "      <td>...</td>\n",
       "      <td>...</td>\n",
       "      <td>...</td>\n",
       "      <td>...</td>\n",
       "    </tr>\n",
       "    <tr>\n",
       "      <th>185304</th>\n",
       "      <td>0716726041</td>\n",
       "      <td>An Introduction to Genetic Analysis</td>\n",
       "      <td>Anthony J. F. Griffiths</td>\n",
       "      <td>1996</td>\n",
       "      <td>W.H. Freeman &amp;amp; Company</td>\n",
       "      <td>http://images.amazon.com/images/P/0716726041.01.THUMBZZZ.jpg</td>\n",
       "      <td>NaN</td>\n",
       "      <td>This edition contains a new chapter on genomics, updated chapters on molecular genetics, new exercises that help students assimilate and apply a number of genetic principles, and a greater emphasis on human genetics.</td>\n",
       "      <td>915</td>\n",
       "      <td>Genetics</td>\n",
       "      <td>NOT_MATURE</td>\n",
       "      <td>en</td>\n",
       "    </tr>\n",
       "    <tr>\n",
       "      <th>185368</th>\n",
       "      <td>1931514631</td>\n",
       "      <td>Planet Ladder (Volume 2)</td>\n",
       "      <td>Narushima Yuri</td>\n",
       "      <td>2002</td>\n",
       "      <td>TokyoPop</td>\n",
       "      <td>http://images.amazon.com/images/P/1931514631.01.THUMBZZZ.jpg</td>\n",
       "      <td>NaN</td>\n",
       "      <td>Follows the adverntures of Kaguya, the fabled Princess of the Choosing, who legend says will decide which of the nine alternate Earths will be saved.</td>\n",
       "      <td>192</td>\n",
       "      <td>Comics &amp; Graphic Novels</td>\n",
       "      <td>NOT_MATURE</td>\n",
       "      <td>en</td>\n",
       "    </tr>\n",
       "    <tr>\n",
       "      <th>185439</th>\n",
       "      <td>0394884973</td>\n",
       "      <td>Walt Disney Pictures Presents the Great Mouse Detective (Disney's Wonderful World of Reading, No 55)</td>\n",
       "      <td>Not Applicable (Na )</td>\n",
       "      <td>1986</td>\n",
       "      <td>Random House Childrens Books</td>\n",
       "      <td>http://images.amazon.com/images/P/0394884973.01.THUMBZZZ.jpg</td>\n",
       "      <td>NaN</td>\n",
       "      <td>The evil Ratigan plans to kidnap the queen and replace her with a life-size toy queen through whom he will rule England; but master mouse detective Basil of Baker Street steps in to foil the plot. Based on the Disney movie of the same title.</td>\n",
       "      <td>48</td>\n",
       "      <td>Detective and mystery stories</td>\n",
       "      <td>NOT_MATURE</td>\n",
       "      <td>en</td>\n",
       "    </tr>\n",
       "    <tr>\n",
       "      <th>185506</th>\n",
       "      <td>0822502763</td>\n",
       "      <td>Antonyms: Hot and Cold and Other Words That Are Different As Night and Day</td>\n",
       "      <td>Joan Hanson</td>\n",
       "      <td>1972</td>\n",
       "      <td>Lerner Pubns Co (L)</td>\n",
       "      <td>http://images.amazon.com/images/P/0822502763.01.THUMBZZZ.jpg</td>\n",
       "      <td>NaN</td>\n",
       "      <td>Pictures on facing pages reflect the opposite meanings of the antonyms given.</td>\n",
       "      <td>32</td>\n",
       "      <td>Juvenile Nonfiction</td>\n",
       "      <td>NOT_MATURE</td>\n",
       "      <td>en</td>\n",
       "    </tr>\n",
       "    <tr>\n",
       "      <th>185524</th>\n",
       "      <td>086713089X</td>\n",
       "      <td>Classic Fairy Tales</td>\n",
       "      <td>Scott Gustafson</td>\n",
       "      <td>2003</td>\n",
       "      <td>Greenwich Workshop Press</td>\n",
       "      <td>http://images.amazon.com/images/P/086713089X.01.THUMBZZZ.jpg</td>\n",
       "      <td>NaN</td>\n",
       "      <td>This exquisitely illustrated, large format gift book features ten of the most enduring fairy tales of all time, including \"Snow White,\" \"Hansel and Gretel,\" and \"Rumplestiltskin.\"</td>\n",
       "      <td>144</td>\n",
       "      <td>Juvenile Fiction</td>\n",
       "      <td>NOT_MATURE</td>\n",
       "      <td>en</td>\n",
       "    </tr>\n",
       "  </tbody>\n",
       "</table>\n",
       "<p>1475 rows × 12 columns</p>\n",
       "</div>"
      ],
      "text/plain": [
       "              ISBN  \\\n",
       "302     0590481371   \n",
       "1142    0895773538   \n",
       "1176    0718001044   \n",
       "1478    1590171012   \n",
       "1500    0913367176   \n",
       "...            ...   \n",
       "185304  0716726041   \n",
       "185368  1931514631   \n",
       "185439  0394884973   \n",
       "185506  0822502763   \n",
       "185524  086713089X   \n",
       "\n",
       "                                                                                                                                               Book-Title  \\\n",
       "302                                                                                           I Spy Spooky Night: A Book of Picture Riddles (I Spy Books)   \n",
       "1142                                                                        How in the World?: A Fascinating Journey Through the World of Human Ingenuity   \n",
       "1176                                                                Nelson's Bedtime Bible Stories : 150 Passages from the International Children's Bible   \n",
       "1478    The Magic Pudding: Being the Adventures of Bunyip Bluegum and His Friends Bill Barnacle &amp; Sam Sawnoff (New York Review Children's Collection)   \n",
       "1500                                                                                                                       Stories for the Faithful Heart   \n",
       "...                                                                                                                                                   ...   \n",
       "185304                                                                                                                An Introduction to Genetic Analysis   \n",
       "185368                                                                                                                           Planet Ladder (Volume 2)   \n",
       "185439                                               Walt Disney Pictures Presents the Great Mouse Detective (Disney's Wonderful World of Reading, No 55)   \n",
       "185506                                                                         Antonyms: Hot and Cold and Other Words That Are Different As Night and Day   \n",
       "185524                                                                                                                                Classic Fairy Tales   \n",
       "\n",
       "                    Book-Author  Year-Of-Publication  \\\n",
       "302                 Walter Wick                 1996   \n",
       "1142             Readers Digest                 1990   \n",
       "1176                 Paul Gross                 2002   \n",
       "1478             Norman Lindsay                 2004   \n",
       "1500            various authors                 2000   \n",
       "...                         ...                  ...   \n",
       "185304  Anthony J. F. Griffiths                 1996   \n",
       "185368           Narushima Yuri                 2002   \n",
       "185439     Not Applicable (Na )                 1986   \n",
       "185506              Joan Hanson                 1972   \n",
       "185524          Scott Gustafson                 2003   \n",
       "\n",
       "                                     Publisher  \\\n",
       "302                                 Scholastic   \n",
       "1142                            Readers Digest   \n",
       "1176                             Nelson Bibles   \n",
       "1478     New York Review Children's Collection   \n",
       "1500    Graham, Billy Evangelistic Association   \n",
       "...                                        ...   \n",
       "185304              W.H. Freeman &amp; Company   \n",
       "185368                                TokyoPop   \n",
       "185439            Random House Childrens Books   \n",
       "185506                     Lerner Pubns Co (L)   \n",
       "185524                Greenwich Workshop Press   \n",
       "\n",
       "                                                         Image-URL-S authors  \\\n",
       "302     http://images.amazon.com/images/P/0590481371.01.THUMBZZZ.jpg     NaN   \n",
       "1142    http://images.amazon.com/images/P/0895773538.01.THUMBZZZ.jpg     NaN   \n",
       "1176    http://images.amazon.com/images/P/0718001044.01.THUMBZZZ.jpg     NaN   \n",
       "1478    http://images.amazon.com/images/P/1590171012.01.THUMBZZZ.jpg     NaN   \n",
       "1500    http://images.amazon.com/images/P/0913367176.01.THUMBZZZ.jpg     NaN   \n",
       "...                                                              ...     ...   \n",
       "185304  http://images.amazon.com/images/P/0716726041.01.THUMBZZZ.jpg     NaN   \n",
       "185368  http://images.amazon.com/images/P/1931514631.01.THUMBZZZ.jpg     NaN   \n",
       "185439  http://images.amazon.com/images/P/0394884973.01.THUMBZZZ.jpg     NaN   \n",
       "185506  http://images.amazon.com/images/P/0822502763.01.THUMBZZZ.jpg     NaN   \n",
       "185524  http://images.amazon.com/images/P/086713089X.01.THUMBZZZ.jpg     NaN   \n",
       "\n",
       "                                                                                                                                                                                                                                              description  \\\n",
       "302                                                                                                                                                                                 Rhyming verses ask readers to find hidden objects in the photographs.   \n",
       "1142                                                                          An illustrated celebration of human ingenuity explains the underlying principles of 425 key technological innovations, revealing the secrets of lasers, holograms, and more   \n",
       "1176                                                                                                                                                                                               Includes stories from both the Old and New Testaments.   \n",
       "1478                                                                                       Bunyip Bluegum, an adventurous Australian koala bear, meets up with a sailor, a penguin, and their magic pudding, which is in constant danger of being stolen.   \n",
       "1500                                                                                                                                             Features inspirational stories by Christian authors such as Max Lucado, Billy Graham and Chuck Swindoll.   \n",
       "...                                                                                                                                                                                                                                                   ...   \n",
       "185304                           This edition contains a new chapter on genomics, updated chapters on molecular genetics, new exercises that help students assimilate and apply a number of genetic principles, and a greater emphasis on human genetics.   \n",
       "185368                                                                                              Follows the adverntures of Kaguya, the fabled Princess of the Choosing, who legend says will decide which of the nine alternate Earths will be saved.   \n",
       "185439  The evil Ratigan plans to kidnap the queen and replace her with a life-size toy queen through whom he will rule England; but master mouse detective Basil of Baker Street steps in to foil the plot. Based on the Disney movie of the same title.   \n",
       "185506                                                                                                                                                                      Pictures on facing pages reflect the opposite meanings of the antonyms given.   \n",
       "185524                                                                This exquisitely illustrated, large format gift book features ten of the most enduring fairy tales of all time, including \"Snow White,\" \"Hansel and Gretel,\" and \"Rumplestiltskin.\"   \n",
       "\n",
       "        page_count                     categories maturity_rating language  \n",
       "302             31            Juvenile Nonfiction      NOT_MATURE       en  \n",
       "1142           448       Technology & Engineering      NOT_MATURE       en  \n",
       "1176           356            Juvenile Nonfiction      NOT_MATURE       en  \n",
       "1478           185               Juvenile Fiction      NOT_MATURE       en  \n",
       "1500           276                 Christian life      NOT_MATURE       en  \n",
       "...            ...                            ...             ...      ...  \n",
       "185304         915                       Genetics      NOT_MATURE       en  \n",
       "185368         192        Comics & Graphic Novels      NOT_MATURE       en  \n",
       "185439          48  Detective and mystery stories      NOT_MATURE       en  \n",
       "185506          32            Juvenile Nonfiction      NOT_MATURE       en  \n",
       "185524         144               Juvenile Fiction      NOT_MATURE       en  \n",
       "\n",
       "[1475 rows x 12 columns]"
      ]
     },
     "execution_count": 108,
     "metadata": {},
     "output_type": "execute_result"
    }
   ],
   "source": [
    "#exploring the authors column\n",
    "books_data.loc[books_data.authors.isnull(),:]"
   ]
  },
  {
   "cell_type": "code",
   "execution_count": 109,
   "metadata": {},
   "outputs": [],
   "source": [
    "# defining a fuction to handle missing data in authors column\n",
    "def replace_missing_values(df):\n",
    "    \n",
    " # Create a boolean mask indicating which rows in the \"authors\" column have missing values\n",
    " mask = df['authors'].isnull()\n",
    " \n",
    " # Get the index values for the rows where the value in the \"authors\" column is missing\n",
    "    \n",
    " indexes = df.loc[mask, 'authors'].index\n",
    " \n",
    " # Use the index values to select the corresponding values in the \"book_authors\" column\n",
    " # and assign these values to the \"authors\" column for the rows where the value is missing\n",
    " df.loc[indexes, 'authors'] = df.loc[indexes, 'Book-Author']"
   ]
  },
  {
   "cell_type": "code",
   "execution_count": 110,
   "metadata": {},
   "outputs": [],
   "source": [
    "# replacing missing authors with corresponding book-author\n",
    "replace_missing_values(books_data)"
   ]
  },
  {
   "cell_type": "code",
   "execution_count": 111,
   "metadata": {},
   "outputs": [
    {
     "data": {
      "text/plain": [
       "0"
      ]
     },
     "execution_count": 111,
     "metadata": {},
     "output_type": "execute_result"
    }
   ],
   "source": [
    "# rechecking for missing values in authors\n",
    "books_data['authors'].isna().sum()"
   ]
  },
  {
   "cell_type": "code",
   "execution_count": 112,
   "metadata": {},
   "outputs": [],
   "source": [
    "# In the authors column we have the authors names in a list\n",
    "\n",
    "def authors_split(authors):\n",
    "    # Convert a string representation of a list into an actual list of strings\n",
    "    try:\n",
    "        # Replace various substrings in the original string with others\n",
    "        authors = authors\\\n",
    "            .replace(\"['\", \"\")\\\n",
    "            .replace(\"']\", \"\")\\\n",
    "            .replace(\"', '\", \", \")\\\n",
    "            .replace(\"','\", \", \")\\\n",
    "            .replace(\"' ,'\", \", \")\\\n",
    "            .replace('[\"', '')\\\n",
    "            .replace('\"]', '')\\\n",
    "            .replace('\", \"', ', ')\\\n",
    "            .replace('\",\"', ', ')\\\n",
    "            .replace('\" ,\"', ', ')\\\n",
    "        \n",
    "        # Split the resulting string into a list of strings using the split method\n",
    "        authors = authors.split(\", \")\n",
    "        return authors\n",
    "    \n",
    "    # If an exception, return an empty list\n",
    "    except:\n",
    "        return []\n"
   ]
  },
  {
   "cell_type": "code",
   "execution_count": 113,
   "metadata": {},
   "outputs": [
    {
     "data": {
      "text/plain": [
       "0    [Mark P. O. Morford, Robert J. Lenardon]\n",
       "1                              [Carlo D'Este]\n",
       "2                          [Gina Bari Kolata]\n",
       "3                           [E. J. W. Barber]\n",
       "4                                   [Amy Tan]\n",
       "Name: authors, dtype: object"
      ]
     },
     "execution_count": 113,
     "metadata": {},
     "output_type": "execute_result"
    }
   ],
   "source": [
    "#applying the function to the authors column\n",
    "books_data['authors'] = books_data['authors'].apply(authors_split)\n",
    "books_data['authors'].head()"
   ]
  },
  {
   "cell_type": "code",
   "execution_count": 114,
   "metadata": {},
   "outputs": [
    {
     "data": {
      "text/html": [
       "<div>\n",
       "<style scoped>\n",
       "    .dataframe tbody tr th:only-of-type {\n",
       "        vertical-align: middle;\n",
       "    }\n",
       "\n",
       "    .dataframe tbody tr th {\n",
       "        vertical-align: top;\n",
       "    }\n",
       "\n",
       "    .dataframe thead th {\n",
       "        text-align: right;\n",
       "    }\n",
       "</style>\n",
       "<table border=\"1\" class=\"dataframe\">\n",
       "  <thead>\n",
       "    <tr style=\"text-align: right;\">\n",
       "      <th></th>\n",
       "      <th>ISBN</th>\n",
       "      <th>Book-Title</th>\n",
       "      <th>Book-Author</th>\n",
       "      <th>Year-Of-Publication</th>\n",
       "      <th>Publisher</th>\n",
       "      <th>Image-URL-S</th>\n",
       "      <th>authors</th>\n",
       "      <th>description</th>\n",
       "      <th>page_count</th>\n",
       "      <th>categories</th>\n",
       "      <th>maturity_rating</th>\n",
       "      <th>language</th>\n",
       "    </tr>\n",
       "  </thead>\n",
       "  <tbody>\n",
       "    <tr>\n",
       "      <th>0</th>\n",
       "      <td>0195153448</td>\n",
       "      <td>Classical Mythology</td>\n",
       "      <td>Mark P. O. Morford</td>\n",
       "      <td>2002</td>\n",
       "      <td>Oxford University Press</td>\n",
       "      <td>http://images.amazon.com/images/P/0195153448.01.THUMBZZZ.jpg</td>\n",
       "      <td>Mark P. O. Morford</td>\n",
       "      <td>Provides an introduction to classical myths placing the addressed topics within their historical context, discussion of archaeological evidence as support for mythical events, and how these themes have been portrayed in literature, art, music, and film.</td>\n",
       "      <td>808</td>\n",
       "      <td>Social Science</td>\n",
       "      <td>NOT_MATURE</td>\n",
       "      <td>en</td>\n",
       "    </tr>\n",
       "    <tr>\n",
       "      <th>1</th>\n",
       "      <td>0195153448</td>\n",
       "      <td>Classical Mythology</td>\n",
       "      <td>Mark P. O. Morford</td>\n",
       "      <td>2002</td>\n",
       "      <td>Oxford University Press</td>\n",
       "      <td>http://images.amazon.com/images/P/0195153448.01.THUMBZZZ.jpg</td>\n",
       "      <td>Robert J. Lenardon</td>\n",
       "      <td>Provides an introduction to classical myths placing the addressed topics within their historical context, discussion of archaeological evidence as support for mythical events, and how these themes have been portrayed in literature, art, music, and film.</td>\n",
       "      <td>808</td>\n",
       "      <td>Social Science</td>\n",
       "      <td>NOT_MATURE</td>\n",
       "      <td>en</td>\n",
       "    </tr>\n",
       "    <tr>\n",
       "      <th>2</th>\n",
       "      <td>0060973129</td>\n",
       "      <td>Decision in Normandy</td>\n",
       "      <td>Carlo D'Este</td>\n",
       "      <td>1991</td>\n",
       "      <td>HarperPerennial</td>\n",
       "      <td>http://images.amazon.com/images/P/0060973129.01.THUMBZZZ.jpg</td>\n",
       "      <td>Carlo D'Este</td>\n",
       "      <td>Here, for the first time in paperback, is an outstanding military history that offers a dramatic new perspective on the Allied campaign that began with the invasion of the D-Day beaches of Normandy. Nationa advertising in Military History.</td>\n",
       "      <td>582</td>\n",
       "      <td>1940-1949</td>\n",
       "      <td>NOT_MATURE</td>\n",
       "      <td>en</td>\n",
       "    </tr>\n",
       "  </tbody>\n",
       "</table>\n",
       "</div>"
      ],
      "text/plain": [
       "         ISBN            Book-Title         Book-Author  Year-Of-Publication  \\\n",
       "0  0195153448   Classical Mythology  Mark P. O. Morford                 2002   \n",
       "1  0195153448   Classical Mythology  Mark P. O. Morford                 2002   \n",
       "2  0060973129  Decision in Normandy        Carlo D'Este                 1991   \n",
       "\n",
       "                 Publisher  \\\n",
       "0  Oxford University Press   \n",
       "1  Oxford University Press   \n",
       "2          HarperPerennial   \n",
       "\n",
       "                                                    Image-URL-S  \\\n",
       "0  http://images.amazon.com/images/P/0195153448.01.THUMBZZZ.jpg   \n",
       "1  http://images.amazon.com/images/P/0195153448.01.THUMBZZZ.jpg   \n",
       "2  http://images.amazon.com/images/P/0060973129.01.THUMBZZZ.jpg   \n",
       "\n",
       "              authors  \\\n",
       "0  Mark P. O. Morford   \n",
       "1  Robert J. Lenardon   \n",
       "2        Carlo D'Este   \n",
       "\n",
       "                                                                                                                                                                                                                                                     description  \\\n",
       "0  Provides an introduction to classical myths placing the addressed topics within their historical context, discussion of archaeological evidence as support for mythical events, and how these themes have been portrayed in literature, art, music, and film.   \n",
       "1  Provides an introduction to classical myths placing the addressed topics within their historical context, discussion of archaeological evidence as support for mythical events, and how these themes have been portrayed in literature, art, music, and film.   \n",
       "2                Here, for the first time in paperback, is an outstanding military history that offers a dramatic new perspective on the Allied campaign that began with the invasion of the D-Day beaches of Normandy. Nationa advertising in Military History.   \n",
       "\n",
       "   page_count      categories maturity_rating language  \n",
       "0         808  Social Science      NOT_MATURE       en  \n",
       "1         808  Social Science      NOT_MATURE       en  \n",
       "2         582       1940-1949      NOT_MATURE       en  "
      ]
     },
     "execution_count": 114,
     "metadata": {},
     "output_type": "execute_result"
    }
   ],
   "source": [
    "#separating the different authors from the created list\n",
    "books_data = books_data.explode(column='authors', ignore_index = True)\n",
    "books_data.head(3)"
   ]
  },
  {
   "cell_type": "code",
   "execution_count": 115,
   "metadata": {},
   "outputs": [
    {
     "data": {
      "text/html": [
       "<div>\n",
       "<style scoped>\n",
       "    .dataframe tbody tr th:only-of-type {\n",
       "        vertical-align: middle;\n",
       "    }\n",
       "\n",
       "    .dataframe tbody tr th {\n",
       "        vertical-align: top;\n",
       "    }\n",
       "\n",
       "    .dataframe thead th {\n",
       "        text-align: right;\n",
       "    }\n",
       "</style>\n",
       "<table border=\"1\" class=\"dataframe\">\n",
       "  <thead>\n",
       "    <tr style=\"text-align: right;\">\n",
       "      <th></th>\n",
       "      <th>ISBN</th>\n",
       "      <th>Book-Title</th>\n",
       "      <th>Book-Author</th>\n",
       "      <th>Year-Of-Publication</th>\n",
       "      <th>Publisher</th>\n",
       "      <th>Image-URL-S</th>\n",
       "      <th>authors</th>\n",
       "      <th>description</th>\n",
       "      <th>page_count</th>\n",
       "      <th>categories</th>\n",
       "      <th>maturity_rating</th>\n",
       "      <th>language</th>\n",
       "    </tr>\n",
       "  </thead>\n",
       "  <tbody>\n",
       "    <tr>\n",
       "      <th>0</th>\n",
       "      <td>0195153448</td>\n",
       "      <td>Classical Mythology</td>\n",
       "      <td>Mark P. O. Morford</td>\n",
       "      <td>2002</td>\n",
       "      <td>Oxford University Press</td>\n",
       "      <td>http://images.amazon.com/images/P/0195153448.01.THUMBZZZ.jpg</td>\n",
       "      <td>Mark P. O. Morford</td>\n",
       "      <td>Provides an introduction to classical myths placing the addressed topics within their historical context, discussion of archaeological evidence as support for mythical events, and how these themes have been portrayed in literature, art, music, and film.</td>\n",
       "      <td>808</td>\n",
       "      <td>Social Science</td>\n",
       "      <td>not_mature</td>\n",
       "      <td>en</td>\n",
       "    </tr>\n",
       "    <tr>\n",
       "      <th>1</th>\n",
       "      <td>0195153448</td>\n",
       "      <td>Classical Mythology</td>\n",
       "      <td>Mark P. O. Morford</td>\n",
       "      <td>2002</td>\n",
       "      <td>Oxford University Press</td>\n",
       "      <td>http://images.amazon.com/images/P/0195153448.01.THUMBZZZ.jpg</td>\n",
       "      <td>Robert J. Lenardon</td>\n",
       "      <td>Provides an introduction to classical myths placing the addressed topics within their historical context, discussion of archaeological evidence as support for mythical events, and how these themes have been portrayed in literature, art, music, and film.</td>\n",
       "      <td>808</td>\n",
       "      <td>Social Science</td>\n",
       "      <td>not_mature</td>\n",
       "      <td>en</td>\n",
       "    </tr>\n",
       "    <tr>\n",
       "      <th>2</th>\n",
       "      <td>0060973129</td>\n",
       "      <td>Decision in Normandy</td>\n",
       "      <td>Carlo D'Este</td>\n",
       "      <td>1991</td>\n",
       "      <td>HarperPerennial</td>\n",
       "      <td>http://images.amazon.com/images/P/0060973129.01.THUMBZZZ.jpg</td>\n",
       "      <td>Carlo D'Este</td>\n",
       "      <td>Here, for the first time in paperback, is an outstanding military history that offers a dramatic new perspective on the Allied campaign that began with the invasion of the D-Day beaches of Normandy. Nationa advertising in Military History.</td>\n",
       "      <td>582</td>\n",
       "      <td>1940-1949</td>\n",
       "      <td>not_mature</td>\n",
       "      <td>en</td>\n",
       "    </tr>\n",
       "    <tr>\n",
       "      <th>3</th>\n",
       "      <td>0374157065</td>\n",
       "      <td>Flu: The Story of the Great Influenza Pandemic of 1918 and the Search for the Virus That Caused It</td>\n",
       "      <td>Gina Bari Kolata</td>\n",
       "      <td>1999</td>\n",
       "      <td>Farrar Straus Giroux</td>\n",
       "      <td>http://images.amazon.com/images/P/0374157065.01.THUMBZZZ.jpg</td>\n",
       "      <td>Gina Bari Kolata</td>\n",
       "      <td>Describes the great flu epidemic of 1918, an outbreak that killed some forty million people worldwide, and discusses the efforts of scientists and public health officials to understand and prevent another lethal pandemic</td>\n",
       "      <td>367</td>\n",
       "      <td>Medical</td>\n",
       "      <td>not_mature</td>\n",
       "      <td>en</td>\n",
       "    </tr>\n",
       "    <tr>\n",
       "      <th>4</th>\n",
       "      <td>0393045218</td>\n",
       "      <td>The Mummies of Urumchi</td>\n",
       "      <td>E. J. W. Barber</td>\n",
       "      <td>1999</td>\n",
       "      <td>W. W. Norton &amp;amp; Company</td>\n",
       "      <td>http://images.amazon.com/images/P/0393045218.01.THUMBZZZ.jpg</td>\n",
       "      <td>E. J. W. Barber</td>\n",
       "      <td>A look at the incredibly well-preserved ancient mummies found in Western China describes their clothing and appearance, attempts to reconstruct their culture, and speculates about how Caucasians could have found their way to the feet of the Himalayan mountains.</td>\n",
       "      <td>240</td>\n",
       "      <td>Design</td>\n",
       "      <td>not_mature</td>\n",
       "      <td>en</td>\n",
       "    </tr>\n",
       "  </tbody>\n",
       "</table>\n",
       "</div>"
      ],
      "text/plain": [
       "         ISBN  \\\n",
       "0  0195153448   \n",
       "1  0195153448   \n",
       "2  0060973129   \n",
       "3  0374157065   \n",
       "4  0393045218   \n",
       "\n",
       "                                                                                           Book-Title  \\\n",
       "0                                                                                 Classical Mythology   \n",
       "1                                                                                 Classical Mythology   \n",
       "2                                                                                Decision in Normandy   \n",
       "3  Flu: The Story of the Great Influenza Pandemic of 1918 and the Search for the Virus That Caused It   \n",
       "4                                                                              The Mummies of Urumchi   \n",
       "\n",
       "          Book-Author  Year-Of-Publication                   Publisher  \\\n",
       "0  Mark P. O. Morford                 2002     Oxford University Press   \n",
       "1  Mark P. O. Morford                 2002     Oxford University Press   \n",
       "2        Carlo D'Este                 1991             HarperPerennial   \n",
       "3    Gina Bari Kolata                 1999        Farrar Straus Giroux   \n",
       "4     E. J. W. Barber                 1999  W. W. Norton &amp; Company   \n",
       "\n",
       "                                                    Image-URL-S  \\\n",
       "0  http://images.amazon.com/images/P/0195153448.01.THUMBZZZ.jpg   \n",
       "1  http://images.amazon.com/images/P/0195153448.01.THUMBZZZ.jpg   \n",
       "2  http://images.amazon.com/images/P/0060973129.01.THUMBZZZ.jpg   \n",
       "3  http://images.amazon.com/images/P/0374157065.01.THUMBZZZ.jpg   \n",
       "4  http://images.amazon.com/images/P/0393045218.01.THUMBZZZ.jpg   \n",
       "\n",
       "              authors  \\\n",
       "0  Mark P. O. Morford   \n",
       "1  Robert J. Lenardon   \n",
       "2        Carlo D'Este   \n",
       "3    Gina Bari Kolata   \n",
       "4     E. J. W. Barber   \n",
       "\n",
       "                                                                                                                                                                                                                                                             description  \\\n",
       "0          Provides an introduction to classical myths placing the addressed topics within their historical context, discussion of archaeological evidence as support for mythical events, and how these themes have been portrayed in literature, art, music, and film.   \n",
       "1          Provides an introduction to classical myths placing the addressed topics within their historical context, discussion of archaeological evidence as support for mythical events, and how these themes have been portrayed in literature, art, music, and film.   \n",
       "2                        Here, for the first time in paperback, is an outstanding military history that offers a dramatic new perspective on the Allied campaign that began with the invasion of the D-Day beaches of Normandy. Nationa advertising in Military History.   \n",
       "3                                           Describes the great flu epidemic of 1918, an outbreak that killed some forty million people worldwide, and discusses the efforts of scientists and public health officials to understand and prevent another lethal pandemic   \n",
       "4  A look at the incredibly well-preserved ancient mummies found in Western China describes their clothing and appearance, attempts to reconstruct their culture, and speculates about how Caucasians could have found their way to the feet of the Himalayan mountains.   \n",
       "\n",
       "   page_count      categories maturity_rating language  \n",
       "0         808  Social Science      not_mature       en  \n",
       "1         808  Social Science      not_mature       en  \n",
       "2         582       1940-1949      not_mature       en  \n",
       "3         367         Medical      not_mature       en  \n",
       "4         240          Design      not_mature       en  "
      ]
     },
     "execution_count": 115,
     "metadata": {},
     "output_type": "execute_result"
    }
   ],
   "source": [
    "#converting values in the maturity rating column to lowercase\n",
    "books_data['maturity_rating'] = books_data['maturity_rating'].str.lower()\n",
    "books_data.head()"
   ]
  },
  {
   "cell_type": "code",
   "execution_count": 116,
   "metadata": {},
   "outputs": [
    {
     "data": {
      "text/plain": [
       "ISBN                   0\n",
       "Book-Title             0\n",
       "Book-Author            0\n",
       "Year-Of-Publication    0\n",
       "Publisher              0\n",
       "Image-URL-S            0\n",
       "authors                0\n",
       "description            0\n",
       "page_count             0\n",
       "categories             0\n",
       "maturity_rating        0\n",
       "language               0\n",
       "dtype: int64"
      ]
     },
     "execution_count": 116,
     "metadata": {},
     "output_type": "execute_result"
    }
   ],
   "source": [
    "#confirming that all missing values have been dealt with\n",
    "books_data.isna().sum()"
   ]
  },
  {
   "cell_type": "markdown",
   "metadata": {},
   "source": [
    "### Ratings Dataset"
   ]
  },
  {
   "cell_type": "code",
   "execution_count": 117,
   "metadata": {},
   "outputs": [
    {
     "name": "stdout",
     "output_type": "stream",
     "text": [
      "N3453124715\n",
      "2.02.032126.2\n",
      "2.264.03602.8\n",
      "680ISBN359623\n",
      "O6712345670\n",
      "01420.01740\n",
      "DITISEENSOORT\n",
      "BCID694577184\n",
      "2.02.033143.8\n",
      "972202138.9\n",
      "\\0210000010\"\n",
      "00 14 02 5314\n",
      "0316=693235\n",
      "01404.30024\n",
      "451q4111095\n",
      "AroundinCircl\n",
      "2.253000043\n",
      "01402.5448X\n",
      "98OISBN349917\n",
      "22.40.27.39\n",
      "01401.87367\n",
      "0698.119116\n",
      "847154136.X\n",
      "2.02.010685.X\n",
      "D4251666619\n",
      "2.02.055078.4\n",
      "0/330/25864/8\n",
      "01402.5448X\n",
      "DOESNOTHAVEON\n",
      " 9022906116\n",
      "\\0432534220\\\"\"\n",
      "\\2842053052\\\"\"\n",
      "0 7336 1053 6\n",
      "0=965044153\n",
      "006=0176989\n",
      "01400.53204\n",
      "01400.63935\n",
      "01402.50948\n",
      "01420.01740\n",
      "01460.00129\n",
      "0385=426151\n",
      "089296+4502\n",
      "2.02.025380.1\n",
      "2.02.048170.7\n",
      "2.02.053056.2\n",
      "2.266.11441.7\n",
      "200ISBN349922\n",
      "250ISBN349920\n",
      "3.406420974\n",
      "3.897484862\n",
      "880ISBN20553X\n",
      "CARD#6920006\n",
      "ISBN067172365\n",
      "ISBN068481039\n",
      "N3612250612\n",
      "NOVELABOUTTHE\n",
      "O0340824387\n",
      "ZR903CX0003\n",
      "84.02.05006.9\n",
      "301.120/119/8\n",
      "444300/64/77\n",
      "2.02.032041\n",
      "451UQ1079095\n",
      "KEEPINGYOURKI\n",
      "ISBN:08112003\n",
      "301.120/210/8\n",
      "301.120/231/7\n",
      "301.120/262/8\n",
      "301.120/263/8\n",
      "ISBN:08820775\n",
      "0 907 062 008\n",
      "208+0676318\n",
      "0 75280 122 8\n",
      "2.207.50119.1\n",
      "01413.048871\n",
      "ASTAINZ070795\n",
      "01400.51279\n",
      "Narraciones\n",
      "B.401391971\n",
      "2.02.006186.4\n",
      "202028132.5\n",
      "0/330/25864/8\n",
      "D.M.GREENWOOD\n",
      "JaneDentinger\n",
      "01406.2056.7\n",
      "05.686298290\n",
      "05319V98393\n",
      "2.7144.3409.6\n",
      "01403.78278\n",
      "451Q4789095\n",
      "O8408040294\n",
      "O8474238757\n",
      "O8495712555\n",
      "O96815005550\n",
      "0.473.087979\n",
      "01402.3313X\n",
      "01420.01740\n",
      "ISBN073941625\n",
      "451P3807060\n",
      "85.326.00220\n",
      "88.45249220\n",
      "0.380.44099.7\n",
      "01404.45188\n",
      "021013.11470\n",
      "NOTAVAILABLE(\n",
      "B.33.6022000\n",
      "B40.3001991\n",
      "85.254.07038\n",
      "0=440226406\n",
      "22.40.17.56\n",
      "0=743232763\n",
      "0 14 02.9640\n",
      "01400.63935\n",
      "ISBN068481039\n",
      "067189859OBC\n",
      "3.897484862\n",
      "451Q3517095\n",
      "01420.02267\n",
      "01401.10984\n",
      "014008335_9\n",
      "2.02.057124.2\n",
      "2.207.50119.1\n",
      "2.02.020116.X\n",
      "2.02.025780.7\n",
      "2.02.028282.8\n",
      "2.7144.3671.4\n",
      "01400.11218\n",
      "2.02.008806.1\n",
      "014=0270590\n",
      "01402.76432\n",
      "72IV107.65026\n",
      "01402.5448X\n",
      "01400.36938\n",
      "8485.224.892\n",
      "ISBN337800406\n",
      "ISBN039475828\n",
      "84.66400311\n",
      "3.406420974\n",
      "01402.57934\n",
      "01402.65686\n",
      "680ISBN349917\n",
      "964_7049_05_6\n",
      "451CQ552095\n",
      "01401.67153\n",
      "01403.01437\n",
      "N0553212583>>\n",
      "01413.1088X\n",
      "2.7144.1929.1\n",
      "0590=121251\n",
      "2.02.025380.1\n",
      "85.254.10462\n",
      "01402.44824\n",
      "NO140131183\n",
      "ISBN188907105\n",
      "N0553212583>>\n",
      "0=060976845\n",
      "01402.83641\n",
      "NOTPROVIDED\n",
      "880ISBN20553X\n",
      "3 87134 445 1\n",
      "01400.55932\n",
      "01400.60928\n",
      "ISBN881174029\n",
      "88_8490_007_7\n",
      "TBR0385495641\n",
      "01401.00032\n",
      "0 907 062 008\n",
      "0451MY1011125\n",
      "2.02.000585.9\n",
      "ISBN067172365\n",
      "01402.8009X\n",
      "01403.02042\n",
      "671.78833.7.1\n",
      "202051112.6\n",
      "O6671525700\n",
      "\\0432534220\\\"\"\n",
      "08050=53077\n",
      "847154136.X\n",
      "078686871B510\n",
      "0451MY1011125\n",
      "OOO616329/7\n",
      "01402.96166\n",
      "01400.65970\n",
      "2.01.00288.5\n",
      "451E6671225\n",
      "01400.13997\n",
      "01404.42812\n",
      "014044.2014\n",
      "N3704320196\n",
      "B.41.6442003\n",
      "BCID615131059\n",
      "0140.38572X\n",
      "09013606/670\n",
      "ROO48580353\n",
      "01401.8970X\n",
      "84.322.1539.2\n",
      "01402.9628X\n",
      "01401.6930X\n",
      "2.02.005972.X\n",
      "01400.21795\n",
      "2.02.057367.9\n",
      "2.264.01699\n",
      "0 7322 6794 3\n",
      "2.02.032121.1\n",
      "ISBN188252200\n",
      "N055325112059\n",
      "93.30.23.96\n",
      "0307010+880\n",
      "MaeveBinchy\n",
      "0445.25321222\n",
      "\\8804501367\\\"\"\n",
      "2.207.24778.3\n",
      "2.207.300668\n",
      "2.207.30595.3\n",
      "2.207.50002.0\n",
      "2.207.50119.1\n",
      "2.02.028282.8\n",
      "014043.0148\n",
      "2.264.02983.8\n",
      "2.264.03615X\n",
      "2.264.03669.9\n",
      "2.277.21865.0\n",
      "2.277.30206.6\n",
      "2.277.30237.6\n",
      "2.29005177.2\n",
      "01401.27925\n",
      "34501944Y100\n",
      "70350B2012573\n",
      "0 907 062 008\n",
      "2.01.620863.5\n",
      "2.207.50119.1\n",
      "2.264.03602.8\n",
      "2.02.006721.8\n",
      "2.23405403.6\n",
      "451Q3761095\n",
      "451Q4872095\n",
      "01402.5448X\n",
      "01402.54544\n",
      "/8741060773\n",
      "01400.75577\n",
      "0385=426151\n",
      "01403.48107\n",
      "01403.69368\n",
      "N055327788X..\n",
      "0*553*072412\n",
      "N3453020537\n",
      "01402.31595\n",
      "93.30.24.38\n",
      "01402.42058\n",
      "01402.9628X\n",
      "857374.7366\n",
      "01460.00986\n",
      "84.20646199\n",
      "90 22982440\n",
      "2.0101.740469\n",
      "2.207.30546.5\n",
      "01400.72187\n",
      "01460.00129\n",
      "N055327788X>>\n",
      "01401.52741\n",
      "01402.96409\n",
      "01420.03700\n",
      "01400.86838\n",
      "01402.39375\n",
      "01406.21539\n",
      "01402.61893\n",
      "200ISBN349922\n",
      "250ISBN349920\n",
      "B37.3692002\n",
      "3.897484862\n",
      "CN9944/1142\n",
      "2.85704.608.1\n",
      "01420.01821\n",
      "#069580216X\n",
      "01400.14721\n",
      "01401.22060\n",
      "*0452281903\n",
      "01420.00663\n",
      "01400.72187\n",
      "01402.5448X\n",
      "01420.03700\n",
      "SBN425037452\n",
      "N3426606720\n",
      "01401.31612\n",
      "451Q4666095\n",
      "01402.32230\n",
      "06.278I52480\n",
      "2.02.012344.4\n",
      "2221????????\n",
      "84.297.1944.X\n",
      "84.345.8148.9\n",
      "84.8130.013.6\n",
      "01402.45162\n",
      "ISBN887255150\n",
      "NA1508/2003\n",
      "0 09 944678 2\n",
      "0 440 20615 4\n",
      "BCID:17876583\n",
      "0/330/25864/8\n",
      "034536994=7\n",
      "0671=001132\n",
      "84/37901340\n",
      "85.209.01484\n",
      "0/330/25864/8\n",
      "202051760.4\n",
      "01401.85232\n",
      "01400.6110X\n",
      "01400.68465\n",
      "01402.91768\n",
      "038550420=9\n",
      "84.40655371\n",
      "07336O8582.\n",
      "1290ISBN34991\n",
      "WEAREWITNESSE\n",
      "`3502103682\n",
      "ISBN157673352\n",
      "000276983II20\n",
      "BLACKMAILMURD\n",
      "014048.1354\n",
      "01400.65288\n",
      "PROMOTIONEDIT\n",
      "85.326.06636\n",
      "MaeveBinchy\n",
      "ISSN00368733\n",
      "2.02.023930.2\n",
      "01402.8009X\n",
      "01420.03727\n",
      "320.55261.7\n",
      "37.014.22053.\n",
      "N3.442.085585\n",
      "01402.80243\n",
      "2813585.13/34\n",
      "01401.77396\n",
      "0=385311923\n",
      "2.02.009475.4\n",
      "0=679781587\n",
      "N0553213342\n",
      "´3499128624\n",
      "01402.71902\n",
      "LÜBBE01720/2\n",
      "02402.80553\n",
      "85.326.18456\n",
      "01411.81230\n",
      "01400.87184\n",
      "ISBN:01568998\n",
      "01402.58418\n",
      "88.17.12460.5\n",
      " 0330299891\n",
      " 0375404120\n",
      " 0586045007\n",
      " 9022906116\n",
      " 9032803328\n",
      " 9044922564\n",
      " 9044922572\n",
      " 9044922718\n",
      " 9044923161\n",
      " 904492401X\n",
      " 9061002273\n",
      "PS3566.083681\n",
      "N3453136422\n",
      "01402.60404\n",
      "0586´066454\n",
      "0440(12296)\n",
      "0440(14719)0\n",
      "0440(17892)4\n",
      "ISBN887255150\n",
      "01402.68863\n",
      "0 7515 0976 0\n",
      "88.17.12460.5\n",
      "CL63.0320.X\n",
      "0 907 062 008\n",
      "2.86738.053.7\n",
      "2.207.50119.1\n",
      "0 7336 1053 6\n",
      "0*449002632\n",
      ":8420634476.\n",
      "01400.17046\n",
      "01400.43888\n",
      "01400.52690\n",
      "01400.5796X\n",
      "01400.63773\n",
      "01400.65288\n",
      "01400.74481\n",
      "01400.75577\n",
      "01400.77820\n",
      "01401.88592\n",
      "01400.48022\n",
      "2.02.006344.1\n",
      "014048.1346\n",
      "2.912687.00.4\n",
      "84.8464.163.5\n",
      "84.8464.202.X\n",
      "01402.5448X\n",
      "84.66400311\n",
      "8487.617085\n",
      "8487.617107\n",
      "8487.617115\n",
      "CARD#5213464\n",
      "CARD#528754\n",
      "CARD#545260\n",
      "CARD#5813806\n",
      "CARD#587369\n",
      "CARD#6111489\n",
      "CARD#6118379\n",
      "CARD#6312825\n",
      "CARD#6516263\n",
      "CARD#6520104\n",
      "CARD#6520581\n",
      "CARD#6624263\n",
      "CARD#6624269\n",
      "CARD#6624574\n",
      "CARD#6710385\n",
      "CARD#6720546\n",
      "CARD#6819595\n",
      "CARD#6913112\n",
      "CARD#6920006\n",
      "CARD#71176295\n",
      "CARD#7196003\n",
      "CARD#73100646\n",
      "CARD#78183794\n",
      "PS3569E84K5\n",
      "01400.65377\n",
      "ISSN11238356\n",
      "01400.75623\n",
      "01402.86276\n",
      "NOVELABOUTTHE\n",
      "OO14OO.68155\n",
      "01402.9628X\n",
      "821.163.6311.\n",
      "ISBN:00994308\n",
      "01400.92323\n",
      "01400.11749\n",
      "01400.23089\n",
      "01400.31219\n",
      "01400.59024\n",
      "01403.09128\n",
      "+0451197399\n",
      "01400.31499\n",
      "014048.1346\n",
      "01401.44412\n",
      "01402.91881\n",
      "014048.1346\n",
      "ISBN006017328\n",
      "EBTTLE0650N8S\n",
      "01402.36600\n",
      "84.96246477\n",
      "0425+124819\n",
      "01401.33968\n",
      "01402.82963\n",
      "0 297 64548 X\n",
      "ISBN157673352\n",
      "BCID074116156\n",
      "845006.3566\n",
      "1,488/1,421)\n",
      "014001851.4\n",
      "014001944.8\n",
      "014002649.5\n",
      "014008335_9\n",
      "291037043_7\n",
      "01400.77022\n",
      "2.09.18/119X\n",
      "ISMNM70623901\n",
      "PS35730526B6\n",
      "8429711.359X\n",
      "ISBN084077820\n",
      "01401.61788\n",
      "01400.67477\n",
      "01400.5183X\n",
      "01400.40994\n",
      "842722133/9\n",
      "NA1508/2003\n",
      "SELFPUBLISHED\n",
      "01401.79836\n",
      "0399*134700\n",
      "2.02.051183.5\n",
      "2.264.03729.6\n",
      "2.02.008806.1\n",
      "2.01.322234.3\n",
      "014043.0725\n",
      "ISBN917263347\n",
      "01400.42644\n",
      "0_486268705\n",
      "078686650.0\n",
      "014.00.30859\n",
      "01400.39244\n",
      "01401.77396\n",
      "01401.31671\n",
      "374.1.4424.9\n",
      "2.7274.0184.1\n",
      "349223581.6\n",
      "03407.21774\n",
      "07369.00004\n",
      "089804153=8\n",
      "7£­80656£­549\n",
      "SBN425037452\n",
      "JTERG15077615\n",
      "01402.44824\n",
      "2.02.052606.9\n",
      "01410.01976\n",
      "N3404141687\n",
      "451JG139195\n",
      "01403.8572X\n",
      "01460.00366\n",
      "0812=5459580\n",
      "014048.1346\n",
      "ISBNNR.303440\n",
      "2.02.005582I\n",
      "2.903.118.92.\n",
      "01401.44080\n",
      "1939EDITION\n",
      "N0440219078\n",
      "ISBN159105080\n",
      "01400.13563\n",
      "O3850799664\n",
      "01400.77022\n",
      "ISSN08939373\n",
      "ISSN15410900\n",
      "O373.484224\n",
      "\\2842053052\\\"\"\n",
      "0 330 10597 3\n",
      "01400.5250X\n",
      "01400.54480\n",
      "014046.1892\n",
      "B40.8412001\n",
      "93.30.07.39\n",
      "0 00 655241 2\n",
      "01404.32639\n",
      "LATITUDESOFME\n",
      ",.0330486187\n",
      "01402.5448X\n",
      "I57322I1872\n",
      "2.02.009475.4\n",
      "DITISEENSOORT\n",
      "84.66400311\n",
      "2.02.006186.4\n",
      "01401.27623\n",
      "2.02.023811.X\n",
      "2.02.023930.2\n",
      "2.02.055077.6\n",
      "NO156628635\n",
      "NO156628635\n",
      "N0553260502>>\n",
      "2.01.391945X\n",
      "289430.025.5\n",
      "ISBNO39455583\n",
      "01400.77022\n",
      "PS3568.0855C6\n",
      "N3453125444\n",
      "22.40.25.49\n",
      "0 907 062 008\n",
      "2.86738.053.7\n",
      "972695*0910\n",
      "PENELOPE4444\n",
      "N3612250612\n",
      "01400.41451\n",
      "01402.80146\n",
      "034544305=5\n",
      "NOTAVAILABLE\n",
      "01402.3828X\n",
      "044635098=2\n",
      "2.264.03602.8\n",
      "3.775110925\n",
      "@1580083412\n",
      "2.02.052437.6\n",
      "2.7436.0944.3\n",
      "2.89021.602.0\n",
      "044635098=2\n",
      "0451=210557\n",
      "089296+4502\n",
      "01400.57854\n",
      "0-517-18725-6\n",
      "3.406420974\n",
      "0 00 614494 2\n",
      "CDD869.9308\n",
      "02.7144194960\n",
      "201167838.2\n",
      "0=965044153\n",
      "0.15.602732.1\n",
      "960140225&#93\n",
      "055337969=0\n",
      "01402.9182(PB\n",
      "2_7103_0025_7\n",
      "01400.45295\n",
      "01400.31456\n",
      "01400.35907\n",
      "01420.03727\n",
      "88.45424618\n",
      "88.7818.744.5\n",
      "TBR0345359321\n",
      "90.206.0387.6\n",
      "90.6213.418.1\n",
      "90.67900826\n",
      "2.02.058536.7\n",
      "01402.54277\n",
      "01402.7684X\n",
      "N0553249533>>\n",
      "84.272.4132.1\n",
      "N3442116074\n",
      "ISBN034910889\n",
      "N3404131037\n",
      "0:34539044X\n",
      "01401.18330\n",
      "01402.54544\n",
      "01402.57934\n",
      "Narraciones\n",
      "88.87510.06.0\n",
      "OURSELFUNIVER\n",
      "881650206.1\n",
      "O1402.75886\n",
      "85.326.18456\n",
      "0+399139745\n",
      "01400.82212\n",
      "2.02.032121.1\n",
      "2.02.038978.9\n",
      "2.253.04137.8\n",
      "2.253.14406.1\n",
      "2.266.11441.7\n",
      "2.266.12931.7\n",
      "2.7144.1815.5\n",
      "2.86738.053.7\n",
      "01.08.80.38\n",
      "1 84195 283 4\n",
      "ISSN11225480\n",
      "01400.53204\n",
      "01401.47748\n",
      "01402.66771\n",
      "684717603PBK\n",
      "01400.42393\n",
      "2 07 040187 1\n",
      "2.01.620863.5\n",
      "2.253034487\n",
      "2.264.03602.8\n",
      "031660205.1\n",
      "B.21.7911970\n",
      "B.22.7921966\n",
      "B.33.2211968\n",
      "849624662.0\n",
      "DITISEENSOORT\n",
      "*0452281903\n",
      "0/385/42473/6\n",
      "0672=630155(P\n",
      "01400.57951\n",
      "01400.21647\n",
      "01400.6477X\n",
      "014048.0048\n",
      "O0340824387\n",
      "01401.56291\n",
      "006093441=7\n",
      "01400.52585\n",
      "\\0094749809\"\n",
      "34501944Y100\n",
      "B.265121972\n",
      "B.378491969\n",
      "01420.01740\n",
      "2.207.25394.5\n",
      "2.904429.55.7\n",
      "01400.13225\n",
      "N0553273108\n",
      "N3442118344\n",
      "N3817422431\n",
      "BCID412502858\n",
      "01401.66192\n",
      "888237052+6\n",
      "02637908/51\n",
      "0 907 062 008\n",
      "200ISBN349922\n",
      "848130+1655\n",
      "2 07 040187 1\n",
      "202006100.7\n",
      "2.02.057367.9\n",
      "01420.01740\n",
      "363340/133/71\n",
      "363340/81/68\n",
      "444300/26/65\n",
      "611BUCHCLUB\n",
      "ISBN:08112003\n",
      "ISBN905000175\n",
      "01402.98479\n",
      "ISBN044652778\n",
      "01403.4294X\n",
      "0451=523962\n",
      "01402.33016\n",
      "502ANNESL1880\n",
      "MOHSINDADAADN\n",
      "01400.17178\n",
      "01400.66950\n",
      "ISBN:03734845\n",
      "2.09.2790390\n",
      "0 85550 000 x\n",
      "01400.46879\n",
      "01400.50256\n",
      "N3404116143\n",
      "N3404136276\n",
      "T110105305048\n",
      "T110105705048\n",
      "THEALLTRUETRA\n",
      "UNGRANDHOMMED\n",
      "2.02.013467.5\n",
      "N3453157265\n",
      "01401.07649\n",
      "01402.5448X\n",
      "01402.54544\n",
      "01402.57934\n",
      "01402.65686\n",
      "ANDYCAPPSOUND\n",
      "THEFLYINGACE\n",
      "YOUTELLEM,AND\n",
      "FROMPUBLISHER\n",
      "O380456664225\n",
      "01402.82025\n",
      "321024.7412\n",
      "90.01.27409.9\n",
      "D4251666619\n",
      "01400.66950\n",
      "ISBN009970350\n",
      "01402.80464\n",
      "451E6629225\n",
      "1/9565,000229\n",
      "0=553=186098\n",
      "0446=603309\n",
      "053313268=1\n",
      "OP446608955\n",
      "N3.442.085585\n",
      "2.264.03602.8\n",
      "01402.8009X\n",
      "B10.3372002\n",
      "01400.53204\n",
      " 0330299891\n",
      "2.266.11441.7\n",
      "2.02.048170.7\n",
      "05.247IV71569\n",
      "05752IV50664\n",
      "2.02.005582I\n",
      "72IV107.65026\n",
      "01402.31226\n",
      "01402.80146\n",
      "84/96246620\n",
      "SELBSTVERLAG\n",
      "01420.01740\n",
      "ISBN034544739\n",
      "85.254.12333\n",
      "01402.4482.4\n",
      "2.02.032129.7\n",
      "01402.3313X\n",
      "01402.02594\n",
      "77122013LIB.O\n",
      "006=0176989\n",
      "202062803.1\n",
      "01400.53204\n",
      "O553156535>>2\n",
      "014043.0547\n",
      "3.897484862\n",
      "0 907 062 008\n"
     ]
    },
    {
     "name": "stdout",
     "output_type": "stream",
     "text": [
      "2.01.620863.5\n",
      "01402.96409\n",
      "3.7735.4937.7\n",
      "3.7735.5121.5\n",
      "SBN57106440X\n",
      "01403.90316\n",
      "207042502A425\n",
      "014039.0014\n",
      "*0515128325\n",
      "01403.0746X\n",
      "2.02.025462.X\n",
      "05.288VII6141\n",
      "2.207.24810.0\n",
      "`3502103682\n",
      "ISBN034527331\n",
      "2.02.008806.1\n",
      "01402.9628X\n",
      "01402.9628X\n",
      "038079325=3\n",
      "(THEWINDMILLP\n",
      "01400.65288\n",
      "01400.67477\n",
      "84.66400311\n",
      "006=0909927\n",
      "01400.14349\n",
      "2813585.13/34\n",
      "01400.12486\n",
      "857/1761211\n",
      "2.02.032459.8\n",
      "\\0432534220\\\"\"\n",
      "2.211.032788\n",
      "2.211.034.73.\n",
      "2.211.034.896\n",
      "2.253.15537.3\n",
      "2.266.09291.X\n",
      "202012889.6\n",
      "220725193.4\n",
      "01402.33016\n",
      "444300/121/83\n",
      "N044809570X\n",
      "0/330/25864/8\n",
      "ISBN158898809\n",
      "O373.484224\n",
      "2.207.24735.X\n",
      "2.207.24778.3\n",
      "2.207.300668\n",
      "2.207.30546.5\n",
      "2.207.50002.0\n",
      "ISBN059050590\n",
      "01400.44221\n",
      "0 671 74251 5\n",
      "84.66400311\n",
      "014A0007016\n",
      "ISBN:14010225\n",
      "1971/0099/142\n",
      "0_8218_0635_1\n",
      "0553 505416\n",
      "01402.5448X\n",
      "0 907 062 008\n",
      "ISBN096873513\n",
      "NO44020557359\n",
      "01460.00870\n",
      "3.897484862\n",
      "N0385292244\n",
      "031226312.0\n",
      "03H75713220\n",
      "ISBN097188010\n",
      "2.02.006187.4\n",
      "2.02.006832\n",
      "2.02.023930.2\n",
      "2.02.048170.7\n",
      "2.02.049518\n",
      "2.234.02262.2\n",
      "27144.2960.2\n",
      "01401.87103\n",
      "KAFKA(207/4)\n",
      "KAFKA(906/721\n",
      "LOOKING2READ\n",
      "01401.6930X\n",
      "\\8804520159\\\"\"\n",
      "85.326.2958X\n",
      "B51281.2003\n",
      "ISBN:01403645\n",
      "2.02.035232.X\n",
      "01402.80146\n",
      "2.227.00202.6\n",
      "014048.003X\n",
      "01400.3420X\n",
      "01402.31323\n",
      "202062803.1\n",
      "01402.3313X\n",
      "0 00 612183 7\n",
      "001400.000318\n",
      "014.00.30859\n",
      "01400.07601\n",
      "01400.3731.4\n",
      "01400.37322\n",
      "01400.43497\n",
      "D2000/8898/1\n",
      "01420.03018\n",
      "0*708880258\n",
      "01400.67477\n",
      "01400.65180\n",
      "2.02.033163.2\n",
      "01400.89225\n",
      "O1400.94296\n",
      "04251,47363\n",
      "01401.31558\n",
      "3.406420974\n",
      "PELICANBOOKS\n",
      "01402.96409\n",
      "01402.5448X\n",
      "93.30.07.39\n",
      "ZR903CX0003\n",
      "0=345391691\n",
      "01400.6110X\n",
      "DAWBOOK1227\n",
      "2.264.03602.8\n",
      "01401.77000\n",
      "2.02.010685.X\n",
      "01400.5925.3\n",
      "01420.00221\n",
      "PS3563.08744W\n",
      "0=671=253832\n",
      "NONEAVAILABLE\n",
      "NOTAVAILABLE\n",
      "BCID: 2211781\n",
      "88/07/8298/6\n",
      "451J5775195\n",
      "451W5891150\n",
      "0 586 05153 8\n",
      "01402.3313X\n",
      "01400.43128\n",
      "01400.43128\n",
      "2.02.053056.2\n",
      "843506.5103\n",
      "451JG139195\n",
      "\\9170010242\\\"\"\n",
      "01404.34267\n",
      "0.330241664\n",
      "01400.1279.6\n",
      "01400.21353\n",
      "01400.24778\n",
      "01400.25812\n",
      "01400.3520.8\n",
      "01400.3702.0\n",
      "01400.45198\n",
      "01400.9508X\n",
      "014001602.3\n",
      "014001851.4\n",
      "014001944.8\n",
      "014002649.5\n",
      "014003419.6\n",
      "014003820.5\n",
      "2.02.030109.1\n",
      "THECATASTROPH\n",
      "006=017434=X\n",
      "01401.20556\n",
      "0=3955111011\n",
      "155166880=7\n",
      "0 7475 3274 5\n",
      "2.02.023811.X\n",
      "2.02.055077.6\n",
      "84.2657243X\n",
      ":+12082659096\n",
      "ULLSTEINBUCHN\n",
      "451JG139195\n",
      "2.02004971.6/\n",
      "972422219/5\n",
      "01410.0018X\n",
      "014044.0399\n",
      "SBN67001026X\n",
      "01460.00749\n",
      "3.453119231\n",
      "0=380730200\n",
      "01402.82777\n",
      "D.I.:B1077200\n",
      "+0451197399\n",
      "1SBN044022640\n",
      "N3453130693\n",
      "0.380.50377.8\n",
      "88_11_68560_5\n",
      "01401.76640\n",
      "014048.1346\n",
      "N3453033752\n",
      "451E6949175\n",
      "ISBN068481039\n",
      "90.01.27409.9\n",
      "2.01.013554.7\n",
      "2.01.015427.4\n",
      "2.01.016221.8\n",
      "2.207.24735.X\n",
      "2.207.24922.0\n",
      "0525=942238\n",
      "01403.02395\n",
      "000_222_777\n",
      "01400.22716\n",
      "01402.83641\n",
      "O34525788X195\n",
      "01402.71902\n",
      "000648053.5\n",
      "01403.8572X\n",
      "284146373.7\n",
      "2.266.12931.7\n",
      "960041761&#93\n",
      "960051013&#93\n",
      "01400.16821\n",
      "3.7735.5121.5\n",
      "01400.71121\n",
      "2.207.50119.1\n",
      "01400.62254\n",
      "01406.2056.7\n",
      "055321086=6\n",
      "01401.88592\n",
      "N0553282980>>\n",
      "TINACRUZ1001\n",
      "01401.16168PB\n",
      "01420.02018\n",
      "01420.02267\n",
      "01402.50948\n",
      "18/395/1260/6\n",
      "014008335_9\n",
      "2.207.50119.1\n",
      "84.239.2100.X\n",
      "451Q4414095\n",
      "N3453129520\n",
      "0140714.049\n",
      "2.207.234439.\n",
      "006=0176989\n",
      "M124811.969\n",
      "01400.71083\n",
      "01401.8970X\n",
      "01401.21463\n",
      "2.02.010685.X\n",
      "88.86121.82.2\n",
      "0553=8144806\n",
      "014048.0048\n",
      "ASSORT00626\n",
      "93.30.47.72\n",
      "01400.96175\n",
      "'9607092856'\n",
      "'9607092910'\n",
      "ISBN:39021410\n",
      "05097IV27262\n",
      "2.02.057124.2\n",
      "2.207.23816.4\n",
      "2.7144.1691.8\n",
      "2.7357.0146.8\n",
      "2.02.061119.8\n",
      "01400.42210\n",
      "D/2002/8898/5\n",
      "01400.40994\n",
      "451JG139195\n",
      "01420.01740\n",
      "01402.80499\n",
      "ISSN11238356\n",
      "90 254 1191 6\n",
      "NO312252854\n",
      "137128814/65\n",
      "01421.96061\n",
      "014044.0100\n",
      "0 140362525\n",
      "01400.82174\n",
      "0=440242002\n",
      "0 7525 1962 x\n",
      " 0375404120\n",
      "060955597(PBK\n",
      "068483376.X\n",
      "2.264.03602.8\n",
      "01402.96409\n",
      "07432=02961\n",
      "O9385290426\n",
      "ISBN888565502\n",
      "0*708880258\n",
      "01402.75630\n",
      "01402.75649\n",
      "1 8579 9291 1\n",
      "01401.74508\n",
      "01400.53204\n",
      "972.713.0666\n",
      "85.254.12333\n",
      "01401.47551\n",
      "\\0679751521\"\n",
      "680ISBN359623\n",
      "155FER1666057\n",
      "I5532131005\n",
      "HTTP://WWW.BO\n",
      "O3807252310\n",
      "ISBN067974439\n",
      "ISBN000617024\n",
      "ISBN073226476\n",
      "ZR902CX0093\n",
      "ZR903CX0003\n",
      "0 7515 0976 0\n",
      "ISBN002358470\n",
      "ISBN006066211\n",
      "ISBN006092043\n",
      "ISBN006131940\n",
      "ISBN019501476\n",
      "ISBN034541762\n",
      "ISBN038000676\n",
      "ISBN038523569\n",
      "ISBN042169020\n",
      "ISBN066919179\n",
      "ISBN067169601\n",
      "ISBN067488014\n",
      "ISBN078601308\n",
      "ISBN080922504\n",
      "ISBN081253162\n",
      "ISBN081330856\n",
      "ISBN082450431\n",
      "ISBN082640047\n",
      "ISBN088344090\n",
      "ISBN088730431\n",
      "ISBN156338039\n",
      "844021806.0\n",
      "451Y4835125\n",
      "0+88677+720+8\n",
      "972.713.0666\n",
      "01400.67647\n",
      "\\8887517452\\\"\"\n",
      "\\8888809228\\\"\"\n",
      "384220/2/52\n",
      "01400.77022\n",
      "\\0432534220\"\n"
     ]
    }
   ],
   "source": [
    "#cleaning the ratings ISBN column using the correct_isbn function\n",
    "ratings['ISBN'] = ratings['ISBN'].apply(correct_isbn)"
   ]
  },
  {
   "cell_type": "code",
   "execution_count": 118,
   "metadata": {},
   "outputs": [],
   "source": [
    "#getting rid of the special characters present in the ISBN column\n",
    "from string import punctuation\n",
    "ratings['ISBN'] = ratings['ISBN'].apply(lambda x: x.translate(str.maketrans('', '', punctuation)).replace(' ', '').upper())"
   ]
  },
  {
   "cell_type": "code",
   "execution_count": 119,
   "metadata": {},
   "outputs": [
    {
     "name": "stdout",
     "output_type": "stream",
     "text": [
      "N3453124715\n",
      "680ISBN359623\n",
      "O6712345670\n",
      "DITISEENSOORT\n",
      "BCID694577184\n",
      "451Q4111095\n",
      "AROUNDINCIRCL\n",
      "98OISBN349917\n",
      "D4251666619\n",
      "DOESNOTHAVEON\n",
      "200ISBN349922\n",
      "250ISBN349920\n",
      "880ISBN20553X\n",
      "CARD6920006\n",
      "ISBN067172365\n",
      "ISBN068481039\n",
      "N3612250612\n",
      "NOVELABOUTTHE\n",
      "O0340824387\n",
      "ZR903CX0003\n",
      "451UQ1079095\n",
      "KEEPINGYOURKI\n",
      "ISBN08112003\n",
      "ISBN08820775\n",
      "ASTAINZ070795\n",
      "NARRACIONES\n",
      "DMGREENWOOD\n",
      "JANEDENTINGER\n",
      "05319V98393\n",
      "451Q4789095\n",
      "O8408040294\n",
      "O8474238757\n",
      "O8495712555\n",
      "O96815005550\n",
      "ISBN073941625\n",
      "451P3807060\n",
      "NOTAVAILABLE\n",
      "ISBN068481039\n",
      "067189859OBC\n",
      "451Q3517095\n",
      "72IV10765026\n",
      "ISBN337800406\n",
      "ISBN039475828\n",
      "349800924SS\n",
      "680ISBN349917\n",
      "451CQ552095\n",
      "N0553212583\n",
      "NO140131183\n",
      "ISBN188907105\n",
      "N0553212583\n",
      "NOTPROVIDED\n",
      "880ISBN20553X\n",
      "ISBN881174029\n",
      "TBR0385495641\n",
      "0451MY1011125\n",
      "ISBN067172365\n",
      "O6671525700\n",
      "078686871B510\n",
      "0451MY1011125\n",
      "451E6671225\n",
      "N3704320196\n",
      "BCID615131059\n",
      "ROO48580353\n",
      "ISBN188252200\n",
      "N055325112059\n",
      "MAEVEBINCHY\n",
      "34501944Y100\n",
      "70350B2012573\n",
      "451Q3761095\n",
      "451Q4872095\n",
      "N055327788X\n",
      "393SS704064\n",
      "N3453020537\n",
      "N055327788X\n",
      "200ISBN349922\n",
      "250ISBN349920\n",
      "SBN425037452\n",
      "N3426606720\n",
      "451Q4666095\n",
      "06278I52480\n",
      "ISBN887255150\n",
      "BCID17876583\n",
      "1290ISBN34991\n",
      "WEAREWITNESSE\n",
      "ISBN157673352\n",
      "000276983II20\n",
      "BLACKMAILMURD\n",
      "PROMOTIONEDIT\n",
      "MAEVEBINCHY\n",
      "ISSN00368733\n",
      "N3442085585\n",
      "N0553213342\n",
      "´3499128624\n",
      "349800924SS\n",
      "LÜBBE017202\n",
      "ISBN01568998\n",
      "PS3566083681\n",
      "N3453136422\n",
      "0586´066454\n",
      "ISBN887255150\n",
      "CARD5213464\n",
      "CARD5813806\n",
      "CARD6111489\n",
      "CARD6118379\n",
      "CARD6312825\n",
      "CARD6516263\n",
      "CARD6520104\n",
      "CARD6520581\n",
      "CARD6624263\n",
      "CARD6624269\n",
      "CARD6624574\n",
      "CARD6710385\n",
      "CARD6720546\n",
      "CARD6819595\n",
      "CARD6913112\n",
      "CARD6920006\n",
      "CARD71176295\n",
      "CARD7196003\n",
      "CARD73100646\n",
      "CARD78183794\n",
      "PS3569E84K5\n",
      "ISSN11238356\n",
      "NOVELABOUTTHE\n",
      "OO14OO68155\n",
      "ISBN00994308\n",
      "ISBN006017328\n",
      "EBTTLE0650N8S\n",
      "ISBN157673352\n",
      "BCID074116156\n",
      "ISMNM70623901\n",
      "PS35730526B6\n",
      "ISBN084077820\n",
      "34462SS3443\n",
      "SELFPUBLISHED\n",
      "ISBN917263347\n",
      "7£­80656£­549\n",
      "SBN425037452\n",
      "JTERG15077615\n",
      "N3404141687\n",
      "451JG139195\n",
      "ISBNNR303440\n",
      "1939EDITION\n",
      "N0440219078\n",
      "ISBN159105080\n",
      "O3850799664\n",
      "ISSN08939373\n",
      "ISSN15410900\n",
      "LATITUDESOFME\n",
      "I57322I1872\n",
      "DITISEENSOORT\n",
      "NO156628635\n",
      "NO156628635\n",
      "N0553260502\n",
      "ISBNO39455583\n",
      "PS35680855C6\n",
      "N3453125444\n",
      "PENELOPE4444\n",
      "N3612250612\n",
      "NOTAVAILABLE\n",
      "014029182PB\n",
      "TBR0345359321\n",
      "N0553249533\n",
      "N3442116074\n",
      "ISBN034910889\n",
      "N3404131037\n",
      "NARRACIONES\n",
      "OURSELFUNIVER\n",
      "ISSN11225480\n",
      "684717603PBK\n",
      "DITISEENSOORT\n",
      "O0340824387\n",
      "34501944Y100\n",
      "N0553273108\n",
      "N3442118344\n",
      "N3817422431\n",
      "BCID412502858\n",
      "200ISBN349922\n",
      "611BUCHCLUB\n",
      "ISBN08112003\n",
      "ISBN905000175\n",
      "ISBN044652778\n",
      "502ANNESL1880\n",
      "MOHSINDADAADN\n",
      "ISBN03734845\n",
      "N3404116143\n",
      "N3404136276\n",
      "T110105305048\n",
      "T110105705048\n",
      "THEALLTRUETRA\n",
      "UNGRANDHOMMED\n",
      "N3453157265\n",
      "ANDYCAPPSOUND\n",
      "THEFLYINGACE\n",
      "YOUTELLEMAND\n",
      "FROMPUBLISHER\n",
      "O380456664225\n",
      "D4251666619\n",
      "ISBN009970350\n",
      "451E6629225\n",
      "OP446608955\n",
      "N3442085585\n",
      "05247IV71569\n",
      "05752IV50664\n",
      "72IV10765026\n",
      "SELBSTVERLAG\n",
      "ISBN034544739\n",
      "77122013LIBO\n",
      "O5531565352\n",
      "SBN57106440X\n",
      "207042502A425\n",
      "05288VII6141\n",
      "ISBN034527331\n",
      "THEWINDMILLP\n",
      "N044809570X\n",
      "ISBN158898809\n",
      "ISBN059050590\n",
      "014A0007016\n",
      "ISBN14010225\n",
      "ISBN096873513\n",
      "NO44020557359\n",
      "N0385292244\n",
      "03H75713220\n",
      "ISBN097188010\n",
      "KAFKA906721\n",
      "LOOKING2READ\n",
      "ISBN01403645\n",
      "PELICANBOOKS\n",
      "ZR903CX0003\n",
      "DAWBOOK1227\n",
      "PS356308744W\n",
      "NONEAVAILABLE\n",
      "NOTAVAILABLE\n",
      "BCID2211781\n",
      "451J5775195\n",
      "451W5891150\n",
      "451JG139195\n",
      "THECATASTROPH\n",
      "ULLSTEINBUCHN\n",
      "451JG139195\n",
      "SBN67001026X\n",
      "1SBN044022640\n",
      "N3453130693\n",
      "N3453033752\n",
      "451E6949175\n",
      "ISBN068481039\n",
      "O34525788X195\n",
      "N0553282980\n",
      "TINACRUZ1001\n",
      "451Q4414095\n",
      "N3453129520\n",
      "ASSORT00626\n",
      "ISBN39021410\n",
      "05097IV27262\n",
      "451JG139195\n",
      "ISSN11238356\n",
      "NO312252854\n",
      "060955597PBK\n",
      "O9385290426\n",
      "ISBN888565502\n",
      "680ISBN359623\n",
      "155FER1666057\n",
      "I5532131005\n",
      "O3807252310\n",
      "ISBN067974439\n",
      "ISBN000617024\n",
      "ISBN073226476\n",
      "ZR902CX0093\n",
      "ZR903CX0003\n",
      "ISBN002358470\n",
      "ISBN006066211\n",
      "ISBN006092043\n",
      "ISBN006131940\n",
      "ISBN019501476\n",
      "ISBN034541762\n",
      "ISBN038000676\n",
      "ISBN038523569\n",
      "ISBN042169020\n",
      "ISBN066919179\n",
      "ISBN067169601\n",
      "ISBN067488014\n",
      "ISBN078601308\n",
      "ISBN080922504\n",
      "ISBN081253162\n",
      "ISBN081330856\n",
      "ISBN082450431\n",
      "ISBN082640047\n",
      "ISBN088344090\n",
      "ISBN088730431\n",
      "ISBN156338039\n",
      "451Y4835125\n"
     ]
    }
   ],
   "source": [
    "#ensuring the special characters have been dealt with\n",
    "ratings['ISBN'] = ratings['ISBN'].apply(correct_isbn)"
   ]
  },
  {
   "cell_type": "code",
   "execution_count": 120,
   "metadata": {},
   "outputs": [
    {
     "data": {
      "text/plain": [
       "((1149780, 3), (833962, 3))"
      ]
     },
     "execution_count": 120,
     "metadata": {},
     "output_type": "execute_result"
    }
   ],
   "source": [
    "#ensuring ratings dataset has only books in the merged dataset for books and books extra\n",
    "ratings_new = ratings[ratings.ISBN.isin(books_data.ISBN)]\n",
    "ratings.shape,ratings_new.shape"
   ]
  },
  {
   "cell_type": "markdown",
   "metadata": {},
   "source": [
    "It can be seen that many rows having book ISBN not part of the merged dataset for books and books extra got dropped off"
   ]
  },
  {
   "cell_type": "code",
   "execution_count": 121,
   "metadata": {},
   "outputs": [
    {
     "name": "stdout",
     "output_type": "stream",
     "text": [
      "Shape of dataset before dropping (833962, 3)\n",
      "shape of dataset after dropping (833962, 3)\n"
     ]
    }
   ],
   "source": [
    "#ensuring ratings dataset has only books in the users datset\n",
    "print(\"Shape of dataset before dropping\",ratings_new.shape)\n",
    "ratings_new = ratings_new[ratings_new['User-ID'].isin(users['User-ID'])]\n",
    "print(\"shape of dataset after dropping\",ratings_new.shape)"
   ]
  },
  {
   "cell_type": "markdown",
   "metadata": {},
   "source": [
    "It is evident that no new user was there in the users dataset."
   ]
  },
  {
   "cell_type": "code",
   "execution_count": 122,
   "metadata": {},
   "outputs": [],
   "source": [
    "# segregating implicit and explict ratings datasets\n",
    "ratings_explicit = ratings_new[ratings['Book-Rating'] != 0]\n",
    "ratings_implicit = ratings_new[ratings['Book-Rating'] == 0]"
   ]
  },
  {
   "cell_type": "code",
   "execution_count": 123,
   "metadata": {},
   "outputs": [],
   "source": [
    "# Create column Rating average consisting the mean of the explicit ratings\n",
    "ratings_explicit['Avg_Rating']=ratings_explicit.groupby('ISBN')['Book-Rating'].transform('mean')\n",
    "# Create column Total-No-Of-Users-Rated consisting the count of explicit ratings \n",
    "ratings_explicit['Total_No_Of_Users_Rated']=ratings_explicit.groupby('ISBN')['Book-Rating'].transform('count')"
   ]
  },
  {
   "cell_type": "code",
   "execution_count": 124,
   "metadata": {},
   "outputs": [
    {
     "data": {
      "text/html": [
       "<div>\n",
       "<style scoped>\n",
       "    .dataframe tbody tr th:only-of-type {\n",
       "        vertical-align: middle;\n",
       "    }\n",
       "\n",
       "    .dataframe tbody tr th {\n",
       "        vertical-align: top;\n",
       "    }\n",
       "\n",
       "    .dataframe thead th {\n",
       "        text-align: right;\n",
       "    }\n",
       "</style>\n",
       "<table border=\"1\" class=\"dataframe\">\n",
       "  <thead>\n",
       "    <tr style=\"text-align: right;\">\n",
       "      <th></th>\n",
       "      <th>User-ID</th>\n",
       "      <th>ISBN</th>\n",
       "      <th>Book-Rating</th>\n",
       "      <th>Avg_Rating</th>\n",
       "      <th>Total_No_Of_Users_Rated</th>\n",
       "    </tr>\n",
       "  </thead>\n",
       "  <tbody>\n",
       "    <tr>\n",
       "      <th>3</th>\n",
       "      <td>276729</td>\n",
       "      <td>052165615X</td>\n",
       "      <td>3</td>\n",
       "      <td>3.000000</td>\n",
       "      <td>1</td>\n",
       "    </tr>\n",
       "    <tr>\n",
       "      <th>4</th>\n",
       "      <td>276729</td>\n",
       "      <td>0521795028</td>\n",
       "      <td>6</td>\n",
       "      <td>6.000000</td>\n",
       "      <td>1</td>\n",
       "    </tr>\n",
       "    <tr>\n",
       "      <th>16</th>\n",
       "      <td>276747</td>\n",
       "      <td>0060517794</td>\n",
       "      <td>9</td>\n",
       "      <td>8.000000</td>\n",
       "      <td>30</td>\n",
       "    </tr>\n",
       "    <tr>\n",
       "      <th>19</th>\n",
       "      <td>276747</td>\n",
       "      <td>0671537458</td>\n",
       "      <td>9</td>\n",
       "      <td>7.176471</td>\n",
       "      <td>17</td>\n",
       "    </tr>\n",
       "    <tr>\n",
       "      <th>20</th>\n",
       "      <td>276747</td>\n",
       "      <td>0679776818</td>\n",
       "      <td>8</td>\n",
       "      <td>7.476190</td>\n",
       "      <td>21</td>\n",
       "    </tr>\n",
       "  </tbody>\n",
       "</table>\n",
       "</div>"
      ],
      "text/plain": [
       "    User-ID        ISBN  Book-Rating  Avg_Rating  Total_No_Of_Users_Rated\n",
       "3    276729  052165615X            3    3.000000                        1\n",
       "4    276729  0521795028            6    6.000000                        1\n",
       "16   276747  0060517794            9    8.000000                       30\n",
       "19   276747  0671537458            9    7.176471                       17\n",
       "20   276747  0679776818            8    7.476190                       21"
      ]
     },
     "execution_count": 124,
     "metadata": {},
     "output_type": "execute_result"
    }
   ],
   "source": [
    "ratings_explicit.head()"
   ]
  },
  {
   "cell_type": "code",
   "execution_count": 125,
   "metadata": {},
   "outputs": [],
   "source": [
    "# merging explicit ratings to the users dataset and books_data dataset\n",
    "Final_Dataset=users.copy()\n",
    "Final_Dataset=pd.merge(Final_Dataset,ratings_explicit,on='User-ID')\n",
    "Final_Dataset=pd.merge(Final_Dataset,books_data,on='ISBN')"
   ]
  },
  {
   "cell_type": "code",
   "execution_count": 126,
   "metadata": {},
   "outputs": [
    {
     "data": {
      "text/plain": [
       "User-ID                    0\n",
       "Age                        0\n",
       "City                       0\n",
       "State                      0\n",
       "Country                    0\n",
       "ISBN                       0\n",
       "Book-Rating                0\n",
       "Avg_Rating                 0\n",
       "Total_No_Of_Users_Rated    0\n",
       "Book-Title                 0\n",
       "Book-Author                0\n",
       "Year-Of-Publication        0\n",
       "Publisher                  0\n",
       "Image-URL-S                0\n",
       "authors                    0\n",
       "description                0\n",
       "page_count                 0\n",
       "categories                 0\n",
       "maturity_rating            0\n",
       "language                   0\n",
       "dtype: int64"
      ]
     },
     "execution_count": 126,
     "metadata": {},
     "output_type": "execute_result"
    }
   ],
   "source": [
    "Final_Dataset.isna().sum()"
   ]
  },
  {
   "cell_type": "code",
   "execution_count": 127,
   "metadata": {},
   "outputs": [
    {
     "data": {
      "text/plain": [
       "(353731, 20)"
      ]
     },
     "execution_count": 127,
     "metadata": {},
     "output_type": "execute_result"
    }
   ],
   "source": [
    "Final_Dataset.shape"
   ]
  },
  {
   "cell_type": "code",
   "execution_count": 128,
   "metadata": {},
   "outputs": [],
   "source": [
    "#Instantiate the 'DescribeData' class for the 'Final_dataset' \n",
    "fd = DescribeData(Final_Dataset)"
   ]
  },
  {
   "cell_type": "code",
   "execution_count": 129,
   "metadata": {},
   "outputs": [
    {
     "name": "stdout",
     "output_type": "stream",
     "text": [
      "There are a total of 0 missing values in the DataFrame.\n",
      "\n",
      "User-ID                    0\n",
      "Age                        0\n",
      "City                       0\n",
      "State                      0\n",
      "Country                    0\n",
      "ISBN                       0\n",
      "Book-Rating                0\n",
      "Avg_Rating                 0\n",
      "Total_No_Of_Users_Rated    0\n",
      "Book-Title                 0\n",
      "Book-Author                0\n",
      "Year-Of-Publication        0\n",
      "Publisher                  0\n",
      "Image-URL-S                0\n",
      "authors                    0\n",
      "description                0\n",
      "page_count                 0\n",
      "categories                 0\n",
      "maturity_rating            0\n",
      "language                   0\n",
      "dtype: int64\n"
     ]
    }
   ],
   "source": [
    "#checking for missing values in the combined dataset to be used for analysis\n",
    "print(fd.missing)"
   ]
  },
  {
   "cell_type": "markdown",
   "metadata": {},
   "source": [
    "# 3.EXPLORATORY DATA ANALYSIS"
   ]
  },
  {
   "cell_type": "markdown",
   "metadata": {},
   "source": [
    "## 3.1 Univariate Analysis"
   ]
  },
  {
   "cell_type": "markdown",
   "metadata": {},
   "source": [
    "### 3.1.1 Users"
   ]
  },
  {
   "cell_type": "code",
   "execution_count": 130,
   "metadata": {},
   "outputs": [],
   "source": [
    "# Create a function that visualizes the value counts of a column\n",
    "def plot_top_value_counts(dataframe, column, top_n=20):\n",
    "    \"\"\"\n",
    "    Plots a bar chart for the value counts of the top 20 values of a DataFrame column.\n",
    "    \n",
    "    \n",
    "    \"\"\"\n",
    "    value_counts = dataframe[column].value_counts()\n",
    "    top_value_counts = value_counts.iloc[:top_n]\n",
    "    plt.figure()\n",
    "    top_value_counts.plot.bar(figsize=(10, 6))\n",
    "    plt.title(f\"Top {top_n} value count for {column}\")\n",
    "    plt.xlabel(column)\n",
    "    plt.ylabel(\"Count\")\n",
    "    plt.show()\n"
   ]
  },
  {
   "cell_type": "code",
   "execution_count": 131,
   "metadata": {},
   "outputs": [
    {
     "data": {
      "image/png": "[encoded data removed]",
      "text/plain": [
       "<Figure size 720x432 with 1 Axes>"
      ]
     },
     "metadata": {
      "needs_background": "light"
     },
     "output_type": "display_data"
    }
   ],
   "source": [
    "# plotting a countplot of cities\n",
    "plot_top_value_counts(users, \"Country\")"
   ]
  },
  {
   "cell_type": "markdown",
   "metadata": {},
   "source": [
    "> Majority of users are from the United States."
   ]
  },
  {
   "cell_type": "code",
   "execution_count": 132,
   "metadata": {},
   "outputs": [
    {
     "data": {
      "image/png": "[encoded data removed]",
      "text/plain": [
       "<Figure size 720x432 with 1 Axes>"
      ]
     },
     "metadata": {
      "needs_background": "light"
     },
     "output_type": "display_data"
    }
   ],
   "source": [
    "# plotting a countplot of states\n",
    "plot_top_value_counts(users, \"City\")"
   ]
  },
  {
   "cell_type": "markdown",
   "metadata": {},
   "source": [
    "> Most users are from london followed by barcelona."
   ]
  },
  {
   "cell_type": "code",
   "execution_count": 133,
   "metadata": {},
   "outputs": [
    {
     "data": {
      "image/png": "[encoded data removed]",
      "text/plain": [
       "<Figure size 720x432 with 1 Axes>"
      ]
     },
     "metadata": {
      "needs_background": "light"
     },
     "output_type": "display_data"
    }
   ],
   "source": [
    "# plotting a countplot of Countries\n",
    "plot_top_value_counts(users, \"State\")"
   ]
  },
  {
   "cell_type": "markdown",
   "metadata": {},
   "source": [
    ">  California a state located on the west coast of the United States, is the leading state with most users."
   ]
  },
  {
   "cell_type": "code",
   "execution_count": 134,
   "metadata": {},
   "outputs": [
    {
     "data": {
      "image/png": "[encoded data removed]",
      "text/plain": [
       "<Figure size 720x432 with 1 Axes>"
      ]
     },
     "metadata": {
      "needs_background": "light"
     },
     "output_type": "display_data"
    }
   ],
   "source": [
    "# plotting a countplot of users age\n",
    "plot_top_value_counts(users, \"Age\")"
   ]
  },
  {
   "cell_type": "markdown",
   "metadata": {},
   "source": [
    "> A large proportion of users are 32 years old"
   ]
  },
  {
   "cell_type": "markdown",
   "metadata": {},
   "source": [
    "### 3.1.2 books_data\n"
   ]
  },
  {
   "cell_type": "markdown",
   "metadata": {},
   "source": [
    "#### 3.1.2.1 authors"
   ]
  },
  {
   "cell_type": "code",
   "execution_count": 135,
   "metadata": {},
   "outputs": [
    {
     "data": {
      "image/png": "[encoded data removed]",
      "text/plain": [
       "<Figure size 720x432 with 1 Axes>"
      ]
     },
     "metadata": {
      "needs_background": "light"
     },
     "output_type": "display_data"
    }
   ],
   "source": [
    "# plotting a countplot of Book-Author\n",
    "plot_top_value_counts(books_data, \"authors\")"
   ]
  },
  {
   "cell_type": "markdown",
   "metadata": {},
   "source": [
    "> The most recognised book authors are Francine Pascal with over 500 books, followed by William Shakespeare, Ann M. Martin and Agatha Christie.       "
   ]
  },
  {
   "cell_type": "markdown",
   "metadata": {},
   "source": [
    "#### 3.1.2.2 Year-Of-Publication"
   ]
  },
  {
   "cell_type": "code",
   "execution_count": 136,
   "metadata": {},
   "outputs": [
    {
     "data": {
      "image/png": "[encoded data removed]",
      "text/plain": [
       "<Figure size 720x432 with 1 Axes>"
      ]
     },
     "metadata": {
      "needs_background": "light"
     },
     "output_type": "display_data"
    }
   ],
   "source": [
    "# plotting a countplot of Year-Of-Publication\n",
    "plot_top_value_counts(books_data, \"Year-Of-Publication\")"
   ]
  },
  {
   "cell_type": "markdown",
   "metadata": {},
   "source": [
    "> Looking at the year of publication distribution, most books were published in the early 20's and late 90's having 2002 as the leading year."
   ]
  },
  {
   "cell_type": "markdown",
   "metadata": {},
   "source": [
    "#### 3.1.2.3 Publisher"
   ]
  },
  {
   "cell_type": "code",
   "execution_count": 137,
   "metadata": {},
   "outputs": [
    {
     "data": {
      "image/png": "[encoded data removed]",
      "text/plain": [
       "<Figure size 720x432 with 1 Axes>"
      ]
     },
     "metadata": {
      "needs_background": "light"
     },
     "output_type": "display_data"
    }
   ],
   "source": [
    "# plotting a countplot of book Publisher\n",
    "plot_top_value_counts(books_data, \"Publisher\")"
   ]
  },
  {
   "cell_type": "markdown",
   "metadata": {},
   "source": [
    "> Most books are published by Harlequin "
   ]
  },
  {
   "cell_type": "markdown",
   "metadata": {},
   "source": [
    "#### 3.1.2.4 categories"
   ]
  },
  {
   "cell_type": "code",
   "execution_count": 138,
   "metadata": {},
   "outputs": [
    {
     "data": {
      "image/png": "[encoded data removed]",
      "text/plain": [
       "<Figure size 720x432 with 1 Axes>"
      ]
     },
     "metadata": {
      "needs_background": "light"
     },
     "output_type": "display_data"
    }
   ],
   "source": [
    "# plotting a countplot of book categories\n",
    "plot_top_value_counts(books_data, \"categories\")"
   ]
  },
  {
   "cell_type": "markdown",
   "metadata": {},
   "source": [
    "> Fiction is the most common category of books"
   ]
  },
  {
   "cell_type": "markdown",
   "metadata": {},
   "source": [
    "#### 3.1.2.5 language"
   ]
  },
  {
   "cell_type": "code",
   "execution_count": 139,
   "metadata": {},
   "outputs": [
    {
     "data": {
      "image/png": "[encoded data removed]",
      "text/plain": [
       "<Figure size 720x432 with 1 Axes>"
      ]
     },
     "metadata": {
      "needs_background": "light"
     },
     "output_type": "display_data"
    }
   ],
   "source": [
    "# plotting a countplot of book language\n",
    "plot_top_value_counts(books_data, \"language\")"
   ]
  },
  {
   "cell_type": "markdown",
   "metadata": {},
   "source": [
    "> The majority of books are written in English."
   ]
  },
  {
   "cell_type": "markdown",
   "metadata": {},
   "source": [
    "#### 3.1.2.6 description"
   ]
  },
  {
   "cell_type": "code",
   "execution_count": 140,
   "metadata": {},
   "outputs": [],
   "source": [
    "# function for cleaning description column based on language\n",
    "\n",
    "def clean_description(description, language):\n",
    "    \n",
    "     # Check for missing values and replace with empty string\n",
    "    if pd.isnull(description):\n",
    "        description = \"\"\n",
    "        \n",
    "    # Remove any HTML tags from the description\n",
    "    description = re.sub(r'<[^>]*>', '', description)\n",
    "    \n",
    "    # Replace any non-alphabetic characters with a space\n",
    "    description = re.sub(r'[^a-zA-Z]', ' ', description)\n",
    "    \n",
    "    # Tokenize the description\n",
    "    tokens = word_tokenize(description)\n",
    "    \n",
    "    # Remove any stop words from the description\n",
    "    stop_words = set(stopwords.words(language))\n",
    "    tokens = [token for token in tokens if token.lower() not in stop_words]\n",
    "    \n",
    "    # Perform lemmatization\n",
    "    lemmatizer = WordNetLemmatizer()\n",
    "    tokens = [lemmatizer.lemmatize(token) for token in tokens]\n",
    "    \n",
    "    \n",
    "    # Join the tokens back into a single string\n",
    "    description = ' '.join(tokens)\n",
    "    \n",
    "    # Remove any extra whitespace\n",
    "    description = re.sub(r'\\s+', ' ', description).strip()\n",
    "    \n",
    "    # Return the cleaned description\n",
    "    return description"
   ]
  },
  {
   "cell_type": "code",
   "execution_count": 141,
   "metadata": {},
   "outputs": [],
   "source": [
    "# Create a new dataframe with only rows where language is \"english\"\n",
    "english_books = books_data[books_data['language'] == \"en\"]"
   ]
  },
  {
   "cell_type": "code",
   "execution_count": 142,
   "metadata": {},
   "outputs": [],
   "source": [
    "# applying the cleaning function on english books\n",
    "# english_books['description'] = english_books['description'].apply(lambda x: clean_description(x, 'english'))"
   ]
  },
  {
   "cell_type": "code",
   "execution_count": 143,
   "metadata": {},
   "outputs": [],
   "source": [
    "# # WordCloud function\n",
    "\n",
    "# import matplotlib.pyplot as plt\n",
    "# from wordcloud import WordCloud\n",
    "\n",
    "# def generate_wordcloud(df, column, max_words=100, width=800, height=400, min_word_length=3):\n",
    "#     # Create a string from the specified column of the dataframe\n",
    "#     text = \" \".join(description for description in df[column])\n",
    "    \n",
    "#     # Generate a word cloud with the specified parameters\n",
    "#     wordcloud = WordCloud(max_words=max_words, width=width, height=height, min_word_length=min_word_length).generate(text)\n",
    "    \n",
    "#     # Display the word cloud\n",
    "#     fig = plt.figure(figsize=(14, 8))\n",
    "#     plt.imshow(wordcloud, interpolation='bilinear')\n",
    "#     plt.axis(\"off\")\n",
    "#     plt.show()"
   ]
  },
  {
   "cell_type": "code",
   "execution_count": 144,
   "metadata": {},
   "outputs": [],
   "source": [
    "# # wordcloud for english books\n",
    "# generate_wordcloud(english_books, 'description', max_words=100, width=800, height=400, min_word_length=3)"
   ]
  },
  {
   "cell_type": "markdown",
   "metadata": {},
   "source": [
    "> The majority of English books under description focus on the life, family, world, and work."
   ]
  },
  {
   "cell_type": "markdown",
   "metadata": {},
   "source": [
    "### 3.1.3 ratings"
   ]
  },
  {
   "cell_type": "code",
   "execution_count": 145,
   "metadata": {},
   "outputs": [],
   "source": [
    "#defining a function for plotting a countplot\n",
    "def count_plot (column, dataset, heading):\n",
    "    \"\"\"Visualize the countplots of various dataframes with seaborn barplot\n",
    "    \n",
    "    Args: \n",
    "        data: dataframe of various columns and their count returned from count_plot function\n",
    "        \n",
    "    Returns: \n",
    "        countplot: countplot of columns and their count\n",
    "    \"\"\"\n",
    "    plt.figure(figsize=(15,8));\n",
    "    sns.countplot(y=column, data=dataset, order=pd.value_counts(dataset[column]).iloc[0:15].index);\n",
    "    plt.title(heading);"
   ]
  },
  {
   "cell_type": "code",
   "execution_count": 146,
   "metadata": {},
   "outputs": [
    {
     "data": {
      "image/png": "[encoded data removed]",
      "text/plain": [
       "<Figure size 1080x576 with 1 Axes>"
      ]
     },
     "metadata": {
      "needs_background": "light"
     },
     "output_type": "display_data"
    }
   ],
   "source": [
    "#checking the distribution of ratings\n",
    "count_plot('Book-Rating', ratings, 'Ratings Distribution')"
   ]
  },
  {
   "cell_type": "markdown",
   "metadata": {},
   "source": [
    "The ratings are unevenly distributed since majority of the ratings are 0. The ratings are either explicit, expressed on a scale of 1-10 with higher values denoting higher appreciation, or implicit, expressed by 0. Hence the need to segragate implicit and explict ratings datasets"
   ]
  },
  {
   "cell_type": "code",
   "execution_count": 147,
   "metadata": {},
   "outputs": [
    {
     "data": {
      "image/png": "[encoded data removed]",
      "text/plain": [
       "<Figure size 1080x576 with 1 Axes>"
      ]
     },
     "metadata": {
      "needs_background": "light"
     },
     "output_type": "display_data"
    }
   ],
   "source": [
    "#plotting the explicit ratings\n",
    "count_plot('Book-Rating', ratings_explicit, 'Explicit Ratings')"
   ]
  },
  {
   "cell_type": "markdown",
   "metadata": {},
   "source": [
    "It can be observed that higher ratings are most common amongst users and rating 8 has been rated the highest number of times."
   ]
  },
  {
   "cell_type": "code",
   "execution_count": 148,
   "metadata": {},
   "outputs": [
    {
     "data": {
      "text/html": [
       "<div>\n",
       "<style scoped>\n",
       "    .dataframe tbody tr th:only-of-type {\n",
       "        vertical-align: middle;\n",
       "    }\n",
       "\n",
       "    .dataframe tbody tr th {\n",
       "        vertical-align: top;\n",
       "    }\n",
       "\n",
       "    .dataframe thead th {\n",
       "        text-align: right;\n",
       "    }\n",
       "</style>\n",
       "<table border=\"1\" class=\"dataframe\">\n",
       "  <thead>\n",
       "    <tr style=\"text-align: right;\">\n",
       "      <th></th>\n",
       "      <th>Book-Rating</th>\n",
       "    </tr>\n",
       "    <tr>\n",
       "      <th>ISBN</th>\n",
       "      <th></th>\n",
       "    </tr>\n",
       "  </thead>\n",
       "  <tbody>\n",
       "    <tr>\n",
       "      <th>0316666343</th>\n",
       "      <td>707</td>\n",
       "    </tr>\n",
       "    <tr>\n",
       "      <th>0971880107</th>\n",
       "      <td>581</td>\n",
       "    </tr>\n",
       "    <tr>\n",
       "      <th>0385504209</th>\n",
       "      <td>490</td>\n",
       "    </tr>\n",
       "    <tr>\n",
       "      <th>0312195516</th>\n",
       "      <td>383</td>\n",
       "    </tr>\n",
       "    <tr>\n",
       "      <th>059035342X</th>\n",
       "      <td>315</td>\n",
       "    </tr>\n",
       "  </tbody>\n",
       "</table>\n",
       "</div>"
      ],
      "text/plain": [
       "            Book-Rating\n",
       "ISBN                   \n",
       "0316666343          707\n",
       "0971880107          581\n",
       "0385504209          490\n",
       "0312195516          383\n",
       "059035342X          315"
      ]
     },
     "execution_count": 148,
     "metadata": {},
     "output_type": "execute_result"
    }
   ],
   "source": [
    "#finding the top 5 books that are rated most\n",
    "rating_count = pd.DataFrame(ratings_explicit.groupby('ISBN')['Book-Rating'].count())\n",
    "rating_count.sort_values('Book-Rating', ascending=False).head()"
   ]
  },
  {
   "cell_type": "markdown",
   "metadata": {},
   "source": [
    "Majority of the books that had a high rating are mainly of category fiction and are all novels. This shows that novels of type fiction are mainly preferred by users"
   ]
  },
  {
   "cell_type": "markdown",
   "metadata": {},
   "source": [
    "### 3.1.4 Final dataset"
   ]
  },
  {
   "cell_type": "code",
   "execution_count": 149,
   "metadata": {},
   "outputs": [
    {
     "data": {
      "image/png": "[encoded data removed]",
      "text/plain": [
       "<Figure size 1080x576 with 1 Axes>"
      ]
     },
     "metadata": {
      "needs_background": "light"
     },
     "output_type": "display_data"
    }
   ],
   "source": [
    "#plotting the most recognised book authors \n",
    "count_plot('authors', Final_Dataset, 'The most recognised Book authors')"
   ]
  },
  {
   "cell_type": "markdown",
   "metadata": {},
   "source": [
    ">The most recognised book authors are Stephen King and John Grisham. On the other hand, Dan Brown and Patricia Dniels Cornwell are the least recognised book authors."
   ]
  },
  {
   "cell_type": "code",
   "execution_count": 150,
   "metadata": {},
   "outputs": [
    {
     "data": {
      "image/png": "[encoded data removed]",
      "text/plain": [
       "<Figure size 1080x576 with 1 Axes>"
      ]
     },
     "metadata": {
      "needs_background": "light"
     },
     "output_type": "display_data"
    }
   ],
   "source": [
    "#plotting the most recognised publishers\n",
    "count_plot('Publisher', Final_Dataset, 'The most recognised Publishers')"
   ]
  },
  {
   "cell_type": "markdown",
   "metadata": {},
   "source": [
    ">The most recognised publisher is Ballantine Books and Pocket while the least recognised publisher is Harlequin and Simon &amp Schuster."
   ]
  },
  {
   "cell_type": "markdown",
   "metadata": {},
   "source": [
    "## 3.2 Bivariate Analysis"
   ]
  },
  {
   "cell_type": "markdown",
   "metadata": {},
   "source": [
    "## 3.2.1 books_data"
   ]
  },
  {
   "cell_type": "code",
   "execution_count": 151,
   "metadata": {},
   "outputs": [],
   "source": [
    "import seaborn as sns"
   ]
  },
  {
   "cell_type": "markdown",
   "metadata": {},
   "source": [
    "### 3.2.1.1 categories and language"
   ]
  },
  {
   "cell_type": "code",
   "execution_count": 152,
   "metadata": {},
   "outputs": [
    {
     "data": {
      "image/png": "[encoded data removed]",
      "text/plain": [
       "<Figure size 720x432 with 1 Axes>"
      ]
     },
     "metadata": {
      "needs_background": "light"
     },
     "output_type": "display_data"
    }
   ],
   "source": [
    "import matplotlib.pyplot as plt\n",
    "\n",
    "# Select the top 5 categories\n",
    "top_5_categories = books_data.groupby('categories')['categories'].count().sort_values(ascending=False).head(5)\n",
    "# Filter the data to only include the top 5 categories\n",
    "books_data_filtered = books_data[books_data['categories'].isin(top_5_categories.index) & (books_data['language'] == 'en')]\n",
    "\n",
    "\n",
    "plt.figure(figsize=(10, 6))\n",
    "sns.countplot(x='categories', hue='language', data=books_data_filtered)\n",
    "plt.xticks(rotation=45)\n",
    "plt.title(\"Distribution of top 5 book categories that are in english\")\n",
    "plt.show()\n"
   ]
  },
  {
   "cell_type": "markdown",
   "metadata": {},
   "source": [
    "> the leading category that is in English is Fiction"
   ]
  },
  {
   "cell_type": "markdown",
   "metadata": {},
   "source": [
    "### 3.2.1.2 maturity_rating and language"
   ]
  },
  {
   "cell_type": "code",
   "execution_count": 153,
   "metadata": {},
   "outputs": [
    {
     "data": {
      "image/png": "[encoded data removed]",
      "text/plain": [
       "<Figure size 576x432 with 1 Axes>"
      ]
     },
     "metadata": {
      "needs_background": "light"
     },
     "output_type": "display_data"
    }
   ],
   "source": [
    "# create plot for \n",
    "# Filter the data to only include rows where the language is 'english'\n",
    "books_data_filtered = books_data[books_data['language'] == 'en']\n",
    "\n",
    "# Create the figure with dimensions 8 inches wide and 6 inches tall\n",
    "plt.figure(figsize=(8, 6))\n",
    "\n",
    "# Create the countplot\n",
    "sns.countplot(x='maturity_rating', hue='language', data=books_data_filtered)\n",
    "plt.title(\"Number of English books based on maturity rating\")\n",
    "plt.show()\n"
   ]
  },
  {
   "cell_type": "markdown",
   "metadata": {},
   "source": [
    "> Most english books are not_mature"
   ]
  },
  {
   "cell_type": "markdown",
   "metadata": {},
   "source": [
    "## 3.2.2 Final_Dataset"
   ]
  },
  {
   "cell_type": "code",
   "execution_count": 154,
   "metadata": {},
   "outputs": [],
   "source": [
    "# function to plot bivariate analysis\n",
    "def plot_bivariate(df, x, y):\n",
    "    # Take the top 10 value counts for x and y\n",
    "    x_top_10 = x.value_counts().head(10)\n",
    "    y_top_10 = y.value_counts().head(10)\n",
    "\n",
    "    # Create a bivariate bar plot\n",
    "    plt.figure(figsize=(12,6))\n",
    "    ax = sns.barplot(x=x_top_10.index, y=y_top_10.values, hue=y_top_10.index)\n",
    "    plt.title(\"{} vs {}\".format(x.name, y.name))\n",
    "    plt.ylabel(y.name, fontsize=12)\n",
    "    plt.xlabel(x.name, fontsize=12)\n",
    "    plt.xticks(rotation='vertical')\n",
    "    plt.show()"
   ]
  },
  {
   "cell_type": "markdown",
   "metadata": {},
   "source": [
    "#### 3.2.2.1 authors & Year-Of-Publication"
   ]
  },
  {
   "cell_type": "code",
   "execution_count": 155,
   "metadata": {},
   "outputs": [
    {
     "data": {
      "image/png": "[encoded data removed]",
      "text/plain": [
       "<Figure size 864x432 with 1 Axes>"
      ]
     },
     "metadata": {
      "needs_background": "light"
     },
     "output_type": "display_data"
    }
   ],
   "source": [
    "plot_bivariate(Final_Dataset, Final_Dataset['authors'], Final_Dataset['Year-Of-Publication'])\n"
   ]
  },
  {
   "cell_type": "markdown",
   "metadata": {},
   "source": [
    "> Stephen King is the top most author of books published in 2002 and John Grisham in 2001."
   ]
  },
  {
   "cell_type": "markdown",
   "metadata": {},
   "source": [
    "#### 3.2.2.2 Publisher & Book-Rating"
   ]
  },
  {
   "cell_type": "code",
   "execution_count": 156,
   "metadata": {},
   "outputs": [
    {
     "data": {
      "image/png": "[encoded data removed]",
      "text/plain": [
       "<Figure size 864x432 with 1 Axes>"
      ]
     },
     "metadata": {
      "needs_background": "light"
     },
     "output_type": "display_data"
    }
   ],
   "source": [
    "plot_bivariate(Final_Dataset, Final_Dataset['Publisher'], Final_Dataset['Book-Rating'])"
   ]
  },
  {
   "cell_type": "markdown",
   "metadata": {},
   "source": [
    "> Most books published by Ballantine Books, have a rating of 8."
   ]
  },
  {
   "cell_type": "markdown",
   "metadata": {},
   "source": [
    "#### 3.2.2.3 language & categories"
   ]
  },
  {
   "cell_type": "code",
   "execution_count": 157,
   "metadata": {},
   "outputs": [
    {
     "data": {
      "image/png": "[encoded data removed]",
      "text/plain": [
       "<Figure size 864x432 with 1 Axes>"
      ]
     },
     "metadata": {
      "needs_background": "light"
     },
     "output_type": "display_data"
    }
   ],
   "source": [
    "plot_bivariate(Final_Dataset, Final_Dataset['language'], Final_Dataset['categories'])"
   ]
  },
  {
   "cell_type": "markdown",
   "metadata": {},
   "source": [
    "> English is the common language used in fiction books."
   ]
  },
  {
   "cell_type": "markdown",
   "metadata": {},
   "source": [
    "# 4. Modeling"
   ]
  },
  {
   "cell_type": "markdown",
   "metadata": {},
   "source": [
    "## 4.1 Popularity-Based "
   ]
  },
  {
   "cell_type": "code",
   "execution_count": 158,
   "metadata": {},
   "outputs": [
    {
     "name": "stdout",
     "output_type": "stream",
     "text": [
      "                                                                Book-Title  \\\n",
      "31235                Harry Potter and the Chamber of Secrets Postcard Book   \n",
      "71490  The Complete Monty Python's Flying Circus : All the Words, Volume 1   \n",
      "58845                   Route 66 Postcards: Greetings from the Mother Road   \n",
      "94598                              William Shakespeare: The Complete Works   \n",
      "91138                                 Van Gogh Face to Face: The Portraits   \n",
      "20387                                         Dilbert: A Book of Postcards   \n",
      "12546                                                    Calvin and Hobbes   \n",
      "19088                                       Death: The High Cost of Living   \n",
      "81978               The Return of the King (The Lord of the Rings, Part 3)   \n",
      "79653                                               The New Joy of Cooking   \n",
      "\n",
      "       Popularity  \n",
      "31235    9.396347  \n",
      "71490    9.367472  \n",
      "58845    9.267645  \n",
      "94598    9.220413  \n",
      "91138    9.194114  \n",
      "20387    9.183898  \n",
      "12546    9.183135  \n",
      "19088    9.178430  \n",
      "81978    9.155104  \n",
      "79653    9.134387  \n"
     ]
    }
   ],
   "source": [
    "def popular(df, n=10):\n",
    "    # Calculate the number of ratings and the average rating for each book\n",
    "    popular_books = df.groupby(\"Book-Title\").agg({\n",
    "        \"Book-Rating\": [\"count\", \"mean\"]\n",
    "    }).reset_index()\n",
    "    popular_books.columns = [\"Book-Title\", \"NumberOfVotes\", \"AverageRatings\"]\n",
    "    \n",
    "    # Calculate the popularity score for each book using a weighted average of the rating and number of votes\n",
    "    C = popular_books[\"AverageRatings\"].mean()\n",
    "    m = popular_books[\"NumberOfVotes\"].quantile(0.90)\n",
    "    popular_books[\"Popularity\"] = (popular_books[\"NumberOfVotes\"] * popular_books[\"AverageRatings\"] + m * C) / (popular_books[\"NumberOfVotes\"] + m)\n",
    "    \n",
    "    # Sort the books in descending order by popularity score\n",
    "    popular_books = popular_books.sort_values(by=\"Popularity\", ascending=False)\n",
    "    \n",
    "    # Return the top n most popular books\n",
    "    return popular_books[[\"Book-Title\", \"Popularity\"]].head(n)\n",
    "\n",
    "\n",
    "# Recommend the top 10 most popular books\n",
    "recommendations = popular(Final_Dataset, n=10)\n",
    "print(recommendations)"
   ]
  },
  {
   "cell_type": "markdown",
   "metadata": {},
   "source": [
    "## 4.2 Item-Based"
   ]
  },
  {
   "cell_type": "code",
   "execution_count": 159,
   "metadata": {},
   "outputs": [],
   "source": [
    "def item_based(bookTitle):\n",
    "    \n",
    "    # Changing Book Title input to string\n",
    "    bookTitle=str(bookTitle)\n",
    "    \n",
    "    # Classifying books with fewer than 200 ratings as rare and with more than 200 as common\n",
    "    if bookTitle in Final_Dataset[\"Book-Title\"].values:\n",
    "        rating_count=pd.DataFrame(Final_Dataset[\"Book-Title\"].value_counts())\n",
    "        rare_books=rating_count[rating_count[\"Book-Title\"]<=200].index\n",
    "        common_books=Final_Dataset[~Final_Dataset[\"Book-Title\"].isin(rare_books)]\n",
    "        \n",
    "        #Reccomending top 3 most rated books if book title entered is rare\n",
    "        if bookTitle in rare_books:\n",
    "            most_common=pd.Series(common_books[\"Book-Title\"].unique()).sample(3).values\n",
    "            print(\"No Recommendations for this Book ☹️ \\n \")\n",
    "            print(\"YOU MAY TRY: \\n \")\n",
    "            print(*most_common, sep=\"\\n\")\n",
    "       \n",
    "        # Recommending top 5 books with highest correlation to the entered Book Title \n",
    "        else:\n",
    "            common_books_pivot=common_books.pivot_table(index=[\"User-ID\"],columns=[\"Book-Title\"],values=\"Book-Rating\")\n",
    "            title=common_books_pivot[bookTitle]\n",
    "            recommendation_df=pd.DataFrame(common_books_pivot.corrwith(title).sort_values(ascending=False)).reset_index(drop=False)\n",
    "            \n",
    "            if bookTitle in [title for title in recommendation_df[\"Book-Title\"]]:\n",
    "                recommendation_df=recommendation_df.drop(recommendation_df[recommendation_df[\"Book-Title\"]==bookTitle].index[0])\n",
    "                \n",
    "            less_rating=[]\n",
    "            for i in recommendation_df[\"Book-Title\"]:\n",
    "                if Final_Dataset[Final_Dataset[\"Book-Title\"]==i][\"Book-Rating\"].mean() < 5:\n",
    "                    less_rating.append(i)\n",
    "            if recommendation_df.shape[0] - len(less_rating) > 5:\n",
    "                recommendation_df=recommendation_df[~recommendation_df[\"Book-Title\"].isin(less_rating)]\n",
    "                \n",
    "            recommendation_df=recommendation_df[0:5]\n",
    "            recommendation_df.columns=[\"Book-Title\",\"Correlation\"]\n",
    "            \n",
    "            print(\"WOULD YOU LIKE to TRY THESE BOOKS?\")\n",
    "            for title, corr in zip(recommendation_df['Book-Title'], recommendation_df['Correlation']):\n",
    "                print(title, corr)\n",
    "                \n",
    "    else:\n",
    "        most_pop = popular(Final_Dataset, n=10)\n",
    "        print(\" COULD NOT FIND \")\n",
    "        print(\"Consider our Most Popular Books\")\n",
    "        print(most_pop)"
   ]
  },
  {
   "cell_type": "code",
   "execution_count": 160,
   "metadata": {},
   "outputs": [
    {
     "name": "stdout",
     "output_type": "stream",
     "text": [
      "WOULD YOU LIKE to TRY THESE BOOKS?\n",
      "Left Behind: A Novel of the Earth's Last Days (Left Behind No. 1) 1.0\n",
      "The Chamber 0.9999999999999999\n",
      "She's Come Undone (Oprah's Book Club) 0.9999999999999999\n",
      "The Poisonwood Bible: A Novel 0.9999999999999999\n",
      "Timeline 0.944911182523068\n"
     ]
    }
   ],
   "source": [
    "item_based(\"Me Talk Pretty One Day\")"
   ]
  },
  {
   "cell_type": "code",
   "execution_count": 161,
   "metadata": {},
   "outputs": [
    {
     "name": "stdout",
     "output_type": "stream",
     "text": [
      "No Recommendations for this Book ☹️ \n",
      " \n",
      "YOU MAY TRY: \n",
      " \n",
      "The Testament\n",
      "Full House (Janet Evanovich's Full Series)\n",
      "A Time to Kill\n"
     ]
    }
   ],
   "source": [
    "item_based(\"Black House\")"
   ]
  },
  {
   "cell_type": "code",
   "execution_count": 162,
   "metadata": {},
   "outputs": [
    {
     "name": "stdout",
     "output_type": "stream",
     "text": [
      " COULD NOT FIND \n",
      "Consider our Most Popular Books\n",
      "                                                                Book-Title  \\\n",
      "31235                Harry Potter and the Chamber of Secrets Postcard Book   \n",
      "71490  The Complete Monty Python's Flying Circus : All the Words, Volume 1   \n",
      "58845                   Route 66 Postcards: Greetings from the Mother Road   \n",
      "94598                              William Shakespeare: The Complete Works   \n",
      "91138                                 Van Gogh Face to Face: The Portraits   \n",
      "20387                                         Dilbert: A Book of Postcards   \n",
      "12546                                                    Calvin and Hobbes   \n",
      "19088                                       Death: The High Cost of Living   \n",
      "81978               The Return of the King (The Lord of the Rings, Part 3)   \n",
      "79653                                               The New Joy of Cooking   \n",
      "\n",
      "       Popularity  \n",
      "31235    9.396347  \n",
      "71490    9.367472  \n",
      "58845    9.267645  \n",
      "94598    9.220413  \n",
      "91138    9.194114  \n",
      "20387    9.183898  \n",
      "12546    9.183135  \n",
      "19088    9.178430  \n",
      "81978    9.155104  \n",
      "79653    9.134387  \n"
     ]
    }
   ],
   "source": [
    "item_based(\"Barbie\")"
   ]
  },
  {
   "cell_type": "markdown",
   "metadata": {},
   "source": [
    "## 4.3 User Based"
   ]
  },
  {
   "cell_type": "code",
   "execution_count": 175,
   "metadata": {},
   "outputs": [],
   "source": [
    "#Pivot Table of users who have voted >200 times (less computational demand)\n",
    "new_df=Final_Dataset[Final_Dataset['User-ID'].map(Final_Dataset['User-ID'].value_counts()) > 200]\n",
    "#new_df = Final_Dataset.groupby('User-ID').filter(lambda x: len(x) > 200)  # Drop users who vote less than 200 times.\n",
    "users_pivot = new_df.pivot_table(index=[\"User-ID\"], columns=[\"Book-Title\"], values=\"Book-Rating\").fillna(0)\n",
    "#print(new_df)"
   ]
  },
  {
   "cell_type": "code",
   "execution_count": 164,
   "metadata": {},
   "outputs": [],
   "source": [
    "def users_choice(id):\n",
    "\n",
    "    users_fav = new_df[new_df[\"User-ID\"]==id].nlargest(5, 'Book-Rating')\n",
    "    return users_fav"
   ]
  },
  {
   "cell_type": "code",
   "execution_count": 165,
   "metadata": {},
   "outputs": [],
   "source": [
    "def user_based(new_df,id):\n",
    "    if id not in new_df[\"User-ID\"].values:\n",
    "        print(\" User NOT FOUND \")\n",
    "    else:\n",
    "        index=np.where(users_pivot.index==id)[0][0]\n",
    "        similarity=cosine_similarity(users_pivot)\n",
    "        similar_users=sorted(enumerate(similarity[index]),key = lambda x:x[1],reverse=True)[0:5]\n",
    "        user_rec=[]\n",
    "        for i in similar_users:\n",
    "            data=Final_Dataset[Final_Dataset[\"User-ID\"]==users_pivot.index[i[0]]]\n",
    "            user_rec.extend(data.drop_duplicates(\"User-ID\")[\"User-ID\"].values) \n",
    "    return user_rec"
   ]
  },
  {
   "cell_type": "code",
   "execution_count": 166,
   "metadata": {},
   "outputs": [],
   "source": [
    "def common(new_df, user, user_id):\n",
    "    x=new_df[new_df[\"User-ID\"]==user_id]\n",
    "    user_books = x[\"Book-Title\"].tolist()\n",
    "    user_titles = set(user_books)\n",
    "    \n",
    "    recommend_books = []\n",
    "    for i in user:\n",
    "        y = new_df[(new_df[\"User-ID\"]==i)]\n",
    "        books = y[~y[\"Book-Title\"].isin(user_titles)].sort_values([\"Book-Rating\"],ascending=False)[0:5]\n",
    "        recommend_books.extend(books[\"Book-Title\"].tolist())\n",
    "    \n",
    "    return recommend_books[0:5]"
   ]
  },
  {
   "cell_type": "code",
   "execution_count": 214,
   "metadata": {},
   "outputs": [
    {
     "name": "stdout",
     "output_type": "stream",
     "text": [
      " USER: 234828 \n",
      "Your Favourite Books are:\n",
      "\n",
      "[\"Ender's Game (Ender Wiggins Saga (Paperback))\" 'Orson Scott Card'\n",
      " 'Fiction']\n",
      "['Sphere' 'MICHAEL CRICHTON' 'Fiction']\n",
      "['Magic Kingdom for Sale - Sold! (Magic Kingdom of Landover)'\n",
      " 'Terry Brooks' 'Fiction']\n",
      "['Stupid White Men ...and Other Sorry Excuses for the State of the Nation!'\n",
      " 'Michael Moore' 'Political Science']\n",
      "['Dune (Remembering Tomorrow)' 'Frank Herbert' 'Fiction']\n",
      "\n",
      "\n",
      "You might also like:\n",
      "\n",
      "['The Diary of Ellen Rimbauer: My Life at Rose Red' 'Joyce Reardon'\n",
      " 'Fiction']\n",
      "['Feast of Fear: Conversations With Stephen King' 'Tim Underwood'\n",
      " 'Biography & Autobiography']\n",
      "['Lair of the Lion' 'Christine Feehan' 'Fiction']\n",
      "['The Butlerian Jihad (Dune Series)' 'Brian Herbert' 'Fiction']\n",
      "['The Butlerian Jihad (Dune Series)' 'Brian Herbert' 'Fiction']\n"
     ]
    }
   ],
   "source": [
    "user_id=random.choice(new_df[\"User-ID\"].values)\n",
    "key_columns = ['Book-Title','Book-Author','categories']\n",
    "user_choice_df=pd.DataFrame(users_choice(user_id))\n",
    "user_favorite=users_choice(user_id)\n",
    "n=len(user_favorite)\n",
    "print(\" USER: {} \".format(user_id))\n",
    "print(\"Your Favourite Books are:\\n\")\n",
    "\n",
    "for i in range(n):\n",
    "    print(new_df.loc[new_df[\"Book-Title\"]==user_choice_df[\"Book-Title\"].tolist()[i]][key_columns].values[0])\n",
    "\n",
    "\n",
    "user_based_rec=user_based(new_df,user_id)\n",
    "books_for_user=common(new_df,user_based_rec,user_id)\n",
    "books_for_userDF=pd.DataFrame(books_for_user,columns=[\"Book-Title\"])    \n",
    "\n",
    "print('\\n')\n",
    "print(\"You might also like:\\n\")\n",
    "for i in range(5):\n",
    "    print(new_df.loc[new_df[\"Book-Title\"]==books_for_userDF[\"Book-Title\"].tolist()[i]][key_columns].values[0])"
   ]
  },
  {
   "cell_type": "markdown",
   "metadata": {},
   "source": [
    "## 4.4 Content Based"
   ]
  },
  {
   "cell_type": "code",
   "execution_count": 172,
   "metadata": {},
   "outputs": [],
   "source": [
    "def content_based_recommender(book_title):\n",
    "    \n",
    "    book_title = str(book_title)\n",
    "    if book_title in Final_Dataset['Book-Title'].values:\n",
    "        rating_counts = pd.DataFrame(Final_Dataset['Book-Title'].value_counts())\n",
    "        rare_books = rating_counts[rating_counts['Book-Title'] <= 100].index\n",
    "        common_books = Final_Dataset[~Final_Dataset['Book-Title'].isin(rare_books)]\n",
    "        common_books = common_books.drop_duplicates(subset=['Book-Title'])\n",
    "        common_books.reset_index(inplace= True)\n",
    "        common_books['index'] = [i for i in range(common_books.shape[0])]\n",
    "        target_cols = ['Book-Title','Book-Author','Publisher','categories']\n",
    "        common_books['combined_features'] = [' '.join(common_books[target_cols].iloc[i,].values) for i in range(common_books[target_cols].shape[0])]\n",
    "        cv = CountVectorizer()\n",
    "        count_matrix = cv.fit_transform(common_books['combined_features'])\n",
    "        cosine_sim = cosine_similarity(count_matrix)\n",
    "        index = common_books[common_books['Book-Title'] == book_title]['index'].values[0]\n",
    "        sim_books = list(enumerate(cosine_sim[index]))\n",
    "        sorted_sim_books = sorted(sim_books,key=lambda x:x[1],\n",
    "                                  reverse=True)[1:6]\n",
    "        \n",
    "        books = []\n",
    "        for i in range(len(sorted_sim_books)):\n",
    "            books.append(common_books[common_books['index'] == sorted_sim_books[i][0]]['Book-Title'].item())\n",
    "\n",
    "        if book_title in rare_books:\n",
    "            random = pd.Series(common_books['Book-Title'].unique()).sample(2).values\n",
    "            print('There are no recommendations for this book')\n",
    "            print('Try: \\n')\n",
    "            print('{}'.format(random[0]),'\\n')\n",
    "            print('{}'.format(random[1]),'\\n')\n",
    "            \n",
    "        else:\n",
    "            print('You may also like these books')\n",
    "            for i in range(len(books)):\n",
    "                print(common_books.loc[common_books['Book-Title'] == books[i]][target_cols])\n",
    "    else:\n",
    "        most_pop = popular(Final_Dataset, n=10)\n",
    "        print('Book not found in the dataset')\n",
    "        print(\"Consider our Most Popular Books\")\n",
    "        print(most_pop)"
   ]
  },
  {
   "cell_type": "code",
   "execution_count": 173,
   "metadata": {},
   "outputs": [
    {
     "name": "stdout",
     "output_type": "stream",
     "text": [
      "You may also like these books\n",
      "   Book-Title   Book-Author        Publisher categories\n",
      "32   The Firm  John Grisham  Doubleday Books    Fiction\n",
      "     Book-Title   Book-Author        Publisher categories\n",
      "39  The Partner  John Grisham  Doubleday Books    Fiction\n",
      "      Book-Title   Book-Author        Publisher categories\n",
      "119  The Chamber  John Grisham  Doubleday Books    Fiction\n",
      "            Book-Title   Book-Author        Publisher categories\n",
      "131  The King of Torts  John Grisham  Doubleday Books    Fiction\n",
      "            Book-Title   Book-Author  Publisher categories\n",
      "48  Skipping Christmas  JOHN GRISHAM  Doubleday    Fiction\n"
     ]
    }
   ],
   "source": [
    "content_based_recommender('The Testament')"
   ]
  },
  {
   "cell_type": "code",
   "execution_count": 174,
   "metadata": {},
   "outputs": [
    {
     "name": "stdout",
     "output_type": "stream",
     "text": [
      "Book not found in the dataset\n",
      "Consider our Most Popular Books\n",
      "                                                                Book-Title  \\\n",
      "31235                Harry Potter and the Chamber of Secrets Postcard Book   \n",
      "71490  The Complete Monty Python's Flying Circus : All the Words, Volume 1   \n",
      "58845                   Route 66 Postcards: Greetings from the Mother Road   \n",
      "94598                              William Shakespeare: The Complete Works   \n",
      "91138                                 Van Gogh Face to Face: The Portraits   \n",
      "20387                                         Dilbert: A Book of Postcards   \n",
      "12546                                                    Calvin and Hobbes   \n",
      "19088                                       Death: The High Cost of Living   \n",
      "81978               The Return of the King (The Lord of the Rings, Part 3)   \n",
      "79653                                               The New Joy of Cooking   \n",
      "\n",
      "       Popularity  \n",
      "31235    9.396347  \n",
      "71490    9.367472  \n",
      "58845    9.267645  \n",
      "94598    9.220413  \n",
      "91138    9.194114  \n",
      "20387    9.183898  \n",
      "12546    9.183135  \n",
      "19088    9.178430  \n",
      "81978    9.155104  \n",
      "79653    9.134387  \n"
     ]
    }
   ],
   "source": [
    "content_based_recommender('Wimpy Kid')"
   ]
  },
  {
   "cell_type": "code",
   "execution_count": null,
   "metadata": {},
   "outputs": [],
   "source": []
  }
 ],
 "metadata": {
  "kernelspec": {
   "display_name": "Python (learn-env)",
   "language": "python",
   "name": "learn-env"
  },
  "language_info": {
   "codemirror_mode": {
    "name": "ipython",
    "version": 3
   },
   "file_extension": ".py",
   "mimetype": "text/x-python",
   "name": "python",
   "nbconvert_exporter": "python",
   "pygments_lexer": "ipython3",
   "version": "3.8.5"
  },
  "vscode": {
   "interpreter": {
    "hash": "0ecbf1faea8edbcf421f3d5110b57129d03932a5726b8477335e9acdbe69a5e2"
   }
  }
 },
 "nbformat": 4,
 "nbformat_minor": 2
}
